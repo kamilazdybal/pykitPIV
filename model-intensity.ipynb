{
 "cells": [
  {
   "cell_type": "code",
   "execution_count": 1,
   "id": "83744042-6a38-476e-a978-4d1892394225",
   "metadata": {},
   "outputs": [],
   "source": [
    "import numpy as np\n",
    "import matplotlib.pyplot as plt"
   ]
  },
  {
   "cell_type": "code",
   "execution_count": 2,
   "id": "045a9653-9f8b-4954-8058-cd65515225e3",
   "metadata": {},
   "outputs": [],
   "source": [
    "peak_intensity = 100"
   ]
  },
  {
   "cell_type": "code",
   "execution_count": 3,
   "id": "c1e8beb5-c9fb-41e2-aeb9-bf47eae6a0b3",
   "metadata": {},
   "outputs": [],
   "source": [
    "particle_radius = 1"
   ]
  },
  {
   "cell_type": "code",
   "execution_count": 4,
   "id": "f329469c-93f1-4873-8001-5d85c8ae4823",
   "metadata": {},
   "outputs": [],
   "source": [
    "coordinate_height = np.linspace(0,2,100)"
   ]
  },
  {
   "cell_type": "code",
   "execution_count": 5,
   "id": "213dbc5f-85ad-432f-afdd-3caa6d506c85",
   "metadata": {},
   "outputs": [],
   "source": [
    "coordinate_width = np.linspace(0,2,100)"
   ]
  },
  {
   "cell_type": "code",
   "execution_count": 29,
   "id": "127427c0-d752-4503-bd9e-0e21589861e0",
   "metadata": {},
   "outputs": [
    {
     "data": {
      "text/plain": [
       "0.1"
      ]
     },
     "execution_count": 29,
     "metadata": {},
     "output_type": "execute_result"
    }
   ],
   "source": [
    "1/10"
   ]
  },
  {
   "cell_type": "code",
   "execution_count": 59,
   "id": "23de2223-707c-473e-b428-6fb63ccaf0f9",
   "metadata": {},
   "outputs": [],
   "source": [
    "def compute_I(peak_intensity,\n",
    "              particle_radius,\n",
    "              coordinate_height,\n",
    "              coordinate_width):\n",
    "    \n",
    "    pixel_value = peak_intensity * np.exp(-(coordinate_height**2 + coordinate_width**2) / (1/5*(particle_radius)**2))\n",
    "\n",
    "    return pixel_value"
   ]
  },
  {
   "cell_type": "code",
   "execution_count": 60,
   "id": "eb7813c4-8c37-4511-8688-0f1678bb108a",
   "metadata": {},
   "outputs": [],
   "source": [
    "I_height = np.array([compute_I(peak_intensity, particle_radius, h, coordinate_width=0) for h in coordinate_height])"
   ]
  },
  {
   "cell_type": "code",
   "execution_count": 61,
   "id": "92c75795-df92-4a8e-99cd-cc41354b72f0",
   "metadata": {},
   "outputs": [
    {
     "data": {
      "text/plain": [
       "[<matplotlib.lines.Line2D at 0x7fabc95399f0>]"
      ]
     },
     "execution_count": 61,
     "metadata": {},
     "output_type": "execute_result"
    },
    {
     "data": {
      "image/png": "[encoded data removed]",
      "text/plain": [
       "<Figure size 640x480 with 1 Axes>"
      ]
     },
     "metadata": {},
     "output_type": "display_data"
    }
   ],
   "source": [
    "plt.plot(coordinate_height, I_height)"
   ]
  },
  {
   "cell_type": "code",
   "execution_count": 62,
   "id": "96bd2f7c-0a66-4ffa-b1b1-bffabb9ebda1",
   "metadata": {},
   "outputs": [
    {
     "data": {
      "text/plain": [
       "1.0101010101010102"
      ]
     },
     "execution_count": 62,
     "metadata": {},
     "output_type": "execute_result"
    }
   ],
   "source": [
    "coordinate_height[50]"
   ]
  },
  {
   "cell_type": "code",
   "execution_count": 63,
   "id": "6a44d731-e966-4f58-85bb-c218325c494b",
   "metadata": {},
   "outputs": [
    {
     "data": {
      "text/plain": [
       "0.6087485009781177"
      ]
     },
     "execution_count": 63,
     "metadata": {},
     "output_type": "execute_result"
    }
   ],
   "source": [
    "I_height[50]/peak_intensity*100"
   ]
  },
  {
   "cell_type": "code",
   "execution_count": null,
   "id": "bd6ef58b-5257-40e4-a6ef-c64879389deb",
   "metadata": {},
   "outputs": [],
   "source": []
  },
  {
   "cell_type": "code",
   "execution_count": null,
   "id": "6c6cdb08-962e-4f86-9fdb-f296f2346aec",
   "metadata": {},
   "outputs": [],
   "source": []
  },
  {
   "cell_type": "code",
   "execution_count": null,
   "id": "92145b1d-7507-477f-87e5-0151f2777d27",
   "metadata": {},
   "outputs": [],
   "source": []
  },
  {
   "cell_type": "code",
   "execution_count": null,
   "id": "241c5e45-a0f2-4cd4-9550-194ff7814fdf",
   "metadata": {},
   "outputs": [],
   "source": []
  }
 ],
 "metadata": {
  "kernelspec": {
   "display_name": "Python 3 (ipykernel)",
   "language": "python",
   "name": "python3"
  },
  "language_info": {
   "codemirror_mode": {
    "name": "ipython",
    "version": 3
   },
   "file_extension": ".py",
   "mimetype": "text/x-python",
   "name": "python",
   "nbconvert_exporter": "python",
   "pygments_lexer": "ipython3",
   "version": "3.10.13"
  }
 },
 "nbformat": 4,
 "nbformat_minor": 5
}
