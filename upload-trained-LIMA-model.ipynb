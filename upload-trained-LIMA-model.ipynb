{
 "cells": [
  {
   "cell_type": "code",
   "execution_count": null,
   "id": "fa30ec91-cf4b-43fa-b75e-5c2be2b01dd5",
   "metadata": {},
   "outputs": [],
   "source": [
    "import sys, os\n",
    "import numpy as np\n",
    "import time\n",
    "from tqdm import tqdm\n",
    "import onnxruntime\n",
    "# import pycuda.driver as cuda\n",
    "import torch\n",
    "\n",
    "# try:\n",
    "#     import pycuda.autoprimaryctx\n",
    "# except ModuleNotFoundError:\n",
    "#     import pycuda.autoinit\n",
    "\n",
    "# print (\"\")\n",
    "# print (\"VERSIONS\")\n",
    "# print(\"pycuda:\",pycuda.VERSION_TEXT)\n",
    "# print(\"cuda version:\",cuda.get_version())\n",
    "# print(\"cuda driver version:\",cuda.get_driver_version())\n",
    "# print (\"\")"
   ]
  },
  {
   "cell_type": "code",
   "execution_count": null,
   "id": "8ac4959e-0db9-458f-b966-9f7f35c1e4bb",
   "metadata": {},
   "outputs": [],
   "source": [
    "from pykitPIV import Particle, FlowField, Motion, Image"
   ]
  },
  {
   "cell_type": "code",
   "execution_count": null,
   "id": "6a76343d-125e-4471-93e7-809d5ed060bc",
   "metadata": {},
   "outputs": [],
   "source": [
    "class ONNXmodel:\n",
    "    \n",
    "    def __init__(self,ONNX_FILE_PATH):\n",
    "        \n",
    "        self.name = \"ONNX\"\n",
    "        # self.providers = ['CUDAExecutionProvider', 'CPUExecutionProvider']\n",
    "        self.providers = ['CPUExecutionProvider']\n",
    "        self.session = onnxruntime.InferenceSession(ONNX_FILE_PATH, \n",
    "                                                    None,\n",
    "                                                    providers=self.providers)\n",
    "        \n",
    "        # get the name of the first input of the model\n",
    "        self.input_name = self.session.get_inputs()[0].name  \n",
    "        print('Input Name:', self.input_name)   \n",
    " \n",
    "    def inference(self,x):\n",
    "        \n",
    "        output = self.session.run([], {self.input_name:x})[0] \n",
    "        output = output[0,:,:,:]\n",
    "        \n",
    "        return output\n",
    "\n",
    "    def test(self,x,target):\n",
    "        \n",
    "        y = self.inference(x)\n",
    "        \n",
    "        return y\n",
    "\n",
    "    def empty(self):\n",
    "        \n",
    "         with torch.no_grad():\n",
    "            torch.cuda.empty_cache()"
   ]
  },
  {
   "cell_type": "code",
   "execution_count": null,
   "id": "46bb1ce9-dcfe-430b-bfbf-209d94cb7e4e",
   "metadata": {},
   "outputs": [],
   "source": [
    "model_file='Lima_L4_PAD_SR2_dyn.onnx'\n",
    "print(\"model:\",model_file,'  exist:',os.path.exists(model_file))"
   ]
  },
  {
   "cell_type": "code",
   "execution_count": null,
   "id": "4d4d5983-da9c-48b4-91db-be523a21ef8f",
   "metadata": {},
   "outputs": [],
   "source": [
    "lima_model = ONNXmodel(model_file)"
   ]
  },
  {
   "cell_type": "code",
   "execution_count": null,
   "id": "bb5124f7-65bc-4747-8107-f677155b9e82",
   "metadata": {},
   "outputs": [],
   "source": [
    "lima_model"
   ]
  },
  {
   "cell_type": "markdown",
   "id": "6c9c13ad-5e09-4175-8741-8c348250e831",
   "metadata": {},
   "source": [
    "## Create sample images for the LIMA model"
   ]
  },
  {
   "cell_type": "code",
   "execution_count": null,
   "id": "a6a8f6a2-ce3a-4a9b-bd65-e6f55b054296",
   "metadata": {},
   "outputs": [],
   "source": [
    "particles = Particle(1, \n",
    "                     size=(256,256), \n",
    "                     size_buffer=10,\n",
    "                     diameters=(2, 2),\n",
    "                     densities=(0.2, 0.2),\n",
    "                     diameter_std=0,\n",
    "                     random_seed=100)\n",
    "\n",
    "flowfield = FlowField(1,\n",
    "                      size=(256,256),\n",
    "                      size_buffer=10,\n",
    "                      random_seed=100)\n",
    "\n",
    "flowfield.generate_random_velocity_field(gaussian_filters=(4, 4),\n",
    "                                         n_gaussian_filter_iter=20,\n",
    "                                         displacement=(4, 4))\n",
    "\n",
    "\n",
    "motion = Motion(particles,\n",
    "                flowfield,\n",
    "                time_separation=1,\n",
    "                particle_loss=(0, 0))\n",
    "\n",
    "motion.runge_kutta_4th(n_steps=20)\n",
    "\n",
    "image = Image(random_seed=100)\n",
    "\n",
    "image.add_particles(particles)\n",
    "image.add_flowfield(flowfield)\n",
    "image.add_motion(motion)\n",
    "image.add_reflected_light(exposures=(0.9, 0.9),\n",
    "                          maximum_intensity=2**16-1,\n",
    "                          laser_beam_thickness=2,\n",
    "                          laser_beam_shape=0.9,\n",
    "                          alpha=1/8)\n",
    "\n",
    "images_I1 = image.remove_buffers(image.images_I1)\n",
    "images_I2 = image.remove_buffers(image.images_I2)\n",
    "\n",
    "images_tensor = image.concatenate_tensors((images_I1, images_I2))\n",
    "\n",
    "targets_tensor = image.remove_buffers(image.get_displacement_field())\n",
    "\n",
    "tensors_dictionary = {\"I\"      : images_tensor, \n",
    "                      \"target\" : targets_tensor}"
   ]
  },
  {
   "cell_type": "code",
   "execution_count": null,
   "id": "5270eb31-c9d1-429a-ae64-395bf79739a6",
   "metadata": {},
   "outputs": [],
   "source": [
    "import matplotlib.pyplot as plt"
   ]
  },
  {
   "cell_type": "code",
   "execution_count": null,
   "id": "571e304b-3410-4eeb-9068-1f03c0b2df09",
   "metadata": {},
   "outputs": [],
   "source": [
    "img = images_tensor[0,:,:,:].astype(np.float32)/np.max(images_tensor[0,:,:,:])"
   ]
  },
  {
   "cell_type": "code",
   "execution_count": null,
   "id": "3528824a-3a83-4910-b605-b14a589df916",
   "metadata": {},
   "outputs": [],
   "source": [
    "pred = lima_model.inference(img)"
   ]
  },
  {
   "cell_type": "code",
   "execution_count": null,
   "id": "04d7afc0-3e96-4d34-9570-41ca5520b7e5",
   "metadata": {},
   "outputs": [],
   "source": [
    "which_component = 0"
   ]
  },
  {
   "cell_type": "code",
   "execution_count": null,
   "id": "d9ae2af9-0160-4b6d-b175-900d81a18b5f",
   "metadata": {},
   "outputs": [],
   "source": [
    "plt.imshow(targets_tensor[0,which_component,:,:], origin='lower')\n",
    "plt.colorbar()"
   ]
  },
  {
   "cell_type": "code",
   "execution_count": null,
   "id": "fa81c8fb-29a6-4f3b-8a21-aecea086f4b0",
   "metadata": {},
   "outputs": [],
   "source": [
    "plt.imshow(pred[which_component,:,:], origin='lower')\n",
    "plt.colorbar()"
   ]
  },
  {
   "cell_type": "code",
   "execution_count": null,
   "id": "7af82e4a-dce7-4ed1-b777-e9069daae1fa",
   "metadata": {},
   "outputs": [],
   "source": []
  },
  {
   "cell_type": "code",
   "execution_count": null,
   "id": "453e4775-ad5c-4413-ac5f-b6fb33f42674",
   "metadata": {},
   "outputs": [],
   "source": []
  },
  {
   "cell_type": "code",
   "execution_count": null,
   "id": "89003c31-3ead-4265-8a20-274cc7e781d4",
   "metadata": {},
   "outputs": [],
   "source": []
  },
  {
   "cell_type": "code",
   "execution_count": null,
   "id": "054c5ca0-fbac-45bf-81d8-a01696714fea",
   "metadata": {},
   "outputs": [],
   "source": []
  },
  {
   "cell_type": "code",
   "execution_count": null,
   "id": "4f82e0ce-553b-4a80-81ec-3b8a2f850ce4",
   "metadata": {},
   "outputs": [],
   "source": []
  },
  {
   "cell_type": "code",
   "execution_count": null,
   "id": "2c4064fb-6aed-481b-87af-0cb46b874245",
   "metadata": {},
   "outputs": [],
   "source": []
  },
  {
   "cell_type": "code",
   "execution_count": null,
   "id": "ca2754cb-bd88-458c-b6a7-90c8dfed3b06",
   "metadata": {},
   "outputs": [],
   "source": []
  },
  {
   "cell_type": "code",
   "execution_count": null,
   "id": "acc551b8-7aa8-4985-9e23-25e75a903d7f",
   "metadata": {},
   "outputs": [],
   "source": []
  },
  {
   "cell_type": "markdown",
   "id": "c27bf66f-d169-4c15-8a2a-12bd3ad7552f",
   "metadata": {},
   "source": [
    "***"
   ]
  }
 ],
 "metadata": {
  "kernelspec": {
   "display_name": "Python 3 (ipykernel)",
   "language": "python",
   "name": "python3"
  },
  "language_info": {
   "codemirror_mode": {
    "name": "ipython",
    "version": 3
   },
   "file_extension": ".py",
   "mimetype": "text/x-python",
   "name": "python",
   "nbconvert_exporter": "python",
   "pygments_lexer": "ipython3",
   "version": "3.10.16"
  }
 },
 "nbformat": 4,
 "nbformat_minor": 5
}
