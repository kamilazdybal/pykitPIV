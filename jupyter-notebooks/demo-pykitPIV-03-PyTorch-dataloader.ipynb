{
 "cells": [
  {
   "cell_type": "markdown",
   "id": "3334ff70-add2-4d60-ab1a-d1bc3dd501d7",
   "metadata": {},
   "source": [
    "<a id=top-page></a>\n",
    "\n",
    "# `pykitPIV` demo: Create a **PyTorch** data loader\n",
    "\n",
    "<div class=\"alert alert-block alert-info\" style=\"margin-top: 20px\">\n",
    "<font size=\"3\"><strong>Table of contents:</strong></font>\n",
    "<br>\n",
    "<ol>\n",
    "    <li><a href=\"#upload-images\">Upload pykitPIV-generated images \n",
    "</a></li>\n",
    "</ol>\n",
    "<p></p>\n",
    "</div>\n",
    "<br>\n",
    "\n",
    "***"
   ]
  },
  {
   "cell_type": "code",
   "execution_count": 6,
   "id": "9634c100-9f76-41ac-b37e-37abedecddea",
   "metadata": {},
   "outputs": [],
   "source": [
    "import numpy as np\n",
    "import h5py\n",
    "from torch.utils.data import Dataset\n",
    "from torch.utils.data import DataLoader"
   ]
  },
  {
   "cell_type": "markdown",
   "id": "5bdedc10-9e08-447d-9e9f-55aea1ff9a31",
   "metadata": {},
   "source": [
    "<a id=upload-images></a>\n",
    "\n",
    "***\n",
    "\n",
    "## Upload `pykitPIV`-generated images \n",
    "\n",
    "[Go to the top](#top-page)"
   ]
  },
  {
   "cell_type": "code",
   "execution_count": 10,
   "id": "f33f73c7-fa3e-4212-b0d4-d02c86a5df18",
   "metadata": {},
   "outputs": [],
   "source": [
    "path = '../docs/data/pykitPIV-dataset-10-PIV-pairs-256-by-256.h5'"
   ]
  },
  {
   "cell_type": "code",
   "execution_count": 15,
   "id": "4a63f5ff-0398-4f11-bb85-84eea586e727",
   "metadata": {},
   "outputs": [],
   "source": []
  },
  {
   "cell_type": "code",
   "execution_count": null,
   "id": "9a311278-f640-4155-a9e7-351a0786ed65",
   "metadata": {},
   "outputs": [],
   "source": []
  },
  {
   "cell_type": "code",
   "execution_count": null,
   "id": "1c874582-bd9c-4649-ad49-18625101182e",
   "metadata": {},
   "outputs": [],
   "source": []
  },
  {
   "cell_type": "code",
   "execution_count": null,
   "id": "26688104-91cf-4e23-9e12-116dcb835fcd",
   "metadata": {},
   "outputs": [],
   "source": []
  },
  {
   "cell_type": "code",
   "execution_count": null,
   "id": "2f89883e-b486-4d53-80a7-3e2c3d21c3c3",
   "metadata": {},
   "outputs": [],
   "source": []
  },
  {
   "cell_type": "markdown",
   "id": "e14150a9-9284-4548-a5bf-6302cb30af9a",
   "metadata": {},
   "source": [
    "***"
   ]
  }
 ],
 "metadata": {
  "kernelspec": {
   "display_name": "Python 3 (ipykernel)",
   "language": "python",
   "name": "python3"
  },
  "language_info": {
   "codemirror_mode": {
    "name": "ipython",
    "version": 3
   },
   "file_extension": ".py",
   "mimetype": "text/x-python",
   "name": "python",
   "nbconvert_exporter": "python",
   "pygments_lexer": "ipython3",
   "version": "3.10.13"
  }
 },
 "nbformat": 4,
 "nbformat_minor": 5
}
