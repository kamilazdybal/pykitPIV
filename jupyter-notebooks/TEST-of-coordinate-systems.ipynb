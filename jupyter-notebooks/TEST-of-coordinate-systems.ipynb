{
 "cells": [
  {
   "cell_type": "markdown",
   "id": "d34af596-a25d-4bc3-bb4c-8cc5ca79a2bc",
   "metadata": {},
   "source": [
    "<a id=top-page></a>\n",
    "# `pykitPIV` demo: Generate synthetic images\n",
    "\n",
    "<div class=\"alert alert-block alert-info\" style=\"margin-top: 20px\">\n",
    "<font size=\"3\"><strong>Table of contents:</strong></font>\n",
    "<br>\n",
    "<ol>\n",
    "    <li><a href=\"#generate-particles\">Generate particles</a></li>\n",
    "    <li><a href=\"#generate-velocity-field\">Generate random velocity field to advect the particles</a></li>\n",
    "    <li><a href=\"#add-movement\">Add movement to particles</a></li>\n",
    "        <ul>\n",
    "        <li><a href=\"#add-movement-update-time-sep\">Update time separation</a></li>\n",
    "        <li><a href=\"#add-movement-visualize\">Visualize the PIV image pair</a></li>\n",
    "        </ul>\n",
    "    <li><a href=\"#save\">Save the dataset</a></li>\n",
    "    <li><a href=\"#upload\">Upload the saved datasets</a></li>\n",
    "</ol>\n",
    "<p></p>\n",
    "</div>\n",
    "<br>\n",
    "\n",
    "***"
   ]
  },
  {
   "cell_type": "code",
   "execution_count": 1,
   "id": "b31c20d3-0b0e-419a-aa20-faf737bad71a",
   "metadata": {},
   "outputs": [],
   "source": [
    "import matplotlib.pyplot as plt"
   ]
  },
  {
   "cell_type": "code",
   "execution_count": 2,
   "id": "c09c299e-f3c9-4540-be38-ce1c0d34a5a9",
   "metadata": {},
   "outputs": [],
   "source": [
    "import numpy as np\n",
    "import cmcrameri.cm as cmc\n",
    "from pykitPIV import Particle, FlowField, Motion, Image"
   ]
  },
  {
   "cell_type": "code",
   "execution_count": 3,
   "id": "1b4bd879-09a8-435b-b51e-7796105a3971",
   "metadata": {},
   "outputs": [],
   "source": [
    "n_images = 1"
   ]
  },
  {
   "cell_type": "code",
   "execution_count": 4,
   "id": "9784ce47-1361-41ea-be98-b5f210e933c7",
   "metadata": {},
   "outputs": [],
   "source": [
    "image_size = (10,10)"
   ]
  },
  {
   "cell_type": "code",
   "execution_count": 5,
   "id": "0fe7c360-00e6-4280-91c4-8a38049ff599",
   "metadata": {},
   "outputs": [],
   "source": [
    "size_buffer = 0"
   ]
  },
  {
   "cell_type": "code",
   "execution_count": 6,
   "id": "82dddecb-1881-491f-bf60-4130640064fb",
   "metadata": {},
   "outputs": [],
   "source": [
    "figsize = (6,6)"
   ]
  },
  {
   "cell_type": "markdown",
   "id": "f11826a6-d2db-458f-86c7-b363d336482f",
   "metadata": {},
   "source": [
    "<a id=generate-particles></a>\n",
    "***\n",
    "\n",
    "## Generate particles\n",
    "\n",
    "[Go to the top](#top-page)"
   ]
  },
  {
   "cell_type": "code",
   "execution_count": 44,
   "id": "668c1c86-28d6-4306-86a9-64994f39d562",
   "metadata": {},
   "outputs": [],
   "source": [
    "particles = Particle(n_images, \n",
    "                     size=image_size, \n",
    "                     size_buffer=size_buffer,\n",
    "                     diameters=(2,4),\n",
    "                     distances=(1,2),\n",
    "                     densities=(0.02,0.05),\n",
    "                     signal_to_noise=(5,20),\n",
    "                     diameter_std=0.5,\n",
    "                     seeding_mode='random', \n",
    "                     random_seed=3)"
   ]
  },
  {
   "cell_type": "code",
   "execution_count": 45,
   "id": "092ebce0-26b8-47ea-b4f3-8a16bd2882df",
   "metadata": {},
   "outputs": [
    {
     "data": {
      "text/plain": [
       "[(array([8.92946954, 8.96293089, 1.2558531 ]),\n",
       "  array([2.07242878, 0.51467203, 4.40809844]))]"
      ]
     },
     "execution_count": 45,
     "metadata": {},
     "output_type": "execute_result"
    }
   ],
   "source": [
    "particles.particle_coordinates"
   ]
  },
  {
   "cell_type": "code",
   "execution_count": 52,
   "id": "21c6fa6c-6889-4c3b-9e1b-41a55de5a245",
   "metadata": {},
   "outputs": [
    {
     "data": {
      "text/plain": [
       "<matplotlib.collections.PathCollection at 0x7fcc8455d090>"
      ]
     },
     "execution_count": 52,
     "metadata": {},
     "output_type": "execute_result"
    },
    {
     "data": {
      "image/png": "[encoded data removed]",
      "text/plain": [
       "<Figure size 640x480 with 1 Axes>"
      ]
     },
     "metadata": {},
     "output_type": "display_data"
    }
   ],
   "source": [
    "plt.scatter(particles.particle_coordinates[0][1], particles.particle_coordinates[0][0])"
   ]
  },
  {
   "cell_type": "code",
   "execution_count": 54,
   "id": "8bd28d93-a8e5-4927-9e00-88865969d449",
   "metadata": {},
   "outputs": [
    {
     "data": {
      "text/plain": [
       "array([[0., 0., 0., 0., 0., 0., 0., 0., 0., 0.],\n",
       "       [1., 0., 1., 0., 0., 0., 0., 0., 0., 0.],\n",
       "       [0., 0., 0., 0., 0., 0., 0., 0., 0., 0.],\n",
       "       [0., 0., 0., 0., 0., 0., 0., 0., 0., 0.],\n",
       "       [0., 0., 0., 0., 0., 0., 0., 0., 0., 0.],\n",
       "       [0., 0., 0., 0., 0., 0., 0., 0., 0., 0.],\n",
       "       [0., 0., 0., 0., 0., 0., 0., 0., 0., 0.],\n",
       "       [0., 0., 0., 0., 0., 0., 0., 0., 0., 0.],\n",
       "       [0., 0., 0., 0., 1., 0., 0., 0., 0., 0.],\n",
       "       [0., 0., 0., 0., 0., 0., 0., 0., 0., 0.]])"
      ]
     },
     "execution_count": 54,
     "metadata": {},
     "output_type": "execute_result"
    }
   ],
   "source": [
    "DD = particles.particle_positions[0,0,:,:]\n",
    "np.flipud(DD)"
   ]
  },
  {
   "cell_type": "code",
   "execution_count": 48,
   "id": "e3b9684b-cc7b-45d6-9616-5917767c449a",
   "metadata": {},
   "outputs": [],
   "source": [
    "image = Image(random_seed=100)"
   ]
  },
  {
   "cell_type": "code",
   "execution_count": 49,
   "id": "edde6684-d987-4327-979d-03733f51bd2c",
   "metadata": {},
   "outputs": [
    {
     "name": "stdout",
     "output_type": "stream",
     "text": [
      "Particles added to the image.\n"
     ]
    }
   ],
   "source": [
    "image.add_particles(particles)"
   ]
  },
  {
   "cell_type": "code",
   "execution_count": 50,
   "id": "b6221954-0c64-47b7-89d0-03e81ff0bffa",
   "metadata": {},
   "outputs": [
    {
     "data": {
      "image/png": "[encoded data removed]",
      "text/plain": [
       "<Figure size 600x600 with 1 Axes>"
      ]
     },
     "metadata": {},
     "output_type": "display_data"
    }
   ],
   "source": [
    "image.plot(0, \n",
    "           with_buffer=True,\n",
    "           xlabel='Width [px]',\n",
    "           ylabel='Height [px]',\n",
    "           title='Particle positions',\n",
    "           cmap='Greys',\n",
    "           figsize=figsize, \n",
    "           filename='particle-positions.png');"
   ]
  },
  {
   "cell_type": "code",
   "execution_count": 40,
   "id": "4190c398-b85c-4525-8b14-b2def4e1ce32",
   "metadata": {},
   "outputs": [
    {
     "name": "stdout",
     "output_type": "stream",
     "text": [
      "Reflected light added to images I1.\n"
     ]
    }
   ],
   "source": [
    "image.add_reflected_light(exposures=(0.6,0.65),\n",
    "                          maximum_intensity=2**16-1,\n",
    "                          laser_beam_thickness=1,\n",
    "                          laser_over_exposure=1,\n",
    "                          laser_beam_shape=0.99,\n",
    "                          alpha=1/20)"
   ]
  },
  {
   "cell_type": "code",
   "execution_count": null,
   "id": "fec7239f-7e64-474e-b082-eacdee76e378",
   "metadata": {},
   "outputs": [],
   "source": [
    "image.plot(0, \n",
    "           with_buffer=True,\n",
    "           xlabel='Width [px]',\n",
    "           ylabel='Height [px]',\n",
    "           title='Example PIV image',\n",
    "           cmap='Greys_r',\n",
    "           figsize=figsize, \n",
    "           filename='example-image.png');"
   ]
  },
  {
   "cell_type": "markdown",
   "id": "bd93f567-4a14-4eeb-9d0c-684b22ad2cee",
   "metadata": {},
   "source": [
    "<a id=generate-velocity-field></a>\n",
    "***\n",
    "\n",
    "## Generate random velocity field to advect the particles\n",
    "\n",
    "[Go to the top](#top-page)"
   ]
  },
  {
   "cell_type": "code",
   "execution_count": null,
   "id": "44803731-4187-4bac-acf4-80a8486cef26",
   "metadata": {},
   "outputs": [],
   "source": [
    "flowfield = FlowField(n_images,\n",
    "                      size=image_size,\n",
    "                      size_buffer=size_buffer,\n",
    "                      random_seed=100)"
   ]
  },
  {
   "cell_type": "code",
   "execution_count": null,
   "id": "4a559dab-6cf0-4ba0-9553-738e15628c23",
   "metadata": {},
   "outputs": [],
   "source": [
    "flowfield.generate_random_velocity_field(gaussian_filters=(10,11),\n",
    "                                         n_gaussian_filter_iter=2,\n",
    "                                         displacement=(0,10))"
   ]
  },
  {
   "cell_type": "code",
   "execution_count": null,
   "id": "d55805e0-dbe0-47ab-ba32-fa3205889754",
   "metadata": {},
   "outputs": [],
   "source": [
    "image.add_flowfield(flowfield)"
   ]
  },
  {
   "cell_type": "code",
   "execution_count": null,
   "id": "62b1259c-ec6e-4566-b526-b6f6b128b533",
   "metadata": {},
   "outputs": [],
   "source": [
    "image.plot_velocity_field(0,\n",
    "                          with_buffer=True,\n",
    "                          xlabel='Width [px]',\n",
    "                          ylabel='Height [px]',\n",
    "                          title=('Example random velocity component $u$', 'Example random velocity component $v$'),\n",
    "                          cmap=cmc.oslo_r,\n",
    "                          figsize=figsize,\n",
    "                          filename='example-random-velocity-field.png');"
   ]
  },
  {
   "cell_type": "code",
   "execution_count": null,
   "id": "79d51181-e375-4e82-abe1-d3f708626d58",
   "metadata": {},
   "outputs": [],
   "source": [
    "image.plot_velocity_field_magnitude(0,\n",
    "                                    with_buffer=True,\n",
    "                                    xlabel='Width [px]',\n",
    "                                    ylabel='Height [px]',\n",
    "                                    title='Example random velocity field magnitude',\n",
    "                                    cmap=cmc.oslo_r,\n",
    "                                    figsize=figsize,\n",
    "                                    filename='example-random-velocity-field-magnitude.png');"
   ]
  },
  {
   "cell_type": "code",
   "execution_count": null,
   "id": "8768c1ba-d5b3-446d-b13a-8ab1716d9854",
   "metadata": {},
   "outputs": [],
   "source": [
    "image.plot_velocity_field_magnitude(0,\n",
    "                                    with_buffer=False,\n",
    "                                    add_quiver=True,\n",
    "                                    quiver_step=10,\n",
    "                                    quiver_color='r',\n",
    "                                    xlabel='Width [px]',\n",
    "                                    ylabel='Height [px]',\n",
    "                                    title='Example random velocity field magnitude',\n",
    "                                    cmap=cmc.oslo_r,\n",
    "                                    figsize=figsize,\n",
    "                                    filename='example-random-velocity-field-magnitude-quiver.png');"
   ]
  },
  {
   "cell_type": "code",
   "execution_count": null,
   "id": "421e7d9e-ddb6-4705-a02e-10cb264650b2",
   "metadata": {},
   "outputs": [],
   "source": [
    "image.plot_velocity_field_magnitude(0,\n",
    "                                    with_buffer=False,\n",
    "                                    add_streamplot=True,\n",
    "                                    streamplot_density=1,\n",
    "                                    streamplot_color='g',\n",
    "                                    xlabel='Width [px]',\n",
    "                                    ylabel='Height [px]',\n",
    "                                    title='Example random velocity field magnitude',\n",
    "                                    cmap=cmc.oslo_r,\n",
    "                                    figsize=figsize,\n",
    "                                    filename='example-random-velocity-field-magnitude-streamplot.png');"
   ]
  },
  {
   "cell_type": "markdown",
   "id": "7007a2b5-cb23-4fa6-9b0f-7940c544c3bb",
   "metadata": {},
   "source": [
    "<a id=add-movement></a>\n",
    "***\n",
    "\n",
    "## Add movement to particles\n",
    "\n",
    "[Go to the top](#top-page)"
   ]
  },
  {
   "cell_type": "code",
   "execution_count": null,
   "id": "23e3ea95-e22d-404a-86c0-03dc1b214224",
   "metadata": {},
   "outputs": [],
   "source": [
    "motion = Motion(particles, \n",
    "                flowfield, \n",
    "                time_separation=0.1)"
   ]
  },
  {
   "cell_type": "code",
   "execution_count": null,
   "id": "01600018-dc1c-481f-b115-789d99f81137",
   "metadata": {},
   "outputs": [],
   "source": [
    "motion.runge_kutta_4th(n_steps=10)"
   ]
  },
  {
   "cell_type": "code",
   "execution_count": null,
   "id": "9a6b1a88-0ce7-4bd4-9c00-2788b7b1748f",
   "metadata": {},
   "outputs": [],
   "source": [
    "particles.particle_coordinates"
   ]
  },
  {
   "cell_type": "code",
   "execution_count": null,
   "id": "01e85b31-8ac3-40a3-8dd5-895fb3a7cc1a",
   "metadata": {},
   "outputs": [],
   "source": [
    "motion.particle_coordinates_I1"
   ]
  },
  {
   "cell_type": "code",
   "execution_count": null,
   "id": "bb4f55a2-af76-49f6-a8e1-582abb584d6e",
   "metadata": {},
   "outputs": [],
   "source": [
    "motion.plot_particle_motion(0,\n",
    "                            s=60,\n",
    "                            color_I1='k',\n",
    "                            color_I2='r',\n",
    "                            xlabel='Width [px]',\n",
    "                            ylabel='Height [px]',\n",
    "                            title='Displacement of particles',\n",
    "                            figsize=figsize,\n",
    "                            filename='particle-displacement-1.png');"
   ]
  },
  {
   "cell_type": "markdown",
   "id": "701e31f8-f8c2-43cd-8a92-76e0067d7f1f",
   "metadata": {},
   "source": [
    "<a id=add-movement-visualize></a>\n",
    "\n",
    "#### Visualize the PIV image pair:\n",
    "\n",
    "[Go to the top](#top-page)"
   ]
  },
  {
   "cell_type": "code",
   "execution_count": null,
   "id": "e5d0a8e4-aad6-4748-a7f6-47d414f2f280",
   "metadata": {},
   "outputs": [],
   "source": [
    "image.add_motion(motion)"
   ]
  },
  {
   "cell_type": "code",
   "execution_count": null,
   "id": "a5c88608-79bb-4696-90d6-fcc83091bdb4",
   "metadata": {},
   "outputs": [],
   "source": [
    "image.add_reflected_light(exposures=(0.6,0.65),\n",
    "                          maximum_intensity=2**16-1,\n",
    "                          laser_beam_thickness=1,\n",
    "                          laser_over_exposure=1,\n",
    "                          laser_beam_shape=0.99,\n",
    "                          alpha=1/3)"
   ]
  },
  {
   "cell_type": "code",
   "execution_count": null,
   "id": "2d1d04a0-fc78-4d44-8f85-acb7b25f6937",
   "metadata": {},
   "outputs": [],
   "source": [
    "image.plot(0, \n",
    "           instance=1,\n",
    "           with_buffer=True,\n",
    "           xlabel='Width [px]',\n",
    "           ylabel='Height [px]',\n",
    "           title='Example PIV image $I_1$',\n",
    "           cmap='Greys_r',\n",
    "           figsize=figsize, \n",
    "           filename='example-image-I1-with-buffer.png');"
   ]
  },
  {
   "cell_type": "code",
   "execution_count": null,
   "id": "eb678ab6-6433-4341-a524-1c7c8b6eebf5",
   "metadata": {},
   "outputs": [],
   "source": [
    "image.plot(0, \n",
    "           instance=2,\n",
    "           with_buffer=True,\n",
    "           xlabel='Width [px]',\n",
    "           ylabel='Height [px]',\n",
    "           title='Example PIV image $I_2$',\n",
    "           cmap='Greys_r',\n",
    "           figsize=figsize, \n",
    "           filename='example-image-I2-with-buffer.png');"
   ]
  },
  {
   "cell_type": "code",
   "execution_count": null,
   "id": "87eb045a-2333-4a95-84b6-e2e733863db7",
   "metadata": {},
   "outputs": [],
   "source": [
    "image.images_I1.shape"
   ]
  },
  {
   "cell_type": "markdown",
   "id": "1864e562-8db8-4b57-ae14-2f140cf92383",
   "metadata": {},
   "source": [
    "<a id=save></a>\n",
    "***\n",
    "\n",
    "## Save the dataset\n",
    "\n",
    "[Go to the top](#top-page)"
   ]
  },
  {
   "cell_type": "markdown",
   "id": "8a7bb61e-b4e9-4a08-b03d-19254ead45c2",
   "metadata": {},
   "source": [
    "Note, that at the last stage of the PIV image generation we may want to remove buffers from the image by running the `Image.remove_buffers()` function:"
   ]
  },
  {
   "cell_type": "code",
   "execution_count": null,
   "id": "88b33751-dd32-4b32-a24d-87655cc2cb8e",
   "metadata": {},
   "outputs": [],
   "source": [
    "image.remove_buffers()"
   ]
  },
  {
   "cell_type": "code",
   "execution_count": null,
   "id": "3620e676-7977-4d54-ba2e-8caf5b2b5623",
   "metadata": {},
   "outputs": [],
   "source": [
    "images_tensor = image.image_pairs_to_tensor()"
   ]
  },
  {
   "cell_type": "code",
   "execution_count": null,
   "id": "acea7f05-da9d-4d11-9af0-9a3ef67d16d0",
   "metadata": {},
   "outputs": [],
   "source": [
    "images_tensor.shape"
   ]
  },
  {
   "cell_type": "code",
   "execution_count": null,
   "id": "3f762d6a-dbae-4630-95a1-2cadbf67a2a8",
   "metadata": {},
   "outputs": [],
   "source": [
    "targets_tensor = image.targets_to_tensor()"
   ]
  },
  {
   "cell_type": "code",
   "execution_count": null,
   "id": "041e5bd2-5662-4f0c-99a4-976be0c6a476",
   "metadata": {},
   "outputs": [],
   "source": [
    "tensors_dictionary = {\"I\"      : images_tensor, \n",
    "                      \"targets\": targets_tensor}"
   ]
  },
  {
   "cell_type": "code",
   "execution_count": null,
   "id": "ba75b50a-8fb9-479b-8502-5069ae7d1412",
   "metadata": {},
   "outputs": [],
   "source": [
    "image.save_to_h5(tensors_dictionary, \n",
    "                 filename='pykitPIV-tutorial-PIV-pairs.h5')"
   ]
  },
  {
   "cell_type": "markdown",
   "id": "eacd6e50-34ba-4eaa-bbcb-f53cdc8d4d3f",
   "metadata": {},
   "source": [
    "<a id=upload></a>\n",
    "***\n",
    "\n",
    "## Upload the saved dataset\n",
    "\n",
    "[Go to the top](#top-page)"
   ]
  },
  {
   "cell_type": "markdown",
   "id": "9e0a4f8e-3dd3-456e-b3bd-6ca49475104b",
   "metadata": {},
   "source": [
    "The standalone import of previously saved PIV image pairs and the associated targets can be performed following this minimal example:"
   ]
  },
  {
   "cell_type": "code",
   "execution_count": null,
   "id": "dc7432b6-216a-4533-a136-1ffbf17738cb",
   "metadata": {},
   "outputs": [],
   "source": [
    "from pykitPIV import Image"
   ]
  },
  {
   "cell_type": "code",
   "execution_count": null,
   "id": "0b7a29d9-49a2-4dd3-afa6-9310658d07ca",
   "metadata": {},
   "outputs": [],
   "source": [
    "image = Image()"
   ]
  },
  {
   "cell_type": "code",
   "execution_count": null,
   "id": "8c7f8177-87c4-46e6-81e9-d7c4af988e8b",
   "metadata": {},
   "outputs": [],
   "source": [
    "tensors_dictionary_uploaded = image.upload_from_h5(filename='pykitPIV-tutorial-PIV-pairs.h5')"
   ]
  },
  {
   "cell_type": "markdown",
   "id": "5e17063f-c88b-49e4-a3e1-5d90293b68f2",
   "metadata": {},
   "source": [
    "***"
   ]
  }
 ],
 "metadata": {
  "kernelspec": {
   "display_name": "Python 3 (ipykernel)",
   "language": "python",
   "name": "python3"
  },
  "language_info": {
   "codemirror_mode": {
    "name": "ipython",
    "version": 3
   },
   "file_extension": ".py",
   "mimetype": "text/x-python",
   "name": "python",
   "nbconvert_exporter": "python",
   "pygments_lexer": "ipython3",
   "version": "3.10.13"
  }
 },
 "nbformat": 4,
 "nbformat_minor": 5
}
