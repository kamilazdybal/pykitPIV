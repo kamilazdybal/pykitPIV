{
 "cells": [
  {
   "cell_type": "markdown",
   "id": "3334ff70-add2-4d60-ab1a-d1bc3dd501d7",
   "metadata": {},
   "source": [
    "<a id=top-page></a>\n",
    "\n",
    "# `pykitPIV` demo: Integrate synthetic image generation with training a convolutional neural network (CNN)\n",
    "\n",
    "In this Jupyter notebook, we show how the synthetic PIV image generation can be integrated with training the\n",
    "lightweight image matching architecture (LIMA) model in one Python workflow.\n",
    "\n",
    "For more information on kinematic training of convolutional neural networks (CNNs) using synthetic PIV/BOS images, please\n",
    "check the following references:\n",
    "\n",
    "- [Kinematic training of convolutional neural networks for particle image velocimetry](https://iopscience.iop.org/article/10.1088/1361-6501/ac8fae/meta)\n",
    "\n",
    "- [A lightweight neural network designed for fluid velocimetry](https://link.springer.com/article/10.1007/s00348-023-03695-8)\n",
    "\n",
    "- [A lightweight convolutional neural network to reconstruct deformation in BOS recordings](https://link.springer.com/article/10.1007/s00348-023-03618-7)\n",
    "\n",
    "\n",
    "<div class=\"alert alert-block alert-info\" style=\"margin-top: 20px\">\n",
    "<font size=\"3\"><strong>Table of contents:</strong></font>\n",
    "<br>\n",
    "<ol>\n",
    "    <li><a href=\"#synthetic-images\">Generate synthetic images with <code>pykitPIV</code></a></li>\n",
    "        <ul>\n",
    "        <li><a href=\"#synthetic-images-training-set\">Training set</a></li>\n",
    "        <li><a href=\"#synthetic-images-testing-set\">Testing set</a></li>\n",
    "        </ul>\n",
    "    <li><a href=\"#train-LIMA\">Train LIMA with the generated images</a></li>\n",
    "        <ul>\n",
    "        <li><a href=\"#train-LIMA-input-data\">Prepare input dataset generated with <code>pykitPIV</code> for LIMA</a></li>\n",
    "        <li><a href=\"#train-LIMA-run\">Run LIMA training</a></li>\n",
    "        </ul>\n",
    "    <li><a href=\"#predict\">Make predictions from the trained network</a></li>\n",
    "</ol>\n",
    "<p></p>\n",
    "</div>\n",
    "<br>\n",
    "\n",
    "***"
   ]
  },
  {
   "cell_type": "code",
   "execution_count": 1,
   "id": "603d26ae-d712-41bf-9990-92c4248bf185",
   "metadata": {},
   "outputs": [
    {
     "name": "stdout",
     "output_type": "stream",
     "text": [
      "lvpyio module is not available on macOS.\n"
     ]
    },
    {
     "name": "stderr",
     "output_type": "stream",
     "text": [
      "/Users/kamilazdybal/anaconda3/envs/lima-pykitPIV/lib/python3.10/site-packages/lima/__init__.py:14: UserWarning: GPU not available and could not be checked!\n",
      "  warn(\"GPU not available and could not be checked!\")\n",
      "2025-05-26 18:24:49.482646: I tensorflow/core/platform/cpu_feature_guard.cc:210] This TensorFlow binary is optimized to use available CPU instructions in performance-critical operations.\n",
      "To enable the following instructions: AVX2 FMA, in other operations, rebuild TensorFlow with the appropriate compiler flags.\n"
     ]
    }
   ],
   "source": [
    "import argparse\n",
    "import os\n",
    "import time\n",
    "import pytorch_lightning as pl\n",
    "import torchvision.transforms\n",
    "from rich import print\n",
    "from torch.utils.data import DataLoader\n",
    "import lima\n",
    "import glob\n",
    "import h5py\n",
    "import skimage.io as io\n",
    "import torch\n",
    "from torch.utils.data import Dataset\n",
    "import matplotlib.pyplot as plt\n",
    "from matplotlib.colors import LogNorm\n",
    "import numpy as np\n",
    "import cmcrameri.cm as cmc\n",
    "from pykitPIV import Particle, FlowField, Motion, Image\n",
    "from pykitPIV import PIVDatasetPyTorch"
   ]
  },
  {
   "cell_type": "code",
   "execution_count": 2,
   "id": "4a31101b-7bc1-4dce-a4cc-dbcef49d30fc",
   "metadata": {},
   "outputs": [],
   "source": [
    "save_images = False\n",
    "filename = None"
   ]
  },
  {
   "cell_type": "code",
   "execution_count": 3,
   "id": "579f51f3-aa49-42c4-a40c-c76383a385fe",
   "metadata": {},
   "outputs": [],
   "source": [
    "figsize = (5,3)"
   ]
  },
  {
   "cell_type": "markdown",
   "id": "5bdedc10-9e08-447d-9e9f-55aea1ff9a31",
   "metadata": {},
   "source": [
    "<a id=synthetic-images></a>\n",
    "\n",
    "***\n",
    "\n",
    "## Generate synthetic images with `pykitPIV`\n",
    "\n",
    "[Go to the top](#top-page)\n",
    "\n",
    "We define the PIV image sizes $(128 \\text{px} \\times 128 \\text{px})$\n",
    "and we specify a $2 \\text{px}$ buffer for the image size.\n",
    "The buffer prevents particle density to artificially decrease near image boundaries due to particle movement\n",
    "towards the interior of an image.\n",
    "With the buffer, particles that reside within the $2 \\text{px}$ outline from the boundary of image frame $I_1$\n",
    "are able to enter the proper image area in image frame $I_2$."
   ]
  },
  {
   "cell_type": "code",
   "execution_count": 4,
   "id": "fa469657-bb96-40e8-b865-2616be55b216",
   "metadata": {},
   "outputs": [],
   "source": [
    "image_size = (64,64)"
   ]
  },
  {
   "cell_type": "code",
   "execution_count": 5,
   "id": "a00898fb-0eeb-47f2-9d40-402739689623",
   "metadata": {},
   "outputs": [],
   "source": [
    "size_buffer = 2"
   ]
  },
  {
   "cell_type": "markdown",
   "id": "3aa6c54f-f066-4bde-9dc3-2ce592bcda67",
   "metadata": {},
   "source": [
    "Below, we define a function for generating train and test PIV image pairs and the flow targets (velocity components $u$ and $v$).\n"
   ]
  },
  {
   "cell_type": "code",
   "execution_count": 24,
   "id": "68e85233-0a70-421a-98a3-56ed768867a2",
   "metadata": {},
   "outputs": [],
   "source": [
    "def generate_images(n_images, random_seed):\n",
    "\n",
    "    # Instantiate an object of the Particle class:\n",
    "    particles = Particle(n_images,\n",
    "                         size=image_size,\n",
    "                         size_buffer=size_buffer,\n",
    "                         diameters=1,\n",
    "                         densities=0.5,\n",
    "                         diameter_std=0.2,\n",
    "                         seeding_mode='random',\n",
    "                         dtype=np.float32,\n",
    "                         random_seed=random_seed)\n",
    "\n",
    "    # Instantiate an object of the FlowField class:\n",
    "    flowfield = FlowField(n_images,\n",
    "                          size=image_size,\n",
    "                          size_buffer=size_buffer,\n",
    "                          time_separation=1,\n",
    "                          dtype=np.float32,\n",
    "                          random_seed=random_seed)\n",
    "\n",
    "    flowfield.generate_random_velocity_field(gaussian_filters=(10,11),\n",
    "                                             n_gaussian_filter_iter=10,\n",
    "                                             displacement=(1,2))\n",
    "\n",
    "    # Instantiate an object of the Motion class:\n",
    "    motion = Motion(particles, \n",
    "                    flowfield, \n",
    "                    particle_loss=(0,2), \n",
    "                    particle_gain='matching',\n",
    "                    dtype=np.float32)\n",
    "\n",
    "    # Instantiate an object of the Image class:\n",
    "    image = Image(dtype=np.float32,\n",
    "                  random_seed=random_seed)\n",
    "\n",
    "    # Prepare images - - - - - - - - - - - - - - - - - - \n",
    "\n",
    "    image.add_particles(particles)\n",
    "\n",
    "    image.add_flowfield(flowfield)\n",
    "            \n",
    "    motion.forward_euler(n_steps=10)\n",
    "    \n",
    "    image.add_motion(motion)\n",
    "    \n",
    "    image.add_reflected_light(exposures=0.98,\n",
    "                              maximum_intensity=2**16-1,\n",
    "                              laser_beam_thickness=1,\n",
    "                              laser_over_exposure=1,\n",
    "                              laser_beam_shape=0.95,\n",
    "                              alpha=1/8)\n",
    "    \n",
    "    return image"
   ]
  },
  {
   "cell_type": "markdown",
   "id": "0f1b7a28-04ed-45a7-9085-082f14d94cd6",
   "metadata": {},
   "source": [
    "<a id=synthetic-images-testing-set></a>\n",
    "\n",
    "### Testing set\n",
    "\n",
    "[Go to the top](#top-page)"
   ]
  },
  {
   "cell_type": "markdown",
   "id": "31b2187c-883c-43c5-9f5f-dde87b0cb5da",
   "metadata": {},
   "source": [
    "The test set will have 10 image pairs:"
   ]
  },
  {
   "cell_type": "code",
   "execution_count": 25,
   "id": "7f510c1b-b8c1-49a4-8e61-67bb13e48fb3",
   "metadata": {},
   "outputs": [],
   "source": [
    "n_images = 10"
   ]
  },
  {
   "cell_type": "markdown",
   "id": "59b13bea-0661-4726-97da-b2251546647e",
   "metadata": {},
   "source": [
    "Testing dataset can be generated with a different random seed than training dataset to assure a diverse inference from the trained model."
   ]
  },
  {
   "cell_type": "code",
   "execution_count": 26,
   "id": "4668f73b-c0c5-42c5-899a-82e72b8098cd",
   "metadata": {},
   "outputs": [],
   "source": [
    "test_random_seed = 200"
   ]
  },
  {
   "cell_type": "markdown",
   "id": "d6b25004-cf82-462a-8814-96f5e276b665",
   "metadata": {},
   "source": [
    "Call the function that generates image pairs:"
   ]
  },
  {
   "cell_type": "code",
   "execution_count": 27,
   "id": "2f5be74e-4ef9-4f7e-82be-ef19e74fb18a",
   "metadata": {},
   "outputs": [],
   "source": [
    "image_test = generate_images(n_images, test_random_seed)"
   ]
  },
  {
   "cell_type": "markdown",
   "id": "891438f8-8375-4729-8ec6-90b8a6fe58dd",
   "metadata": {},
   "source": [
    "Finally, we convert the generated images and their corresponding targets to 4-dimensional tensors:"
   ]
  },
  {
   "cell_type": "code",
   "execution_count": 28,
   "id": "af150ca2-e48b-40c0-bc78-6c86bb294928",
   "metadata": {},
   "outputs": [],
   "source": [
    "images_I1 = image_test.remove_buffers(image_test.images_I1)\n",
    "images_I1 = images_I1 / 65535\n",
    "images_I2 = image_test.remove_buffers(image_test.images_I2)\n",
    "images_I2 = images_I2 / 65535\n",
    "\n",
    "velocity_field = image_test.remove_buffers(image_test.get_velocity_field())\n",
    "displacement_field = image_test.remove_buffers(image_test.get_displacement_field())\n",
    "\n",
    "images_intensities = image_test.concatenate_tensors((images_I1, images_I2))\n",
    "\n",
    "tensors_dictionary_test = {\"I\"      : images_intensities, \n",
    "                           \"targets\" : displacement_field}"
   ]
  },
  {
   "cell_type": "code",
   "execution_count": 29,
   "id": "b3b06c11-aa70-4be7-bb61-473233b1e60b",
   "metadata": {},
   "outputs": [
    {
     "data": {
      "text/plain": [
       "(10, 2, 64, 64)"
      ]
     },
     "execution_count": 29,
     "metadata": {},
     "output_type": "execute_result"
    }
   ],
   "source": [
    "images_intensities.shape"
   ]
  },
  {
   "cell_type": "code",
   "execution_count": 30,
   "id": "5d3d4fd2-e8a5-44e1-9cf1-19728f1d55ac",
   "metadata": {},
   "outputs": [
    {
     "data": {
      "text/plain": [
       "(10, 2, 64, 64)"
      ]
     },
     "execution_count": 30,
     "metadata": {},
     "output_type": "execute_result"
    }
   ],
   "source": [
    "displacement_field.shape"
   ]
  },
  {
   "cell_type": "code",
   "execution_count": 31,
   "id": "5b03ccff-bc70-477c-8353-140d5da09bff",
   "metadata": {},
   "outputs": [
    {
     "data": {
      "image/png": "[encoded data removed]",
      "text/plain": [
       "<Figure size 500x300 with 1 Axes>"
      ]
     },
     "metadata": {},
     "output_type": "display_data"
    }
   ],
   "source": [
    "image_test.plot(0,\n",
    "                 instance=1,\n",
    "                 with_buffer=True,\n",
    "                 xlabel='Width [px]',\n",
    "                 ylabel='Height [px]',\n",
    "                 cmap='Greys_r',\n",
    "                 figsize=figsize);"
   ]
  },
  {
   "cell_type": "code",
   "execution_count": 32,
   "id": "4ab95e9b-cc37-471b-9632-682780ec981d",
   "metadata": {},
   "outputs": [
    {
     "data": {
      "image/png": "[encoded data removed]",
      "text/plain": [
       "<Figure size 400x300 with 2 Axes>"
      ]
     },
     "metadata": {},
     "output_type": "display_data"
    },
    {
     "data": {
      "image/png": "[encoded data removed]",
      "text/plain": [
       "<Figure size 400x300 with 2 Axes>"
      ]
     },
     "metadata": {},
     "output_type": "display_data"
    }
   ],
   "source": [
    "image_test.plot_field(0,\n",
    "                       cmap='Blues',\n",
    "                       cbar=True,\n",
    "                       figsize=(4,3));"
   ]
  },
  {
   "cell_type": "markdown",
   "id": "fc64d21f-c1fe-4750-ac1c-f35d67a432c2",
   "metadata": {},
   "source": [
    "<a id=synthetic-images-training-set></a>\n",
    "\n",
    "### Training set\n",
    "\n",
    "[Go to the top](#top-page)"
   ]
  },
  {
   "cell_type": "markdown",
   "id": "7f553e40-be62-4459-a698-26aede7872dd",
   "metadata": {},
   "source": [
    "The training set will have 1000 image pairs:"
   ]
  },
  {
   "cell_type": "code",
   "execution_count": 33,
   "id": "8efa253c-0507-48b3-928b-46f2a5c0e7c1",
   "metadata": {},
   "outputs": [],
   "source": [
    "n_images = 500"
   ]
  },
  {
   "cell_type": "markdown",
   "id": "c395e4f9-1653-4bc8-936d-147190b2dc62",
   "metadata": {},
   "source": [
    "We fix a random seed for generating the training set of PIV images:"
   ]
  },
  {
   "cell_type": "code",
   "execution_count": 34,
   "id": "f6f99854-fe8b-4851-8f3a-7f8d7c6b09ab",
   "metadata": {},
   "outputs": [],
   "source": [
    "training_random_seed = 100"
   ]
  },
  {
   "cell_type": "markdown",
   "id": "eaece54e-392a-43ec-9a91-9f25af05e927",
   "metadata": {},
   "source": [
    "Call the function that generates image pairs:"
   ]
  },
  {
   "cell_type": "code",
   "execution_count": 35,
   "id": "476aa953-6f12-40cc-ae46-042d84103067",
   "metadata": {},
   "outputs": [
    {
     "data": {
      "text/html": [
       "<pre style=\"white-space:pre;overflow-x:auto;line-height:normal;font-family:Menlo,'DejaVu Sans Mono',consolas,'Courier New',monospace\">        Training time: <span style=\"color: #008080; text-decoration-color: #008080; font-weight: bold\">3.6</span> minutes.\n",
       "----------------------------------------\n",
       "</pre>\n"
      ],
      "text/plain": [
       "        Training time: \u001b[1;36m3.6\u001b[0m minutes.\n",
       "----------------------------------------\n"
      ]
     },
     "metadata": {},
     "output_type": "display_data"
    }
   ],
   "source": [
    "tic = time.perf_counter()\n",
    "\n",
    "image_train = generate_images(n_images, training_random_seed)\n",
    "\n",
    "toc = time.perf_counter()\n",
    "\n",
    "print(f'\\tData generation time: {(toc - tic)/60:0.1f} minutes.\\n' + '-'*40)"
   ]
  },
  {
   "cell_type": "markdown",
   "id": "4b1e4af6-c5ec-43f8-b2db-548d3ec59b5d",
   "metadata": {},
   "source": [
    "Finally, we convert the generated images and their corresponding targets to 4-dimensional tensors:"
   ]
  },
  {
   "cell_type": "code",
   "execution_count": 36,
   "id": "3f210e90-931c-4ec1-a62f-801d15a15fd5",
   "metadata": {},
   "outputs": [],
   "source": [
    "images_I1 = image_train.remove_buffers(image_train.images_I1)\n",
    "images_I1 = images_I1 / 65535\n",
    "images_I2 = image_train.remove_buffers(image_train.images_I2)\n",
    "images_I2 = images_I2 / 65535\n",
    "\n",
    "velocity_field = image_train.remove_buffers(image_train.get_velocity_field())\n",
    "displacement_field = image_train.remove_buffers(image_train.get_displacement_field())\n",
    "\n",
    "images_intensities = image_train.concatenate_tensors((images_I1, images_I2))\n",
    "\n",
    "tensors_dictionary_train = {\"I\"      : images_intensities, \n",
    "                            \"targets\" : displacement_field}"
   ]
  },
  {
   "cell_type": "code",
   "execution_count": 37,
   "id": "62d8cb11-d2a7-4083-abb0-a8629b180052",
   "metadata": {},
   "outputs": [
    {
     "data": {
      "image/png": "[encoded data removed]",
      "text/plain": [
       "<Figure size 500x300 with 1 Axes>"
      ]
     },
     "metadata": {},
     "output_type": "display_data"
    }
   ],
   "source": [
    "image_train.plot(0,\n",
    "                 instance=1,\n",
    "                 with_buffer=True,\n",
    "                 xlabel='Width [px]',\n",
    "                 ylabel='Height [px]',\n",
    "                 cmap='Greys_r',\n",
    "                 figsize=figsize);"
   ]
  },
  {
   "cell_type": "code",
   "execution_count": 38,
   "id": "99dfb1be-a049-4eae-a31b-a41f8ee161e3",
   "metadata": {},
   "outputs": [
    {
     "data": {
      "image/png": "[encoded data removed]",
      "text/plain": [
       "<Figure size 400x300 with 2 Axes>"
      ]
     },
     "metadata": {},
     "output_type": "display_data"
    },
    {
     "data": {
      "image/png": "[encoded data removed]",
      "text/plain": [
       "<Figure size 400x300 with 2 Axes>"
      ]
     },
     "metadata": {},
     "output_type": "display_data"
    }
   ],
   "source": [
    "image_train.plot_field(0,\n",
    "                       cmap='Blues',\n",
    "                       cbar=True,\n",
    "                       figsize=(4,3));"
   ]
  },
  {
   "cell_type": "markdown",
   "id": "2c9529ac-04f7-45a7-b392-8bc7b6379c8a",
   "metadata": {},
   "source": [
    "<a id=train-LIMA></a>\n",
    "***\n",
    "\n",
    "## Train `LIMA` with the generated images\n",
    "\n",
    "[Go to the top](#top-page)"
   ]
  },
  {
   "cell_type": "markdown",
   "id": "a6c7e34e-b9d5-4801-bdb1-8edd07ccd4c3",
   "metadata": {},
   "source": [
    "<a id=train-LIMA-input-data></a>\n",
    "### Prepare input dataset generated with `pykitPIV` for LIMA\n",
    "\n",
    "[Go to the top](#top-page)"
   ]
  },
  {
   "cell_type": "code",
   "execution_count": null,
   "id": "79dda2f1-e53d-4d3c-894c-d28c09cad3ef",
   "metadata": {},
   "outputs": [],
   "source": [
    "batch_size = 128"
   ]
  },
  {
   "cell_type": "markdown",
   "id": "0657e78a-ef5c-443b-b634-d8d642d74fe8",
   "metadata": {},
   "source": [
    "We use the dedicated dataset primitive using the `PIVDatasetPyTorch` class:"
   ]
  },
  {
   "cell_type": "code",
   "execution_count": null,
   "id": "47c03743-51dc-4818-a10f-15b5998aa3d7",
   "metadata": {},
   "outputs": [],
   "source": [
    "train_dataset = PIVDatasetPyTorch(dataset=tensors_dictionary_train, transform=None)\n",
    "test_dataset = PIVDatasetPyTorch(dataset=tensors_dictionary_test, transform=None)"
   ]
  },
  {
   "cell_type": "markdown",
   "id": "370bb917-0a6a-468c-a676-0ad09032c588",
   "metadata": {},
   "source": [
    "And we create a PyTorch data loader:"
   ]
  },
  {
   "cell_type": "code",
   "execution_count": null,
   "id": "81197faf-ee2d-464b-8f09-dbe9ce372ada",
   "metadata": {},
   "outputs": [],
   "source": [
    "train_loader = DataLoader(train_dataset,\n",
    "                          batch_size=batch_size,\n",
    "                          shuffle=True, \n",
    "                          num_workers=1,\n",
    "                          pin_memory=True)\n",
    "\n",
    "test_loader = DataLoader(test_dataset,\n",
    "                         batch_size=batch_size,\n",
    "                         shuffle=True)"
   ]
  },
  {
   "cell_type": "markdown",
   "id": "68b64556-51d8-44b3-8de8-d8ee1d0e93c5",
   "metadata": {},
   "source": [
    "<a id=train-LIMA-run></a>\n",
    "### Run LIMA training\n",
    "\n",
    "[Go to the top](#top-page)"
   ]
  },
  {
   "cell_type": "code",
   "execution_count": null,
   "id": "284c02df-f0b8-4468-a52b-eb64f8c9cf2c",
   "metadata": {},
   "outputs": [],
   "source": [
    "random_seed = 100"
   ]
  },
  {
   "cell_type": "code",
   "execution_count": null,
   "id": "80c371af-27e4-46ff-8c54-20658c8ba1fa",
   "metadata": {},
   "outputs": [],
   "source": [
    "pl.seed_everything(random_seed, workers=True)"
   ]
  },
  {
   "cell_type": "code",
   "execution_count": null,
   "id": "c25a7dce-568d-4476-bd0a-1a66a1586860",
   "metadata": {},
   "outputs": [],
   "source": [
    "len_train_loader = len(train_loader)"
   ]
  },
  {
   "cell_type": "markdown",
   "id": "08cfa054-af86-4245-96f6-8064a80dc84a",
   "metadata": {},
   "source": [
    "Define the LIMA model:"
   ]
  },
  {
   "cell_type": "code",
   "execution_count": null,
   "id": "1ab5d40f-d5c9-42bd-8b4c-1feb5f4a1685",
   "metadata": {},
   "outputs": [],
   "source": [
    "div_flow = 0.05\n",
    "loss_weights = [0.32, 0.08, 0.02, 0.01, 0.005, 0.0025, 0.00125]\n",
    "search_range = 2\n",
    "num_chs = [1, 16, 32, 64, 96, 128, 196]\n",
    "num_chs = [1, 16, 32]\n",
    "output_level = 4\n",
    "loss = 'l1_loss'\n",
    "loss_weights_order = 'inc'\n",
    "loss_J = 'abs'\n",
    "loss_J_gamma = 1e-1\n",
    "full_res = False\n",
    "full_res_loss_weight_multiplier = 2.0\n",
    "n_epochs = 50\n",
    "padding_mode = 'replicate'"
   ]
  },
  {
   "cell_type": "code",
   "execution_count": null,
   "id": "c313fe7e-3496-4630-b61e-9a6508f525c8",
   "metadata": {},
   "outputs": [],
   "source": [
    "model = lima.LIMA(div_flow=div_flow,\n",
    "                  loss_weights=loss_weights,\n",
    "                  search_range=search_range,\n",
    "                  num_chs=num_chs,\n",
    "                  output_level=output_level,\n",
    "                  loss=loss,\n",
    "                  loss_weights_order=loss_weights_order,\n",
    "                  loss_J=loss_J,\n",
    "                  loss_J_gamma=loss_J_gamma,\n",
    "                  full_res=full_res,\n",
    "                  full_res_loss_weight_multiplier=full_res_loss_weight_multiplier,\n",
    "                  epochs=n_epochs,\n",
    "                  optimizer='Adam',\n",
    "                  padding_mode=padding_mode,\n",
    "                  base_lr=0.001,\n",
    "                  weight_decay=4e-4,\n",
    "                  momentum=0.9,\n",
    "                  num_workers=20,\n",
    "                  beta=0.999,\n",
    "                  reduction=\"sum\",\n",
    "                  scheduler='ReduceLROnPlateau',\n",
    "                  lr_decay=0.2,\n",
    "                  patience=5)"
   ]
  },
  {
   "cell_type": "code",
   "execution_count": null,
   "id": "0b85c26e-e5af-423c-bf74-ef51f540c77a",
   "metadata": {},
   "outputs": [],
   "source": [
    "trainer = pl.Trainer(max_epochs=n_epochs)"
   ]
  },
  {
   "cell_type": "code",
   "execution_count": null,
   "id": "27093e8b-3395-4e01-adc5-0857d7f0830d",
   "metadata": {},
   "outputs": [],
   "source": [
    "tic = time.perf_counter()\n",
    "\n",
    "trainer.fit(model,\n",
    "            train_loader,\n",
    "            test_loader)\n",
    "\n",
    "toc = time.perf_counter()\n",
    "\n",
    "print(f'\\tTraining time: {(toc - tic)/60:0.1f} minutes.\\n' + '-'*40)"
   ]
  },
  {
   "cell_type": "markdown",
   "id": "1c376df4-1cf6-4a4a-a449-97616f514056",
   "metadata": {},
   "source": [
    "<a id=predict></a>\n",
    "***\n",
    "\n",
    "## Make predictions from the trained network\n",
    "\n",
    "[Go to the top](#top-page)"
   ]
  },
  {
   "cell_type": "markdown",
   "id": "84340a7e-baf3-4b8b-94a3-509034f75789",
   "metadata": {},
   "source": [
    "### Test data within training distribution\n",
    "\n",
    "[Go to the top](#top-page)"
   ]
  },
  {
   "cell_type": "code",
   "execution_count": null,
   "id": "cdf0a00f-d8af-490f-ba71-f2ef67952347",
   "metadata": {},
   "outputs": [],
   "source": [
    "image_to_show = 1"
   ]
  },
  {
   "cell_type": "markdown",
   "id": "162269dd-8aa8-4c4b-9e77-0a9fd4e4be21",
   "metadata": {},
   "source": [
    "Ground truth displacement fields:"
   ]
  },
  {
   "cell_type": "code",
   "execution_count": null,
   "id": "b402dc3b-2859-4d7a-afc1-75e7b179a652",
   "metadata": {},
   "outputs": [],
   "source": [
    "ground_truth_ds = tensors_dictionary_test[\"targets\"]\n",
    "ground_truth_I = tensors_dictionary_test[\"I\"]"
   ]
  },
  {
   "cell_type": "code",
   "execution_count": null,
   "id": "dc317179-9151-4a01-bbcb-8d8d27d189b1",
   "metadata": {},
   "outputs": [],
   "source": [
    "ground_truth_ds_magnitude = np.sqrt(ground_truth_ds[:,0,:,:]**2 + ground_truth_ds[:,1,:,:]**2)"
   ]
  },
  {
   "cell_type": "markdown",
   "id": "4a0c567c-ba76-4c61-9ad4-018f0fa98b19",
   "metadata": {},
   "source": [
    "Predicted displacement fields:"
   ]
  },
  {
   "cell_type": "code",
   "execution_count": null,
   "id": "082e832f-deb9-4fa9-8400-81cd95b4472f",
   "metadata": {},
   "outputs": [],
   "source": [
    "model.eval()\n",
    "with torch.no_grad():\n",
    "    predicted_ds = model(torch.from_numpy(ground_truth_I).to(dtype=torch.float)).numpy()"
   ]
  },
  {
   "cell_type": "code",
   "execution_count": null,
   "id": "af8ab832-3a2e-4cef-8abd-70b6eb02b8bd",
   "metadata": {},
   "outputs": [],
   "source": [
    "predicted_ds_magnitude = np.sqrt(predicted_ds[:,0,:,:]**2 + predicted_ds[:,1,:,:]**2)"
   ]
  },
  {
   "cell_type": "markdown",
   "id": "58f751da-ebd9-4562-b806-065151ca4673",
   "metadata": {},
   "source": [
    "Compute the error of this prediction:"
   ]
  },
  {
   "cell_type": "code",
   "execution_count": null,
   "id": "e56d90f7-e9da-4db1-8b66-ccd1af4e7749",
   "metadata": {},
   "outputs": [],
   "source": [
    "error_dx = np.abs(ground_truth_ds[image_to_show, 0, :, :] - predicted_ds[image_to_show, 0, :, :])"
   ]
  },
  {
   "cell_type": "code",
   "execution_count": null,
   "id": "312f2444-d09a-4410-92dd-bc209b9b06c7",
   "metadata": {},
   "outputs": [],
   "source": [
    "error_dy = np.abs(ground_truth_ds[image_to_show, 1, :, :] - -predicted_ds[image_to_show, 1, :, :])"
   ]
  },
  {
   "cell_type": "code",
   "execution_count": null,
   "id": "e52338aa-ed9e-4df0-9b5c-daafb3349d2c",
   "metadata": {},
   "outputs": [],
   "source": [
    "error_ds = np.abs(ground_truth_ds_magnitude[image_to_show, :, :] - predicted_ds_magnitude[image_to_show, :, :])"
   ]
  },
  {
   "cell_type": "code",
   "execution_count": null,
   "id": "bf324ff8-419c-4ef6-a0f5-6319e8ad80dd",
   "metadata": {},
   "outputs": [],
   "source": [
    "figure = plt.figure(figsize=(13, 10))\n",
    "spec = figure.add_gridspec(ncols=3, nrows=3, width_ratios=[1, 1, 1], height_ratios=[1, 1, 1])\n",
    "\n",
    "cmap = cmc.oslo\n",
    "\n",
    "# Displacement in the x-direction:\n",
    "\n",
    "figure_a = figure.add_subplot(spec[0,0])\n",
    "plt.imshow(ground_truth_ds[image_to_show, 0, :, :], \n",
    "           cmap=cmap, \n",
    "           origin='lower')\n",
    "plt.colorbar()\n",
    "plt.title('True $dx$')\n",
    "\n",
    "figure_b = figure.add_subplot(spec[0,1])\n",
    "plt.imshow(predicted_ds[image_to_show, 0, :, :], \n",
    "           cmap=cmap, \n",
    "           origin='lower',\n",
    "           vmin=np.min(ground_truth_ds[image_to_show, 0, :, :]),\n",
    "           vmax=np.max(ground_truth_ds[image_to_show, 0, :, :]))\n",
    "plt.colorbar()\n",
    "plt.title('Predicted $dx$')\n",
    "\n",
    "figure_c = figure.add_subplot(spec[0,2])\n",
    "plt.imshow(error_dx, \n",
    "           cmap='Reds', \n",
    "           origin='lower')\n",
    "plt.colorbar()\n",
    "plt.title('Relative error in $dx$')\n",
    "\n",
    "# Displacement in the y-direction:\n",
    "\n",
    "figure_d = figure.add_subplot(spec[1,0])\n",
    "plt.imshow(ground_truth_ds[image_to_show, 1, :, :], \n",
    "           cmap=cmap, \n",
    "           origin='lower')\n",
    "plt.colorbar()\n",
    "plt.title('True $dy$')\n",
    "\n",
    "figure_e = figure.add_subplot(spec[1,1])\n",
    "plt.imshow(-predicted_ds[image_to_show, 1, :, :], \n",
    "           cmap=cmap, \n",
    "           origin='lower', )\n",
    "           # vmin=np.min(ground_truth_ds[image_to_show, 1, :, :]),\n",
    "           # vmax=np.max(ground_truth_ds[image_to_show, 1, :, :]))\n",
    "plt.colorbar()\n",
    "plt.title('Predicted $dy$')\n",
    "\n",
    "figure_f = figure.add_subplot(spec[1,2])\n",
    "plt.imshow(error_dy, \n",
    "           cmap='Reds', \n",
    "           origin='lower')\n",
    "plt.colorbar()\n",
    "plt.title('Relative error in $dy$')\n",
    "\n",
    "# Displacement magnitude:\n",
    "\n",
    "figure_g = figure.add_subplot(spec[2,0])\n",
    "plt.imshow(ground_truth_ds_magnitude[image_to_show, :, :], \n",
    "           cmap=cmap, \n",
    "           origin='lower')\n",
    "plt.colorbar()\n",
    "plt.title('True $|ds|$')\n",
    "\n",
    "figure_h = figure.add_subplot(spec[2,1])\n",
    "plt.imshow(predicted_ds_magnitude[image_to_show, :, :], \n",
    "           cmap=cmap, \n",
    "           origin='lower',\n",
    "           vmin=np.min(ground_truth_ds_magnitude[image_to_show, :, :]),\n",
    "           vmax=np.max(ground_truth_ds_magnitude[image_to_show, :, :]))\n",
    "plt.colorbar()\n",
    "plt.title('Predicted $|ds|$')\n",
    "\n",
    "figure_i = figure.add_subplot(spec[2,2])\n",
    "plt.imshow(error_ds, \n",
    "           cmap='Reds', \n",
    "           origin='lower')\n",
    "plt.colorbar()\n",
    "plt.title('Relative error in $|ds|$');"
   ]
  },
  {
   "cell_type": "markdown",
   "id": "5709bf52-1a2f-4b5b-ad5e-ff1418628d6f",
   "metadata": {},
   "source": [
    "### Test data outside the training distribution\n",
    "\n",
    "[Go to the top](#top-page)"
   ]
  },
  {
   "cell_type": "code",
   "execution_count": null,
   "id": "27b35b20-25bd-4a6d-88b9-ab434eb8e2e5",
   "metadata": {},
   "outputs": [],
   "source": [
    "def generate_images_checkered(n_images, random_seed):\n",
    "\n",
    "    # Instantiate an object of the Particle class:\n",
    "    particles = Particle(n_images,\n",
    "                         size=image_size,\n",
    "                         size_buffer=size_buffer,\n",
    "                         diameters=2,\n",
    "                         densities=0.1,\n",
    "                         diameter_std=0.2,\n",
    "                         seeding_mode='random',\n",
    "                         random_seed=random_seed)\n",
    "\n",
    "    # Instantiate an object of the FlowField class:\n",
    "    flowfield = FlowField(n_images,\n",
    "                          size=image_size,\n",
    "                          size_buffer=size_buffer,\n",
    "                          time_separation=1,\n",
    "                          random_seed=random_seed)\n",
    "\n",
    "    # Generate checkered velocity field:\n",
    "    flowfield.generate_checkered_velocity_field(displacement=(1, 2),\n",
    "                                                m=3,\n",
    "                                                n=3,\n",
    "                                                rotation=10)\n",
    "\n",
    "    # Instantiate an object of the Motion class:\n",
    "    motion = Motion(particles, \n",
    "                    flowfield, \n",
    "                    particle_loss=(0,2), \n",
    "                    particle_gain='matching')\n",
    "\n",
    "    # Instantiate an object of the Image class:\n",
    "    image = Image(random_seed=random_seed)\n",
    "\n",
    "    # Prepare images - - - - - - - - - - - - - - - - - - \n",
    "\n",
    "    image.add_particles(particles)\n",
    "\n",
    "    image.add_flowfield(flowfield)\n",
    "            \n",
    "    motion.forward_euler(n_steps=10)\n",
    "    \n",
    "    image.add_motion(motion)\n",
    "    \n",
    "    image.add_reflected_light(exposures=(0.9,0.99),\n",
    "                              maximum_intensity=2**16-1,\n",
    "                              laser_beam_thickness=1,\n",
    "                              laser_over_exposure=1,\n",
    "                              laser_beam_shape=0.95,\n",
    "                              alpha=1/8)\n",
    "    \n",
    "    return image"
   ]
  },
  {
   "cell_type": "markdown",
   "id": "c37bd037-da26-42a5-9776-5d51a7600b7b",
   "metadata": {},
   "source": [
    "The test set will have 10 image pairs:"
   ]
  },
  {
   "cell_type": "code",
   "execution_count": null,
   "id": "0a51fb5f-aaf6-4fef-815f-79821373fdc3",
   "metadata": {},
   "outputs": [],
   "source": [
    "n_images = 10"
   ]
  },
  {
   "cell_type": "markdown",
   "id": "d04b6272-5c25-4e73-a203-f155a08ee580",
   "metadata": {},
   "source": [
    "Testing dataset can be generated with a different random seed than training dataset to assure a diverse inference from the trained model."
   ]
  },
  {
   "cell_type": "code",
   "execution_count": null,
   "id": "0e6a642b-145f-4445-9854-ed8e31fe1977",
   "metadata": {},
   "outputs": [],
   "source": [
    "test_random_seed = 200"
   ]
  },
  {
   "cell_type": "markdown",
   "id": "72696a36-1be6-4330-849e-1ee59f40c60b",
   "metadata": {},
   "source": [
    "Call the function that generates image pairs:"
   ]
  },
  {
   "cell_type": "code",
   "execution_count": null,
   "id": "ffc26228-f8bf-4a62-baf1-918933e97f5c",
   "metadata": {},
   "outputs": [],
   "source": [
    "image_test = generate_images_checkered(n_images, test_random_seed)"
   ]
  },
  {
   "cell_type": "markdown",
   "id": "3d9ec25a-9d1d-4c77-b1b9-c1fa8366f8be",
   "metadata": {},
   "source": [
    "Finally, we convert the generated images and their corresponding targets to 4-dimensional tensors:"
   ]
  },
  {
   "cell_type": "code",
   "execution_count": null,
   "id": "ca6bf562-e91f-43d7-921b-5517daacd522",
   "metadata": {},
   "outputs": [],
   "source": [
    "images_I1 = image_test.remove_buffers(image_test.images_I1)\n",
    "images_I1 = images_I1 / 65535\n",
    "images_I2 = image_test.remove_buffers(image_test.images_I2)\n",
    "images_I2 = images_I2 / 65535\n",
    "\n",
    "velocity_field = image_test.remove_buffers(image_test.get_velocity_field())\n",
    "displacement_field = image_test.remove_buffers(image_test.get_displacement_field())\n",
    "\n",
    "images_intensities = image_test.concatenate_tensors((images_I1, images_I2))\n",
    "\n",
    "tensors_dictionary_test = {\"I\"      : images_intensities, \n",
    "                           \"targets\" : displacement_field}"
   ]
  },
  {
   "cell_type": "code",
   "execution_count": null,
   "id": "3e504256-3dfa-41b4-9737-d73df936ac71",
   "metadata": {},
   "outputs": [],
   "source": [
    "images_intensities.shape"
   ]
  },
  {
   "cell_type": "code",
   "execution_count": null,
   "id": "67f69378-7779-4616-81e2-0c55a70ca06e",
   "metadata": {},
   "outputs": [],
   "source": [
    "displacement_field.shape"
   ]
  },
  {
   "cell_type": "code",
   "execution_count": null,
   "id": "4dfbd56a-f1aa-4af6-aa7c-e2b95f980f48",
   "metadata": {},
   "outputs": [],
   "source": [
    "image_train.plot(0,\n",
    "                 instance=1,\n",
    "                 with_buffer=True,\n",
    "                 xlabel='Width [px]',\n",
    "                 ylabel='Height [px]',\n",
    "                 cmap='Greys_r',\n",
    "                 figsize=figsize);"
   ]
  },
  {
   "cell_type": "code",
   "execution_count": null,
   "id": "ea8a15d8-3464-4b8c-a867-e5ecb1714a04",
   "metadata": {},
   "outputs": [],
   "source": [
    "image_test.plot_field(0,\n",
    "                       cmap='Blues',\n",
    "                       cbar=True,\n",
    "                       figsize=(4,3));"
   ]
  },
  {
   "cell_type": "code",
   "execution_count": null,
   "id": "2394fcd7-5569-4584-ae3f-57321ae98bbe",
   "metadata": {},
   "outputs": [],
   "source": [
    "image_to_show = 1"
   ]
  },
  {
   "cell_type": "markdown",
   "id": "6c04eb6d-d223-404c-b4c0-1d7cba0b1b87",
   "metadata": {},
   "source": [
    "Ground truth displacement fields:"
   ]
  },
  {
   "cell_type": "code",
   "execution_count": null,
   "id": "8c697e56-18e6-4eda-9b5f-4459eaecb154",
   "metadata": {},
   "outputs": [],
   "source": [
    "ground_truth_ds = tensors_dictionary_test[\"targets\"]\n",
    "ground_truth_I = tensors_dictionary_test[\"I\"]"
   ]
  },
  {
   "cell_type": "code",
   "execution_count": null,
   "id": "54cd69ca-803f-460f-a0db-a953d1701b37",
   "metadata": {},
   "outputs": [],
   "source": [
    "ground_truth_ds_magnitude = np.sqrt(ground_truth_ds[:,0,:,:]**2 + ground_truth_ds[:,1,:,:]**2)"
   ]
  },
  {
   "cell_type": "markdown",
   "id": "191a5425-d699-4170-901f-a54aeaa377d6",
   "metadata": {},
   "source": [
    "Predicted displacement fields:"
   ]
  },
  {
   "cell_type": "code",
   "execution_count": null,
   "id": "5465cbdf-726a-4154-96df-b6d13759b171",
   "metadata": {},
   "outputs": [],
   "source": [
    "model.eval()\n",
    "with torch.no_grad():\n",
    "    predicted_ds = model(torch.from_numpy(ground_truth_I).to(dtype=torch.float)).numpy()"
   ]
  },
  {
   "cell_type": "code",
   "execution_count": null,
   "id": "a773153d-95f3-4313-8bcc-ceabc05575d6",
   "metadata": {},
   "outputs": [],
   "source": [
    "predicted_ds_magnitude = np.sqrt(predicted_ds[:,0,:,:]**2 + predicted_ds[:,1,:,:]**2)"
   ]
  },
  {
   "cell_type": "markdown",
   "id": "db8bf49a-fcd3-43e8-9525-0663a02ef2af",
   "metadata": {},
   "source": [
    "Compute the error of this prediction:"
   ]
  },
  {
   "cell_type": "code",
   "execution_count": null,
   "id": "e8a9689d-138f-48e1-9dcc-45d9fe9e66de",
   "metadata": {},
   "outputs": [],
   "source": [
    "error_dx = np.abs(ground_truth_ds[image_to_show, 0, :, :] - predicted_ds[image_to_show, 0, :, :])"
   ]
  },
  {
   "cell_type": "code",
   "execution_count": null,
   "id": "ff8e9f10-a07b-474f-881b-d13ed9114a4d",
   "metadata": {},
   "outputs": [],
   "source": [
    "error_dy = np.abs(ground_truth_ds[image_to_show, 1, :, :] - -predicted_ds[image_to_show, 1, :, :])"
   ]
  },
  {
   "cell_type": "code",
   "execution_count": null,
   "id": "ebeeb3c3-5aba-4929-b671-16ada2586ad0",
   "metadata": {},
   "outputs": [],
   "source": [
    "error_ds = np.abs(ground_truth_ds_magnitude[image_to_show, :, :] - predicted_ds_magnitude[image_to_show, :, :])"
   ]
  },
  {
   "cell_type": "code",
   "execution_count": null,
   "id": "3dfe61c9-cb12-4e14-a18f-a4ba2e4acff4",
   "metadata": {},
   "outputs": [],
   "source": [
    "figure = plt.figure(figsize=(13, 10))\n",
    "spec = figure.add_gridspec(ncols=3, nrows=3, width_ratios=[1, 1, 1], height_ratios=[1, 1, 1])\n",
    "\n",
    "cmap = cmc.oslo\n",
    "\n",
    "# Displacement in the x-direction:\n",
    "\n",
    "figure_a = figure.add_subplot(spec[0,0])\n",
    "plt.imshow(ground_truth_ds[image_to_show, 0, :, :], \n",
    "           cmap=cmap, \n",
    "           origin='lower')\n",
    "plt.colorbar()\n",
    "plt.title('True $dx$')\n",
    "\n",
    "figure_b = figure.add_subplot(spec[0,1])\n",
    "plt.imshow(predicted_ds[image_to_show, 0, :, :], \n",
    "           cmap=cmap, \n",
    "           origin='lower', )\n",
    "           # vmin=np.min(ground_truth_ds[image_to_show, 0, :, :]),\n",
    "           # vmax=np.max(ground_truth_ds[image_to_show, 0, :, :]))\n",
    "plt.colorbar()\n",
    "plt.title('Predicted $dx$')\n",
    "\n",
    "figure_c = figure.add_subplot(spec[0,2])\n",
    "plt.imshow(error_dx, \n",
    "           cmap='coolwarm', \n",
    "           origin='lower')\n",
    "plt.colorbar()\n",
    "plt.title('Relative error in $dx$')\n",
    "\n",
    "# Displacement in the y-direction:\n",
    "\n",
    "figure_d = figure.add_subplot(spec[1,0])\n",
    "plt.imshow(ground_truth_ds[image_to_show, 1, :, :], \n",
    "           cmap=cmap, \n",
    "           origin='lower')\n",
    "plt.colorbar()\n",
    "plt.title('True $dy$')\n",
    "\n",
    "figure_e = figure.add_subplot(spec[1,1])\n",
    "plt.imshow(-predicted_ds[image_to_show, 1, :, :], \n",
    "           cmap=cmap, \n",
    "           origin='lower', )\n",
    "           # vmin=np.min(ground_truth_ds[image_to_show, 1, :, :]),\n",
    "           # vmax=np.max(ground_truth_ds[image_to_show, 1, :, :]))\n",
    "plt.colorbar()\n",
    "plt.title('Predicted $dy$')\n",
    "\n",
    "figure_f = figure.add_subplot(spec[1,2])\n",
    "plt.imshow(error_dy, \n",
    "           cmap='coolwarm', \n",
    "           origin='lower')\n",
    "plt.colorbar()\n",
    "plt.title('Relative error in $dy$')\n",
    "\n",
    "# Displacement magnitude:\n",
    "\n",
    "figure_g = figure.add_subplot(spec[2,0])\n",
    "plt.imshow(ground_truth_ds_magnitude[image_to_show, :, :], \n",
    "           cmap=cmap, \n",
    "           origin='lower')\n",
    "plt.colorbar()\n",
    "plt.title('True $|ds|$')\n",
    "\n",
    "figure_h = figure.add_subplot(spec[2,1])\n",
    "plt.imshow(predicted_ds_magnitude[image_to_show, :, :], \n",
    "           cmap=cmap, \n",
    "           origin='lower', )\n",
    "           # vmin=np.min(ground_truth_ds_magnitude[image_to_show, :, :]),\n",
    "           # vmax=np.max(ground_truth_ds_magnitude[image_to_show, :, :]))\n",
    "plt.colorbar()\n",
    "plt.title('Predicted $|ds|$')\n",
    "\n",
    "figure_i = figure.add_subplot(spec[2,2])\n",
    "plt.imshow(error_ds, \n",
    "           cmap='coolwarm', \n",
    "           origin='lower')\n",
    "plt.colorbar()\n",
    "plt.title('Relative error in $|ds|$');"
   ]
  },
  {
   "cell_type": "markdown",
   "id": "38eb3fb9-edee-4317-804a-a81600b35a0e",
   "metadata": {},
   "source": [
    "***\n",
    "\n",
    "© K. Zdybał, C. Mucignat, S. Kunz, I. Lunati (2025)"
   ]
  }
 ],
 "metadata": {
  "kernelspec": {
   "display_name": "Python 3 (ipykernel)",
   "language": "python",
   "name": "python3"
  },
  "language_info": {
   "codemirror_mode": {
    "name": "ipython",
    "version": 3
   },
   "file_extension": ".py",
   "mimetype": "text/x-python",
   "name": "python",
   "nbconvert_exporter": "python",
   "pygments_lexer": "ipython3",
   "version": "3.10.16"
  }
 },
 "nbformat": 4,
 "nbformat_minor": 5
}
