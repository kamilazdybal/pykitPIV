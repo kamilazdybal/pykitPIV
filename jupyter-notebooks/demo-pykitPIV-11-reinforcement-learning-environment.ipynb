{
 "cells": [
  {
   "cell_type": "markdown",
   "id": "28fed105-acc8-4b6f-962e-95c044f24d47",
   "metadata": {},
   "source": [
    "# Setup a reinforcement learning problem for a virtual particle image velocimetry (PIV) setup\n",
    "\n",
    "***"
   ]
  },
  {
   "cell_type": "code",
   "execution_count": null,
   "id": "e442604c-be37-4b9a-8c1c-0c08c717d65a",
   "metadata": {},
   "outputs": [],
   "source": [
    "from pykitPIV.ml import PIVEnv\n",
    "import matplotlib.pyplot as plt\n",
    "import cmcrameri.cm as cmc\n",
    "import numpy as np\n",
    "import onnxruntime\n",
    "from collections import deque\n",
    "import torch\n",
    "import sys, os"
   ]
  },
  {
   "cell_type": "markdown",
   "id": "a246c54f-5dbb-4855-9c78-b46a0fb8fdbc",
   "metadata": {},
   "source": [
    "We have five actions:"
   ]
  },
  {
   "cell_type": "code",
   "execution_count": null,
   "id": "d4b29e92-6aec-4929-9dd0-d858c2069c45",
   "metadata": {},
   "outputs": [],
   "source": [
    "n_actions = 5"
   ]
  },
  {
   "cell_type": "markdown",
   "id": "f1f5541e-15bd-420c-9cce-55d4ffabf8c6",
   "metadata": {},
   "source": [
    "Prepare specifications for pykitPIV parameters:"
   ]
  },
  {
   "cell_type": "code",
   "execution_count": null,
   "id": "6a3bbbc3-6c88-4170-9367-4dc378b9b0a0",
   "metadata": {},
   "outputs": [],
   "source": [
    "particle_spec = {'diameters': (1, 1),\n",
    "                 'distances': (2, 2),\n",
    "                 'densities': (0.4, 0.4),\n",
    "                 'diameter_std': 1,\n",
    "                 'seeding_mode': 'random'}\n",
    "\n",
    "flowfield_spec = {'flowfield_size': (200, 500),\n",
    "                  'flowfield_type': 'random smooth',\n",
    "                  'gaussian_filters': (10, 10),\n",
    "                  'n_gaussian_filter_iter': 10,\n",
    "                  'displacement': (2, 2),\n",
    "                  # 'apply_SLM': True,\n",
    "                  # 'integral_time_scale': 1,\n",
    "                  # 'sigma': 1,\n",
    "                  # 'n_stochastic_particles': 1000000,\n",
    "                  # 'n_iterations': 100\n",
    "                 }\n",
    "\n",
    "motion_spec = {'n_steps': 10,\n",
    "               'time_separation': 1,\n",
    "               'particle_loss': (0, 0),\n",
    "               'particle_gain': (0, 0)}\n",
    "\n",
    "image_spec = {'exposures': (0.98, 0.98),\n",
    "              'maximum_intensity': 2**16-1,\n",
    "              'laser_beam_thickness': 1,\n",
    "              'laser_over_exposure': 1,\n",
    "              'laser_beam_shape': 0.95,\n",
    "              'alpha': 1/8,\n",
    "              'clip_intensities': True,\n",
    "              'normalize_intensities': False}"
   ]
  },
  {
   "cell_type": "markdown",
   "id": "de8d1764-2e92-4ae1-807c-4971131005b4",
   "metadata": {},
   "source": [
    "Use LIMA as an inference model:"
   ]
  },
  {
   "cell_type": "code",
   "execution_count": null,
   "id": "a21fc888-c3da-49fd-87b2-ca0f4990848a",
   "metadata": {},
   "outputs": [],
   "source": [
    "class ONNXmodel:\n",
    "    \n",
    "    def __init__(self,\n",
    "                 onnx_file_path):\n",
    "        \n",
    "        self.name = \"ONNX\"\n",
    "        self.providers = ['CPUExecutionProvider']\n",
    "        self.session = onnxruntime.InferenceSession(onnx_file_path, \n",
    "                                                    None,\n",
    "                                                    providers=self.providers)\n",
    "\n",
    "        self.input_name = self.session.get_inputs()[0].name  \n",
    "        print('Input Name:', self.input_name)   \n",
    " \n",
    "    def inference(self, x):\n",
    "        \n",
    "        output = self.session.run([], {self.input_name:x/np.max(x)})[0] \n",
    "      \n",
    "        return output\n",
    "\n",
    "    def empty(self):\n",
    "        \n",
    "         with torch.no_grad():\n",
    "            torch.cuda.empty_cache()"
   ]
  },
  {
   "cell_type": "code",
   "execution_count": null,
   "id": "79b1814c-d029-4ad0-95f0-6382f6213ce9",
   "metadata": {},
   "outputs": [],
   "source": [
    "model_file = '../Lima_L4_PAD_SR2_dyn.onnx'\n",
    "print(\"model:\", model_file, '  exist:', os.path.exists(model_file))"
   ]
  },
  {
   "cell_type": "code",
   "execution_count": null,
   "id": "e814774a-3919-498d-b2fd-0217b634d225",
   "metadata": {},
   "outputs": [],
   "source": [
    "lima_inference_model = ONNXmodel(model_file)"
   ]
  },
  {
   "cell_type": "markdown",
   "id": "dd4b2b6b-1c9c-4d00-ab01-6fc7c9d9776d",
   "metadata": {},
   "source": [
    "***\n",
    "\n",
    "## Create the RL environment"
   ]
  },
  {
   "cell_type": "markdown",
   "id": "aca8abad-37f7-41c3-ab8b-22f1073b5f0b",
   "metadata": {},
   "source": [
    "Initialize the `Gymnasium` environment:"
   ]
  },
  {
   "cell_type": "code",
   "execution_count": null,
   "id": "d30205c9-39af-47d6-a5d8-c94ac070abf7",
   "metadata": {},
   "outputs": [],
   "source": [
    "env = PIVEnv(interrogation_window_size=(100,100),\n",
    "             interrogation_window_size_buffer=10,\n",
    "             particle_spec=particle_spec,\n",
    "             motion_spec=motion_spec,\n",
    "             image_spec=image_spec,\n",
    "             flowfield_spec=flowfield_spec,\n",
    "             user_flowfield=None,\n",
    "             inference_model=lima_inference_model,\n",
    "             random_seed=10)"
   ]
  },
  {
   "cell_type": "markdown",
   "id": "39e32c09-2148-436c-a847-5be93015ec19",
   "metadata": {},
   "source": [
    "Reset the environment:"
   ]
  },
  {
   "cell_type": "code",
   "execution_count": null,
   "id": "f4a58032-e56f-4a8c-bacc-16a82bc38d27",
   "metadata": {},
   "outputs": [],
   "source": [
    "camera_position, prediction_tensor, targets_tensor = env.reset()"
   ]
  },
  {
   "cell_type": "code",
   "execution_count": null,
   "id": "4d7f945c-247a-4fa4-abfe-0b5747db791a",
   "metadata": {},
   "outputs": [],
   "source": [
    "plt = env.render(camera_position,\n",
    "                 c='white',\n",
    "                 s=20,\n",
    "                 lw=1,\n",
    "                 normalize_cbars=True,\n",
    "                 cmap=cmc.roma,\n",
    "                 add_streamplot=True,\n",
    "                 streamplot_density=3,\n",
    "                 streamplot_color='k',\n",
    "                 streamplot_linewidth=0.3,\n",
    "                 figsize=(15,6), \n",
    "                 filename='ml_PIVEnv_render.png')"
   ]
  },
  {
   "cell_type": "code",
   "execution_count": null,
   "id": "7b5c3c93-0a98-4b9d-9657-efed59de648d",
   "metadata": {},
   "outputs": [],
   "source": [
    "for _ in range(0,20):\n",
    "    camera_position, reward, terminated, truncated = env.step(1, \n",
    "                                                              verbose=False)"
   ]
  },
  {
   "cell_type": "code",
   "execution_count": null,
   "id": "4139ffd8-f9e0-4184-9838-ea564acc0b22",
   "metadata": {},
   "outputs": [],
   "source": [
    "plt = env.render(camera_position,\n",
    "                 c='white',\n",
    "                 s=20,\n",
    "                 lw=1,\n",
    "                 normalize_cbars=True,\n",
    "                 cmap=cmc.roma,\n",
    "                 add_streamplot=True,\n",
    "                 streamplot_density=3,\n",
    "                 streamplot_color='k',\n",
    "                 streamplot_linewidth=0.3,\n",
    "                 figsize=(15,6), \n",
    "                 filename='ml_PIVEnv_render.png')"
   ]
  },
  {
   "cell_type": "markdown",
   "id": "e0f91660-2a49-45ef-8581-6dbed1d58751",
   "metadata": {},
   "source": [
    "Reset the environment with a user-defined initial camera position:"
   ]
  },
  {
   "cell_type": "code",
   "execution_count": null,
   "id": "12cc710d-a498-4420-8da0-111ed1320dfe",
   "metadata": {},
   "outputs": [],
   "source": [
    "camera_position, prediction_tensor, targets_tensor = env.reset(imposed_camera_position=np.array([0, 50]))\n",
    "\n",
    "plt = env.render(camera_position,\n",
    "                 c='white',\n",
    "                 s=20,\n",
    "                 lw=1,\n",
    "                 normalize_cbars=True,\n",
    "                 cmap=cmc.roma,\n",
    "                 add_streamplot=True,\n",
    "                 streamplot_density=3,\n",
    "                 streamplot_color='k',\n",
    "                 streamplot_linewidth=0.3,\n",
    "                 figsize=(15,6), \n",
    "                 filename='ml_PIVEnv_render.png')"
   ]
  },
  {
   "cell_type": "code",
   "execution_count": null,
   "id": "7ba7e0ed-e015-42d0-9e84-cb66f9613f76",
   "metadata": {},
   "outputs": [],
   "source": []
  },
  {
   "cell_type": "code",
   "execution_count": null,
   "id": "bdb6667c-f9f6-4cd8-aeba-758e724c0629",
   "metadata": {},
   "outputs": [],
   "source": []
  },
  {
   "cell_type": "code",
   "execution_count": null,
   "id": "c34998a8-6faf-4f42-bb87-184daccf2194",
   "metadata": {},
   "outputs": [],
   "source": []
  },
  {
   "cell_type": "code",
   "execution_count": null,
   "id": "94bfd032-ecc9-4e7c-be76-3861095a9db0",
   "metadata": {},
   "outputs": [],
   "source": []
  },
  {
   "cell_type": "markdown",
   "id": "ff7569c7-d9f5-4a6a-be8f-e2178e3fe7c3",
   "metadata": {},
   "source": [
    "***\n",
    "\n",
    "## Create an RL agent"
   ]
  },
  {
   "cell_type": "markdown",
   "id": "b59f5d2d-8081-4c83-a864-64af17ea1dff",
   "metadata": {},
   "source": [
    "Define the Q-network:"
   ]
  },
  {
   "cell_type": "code",
   "execution_count": null,
   "id": "140daefe-d0d6-47f3-8017-6338936024bf",
   "metadata": {},
   "outputs": [],
   "source": [
    "class QNetwork(tf.keras.Model):\n",
    "    \n",
    "    def __init__(self, n_actions):\n",
    "        \n",
    "        super(QNetwork, self).__init__()\n",
    "        \n",
    "        self.dense1 = tf.keras.layers.Dense(10, activation='linear', kernel_initializer=tf.keras.initializers.Ones)\n",
    "        self.dense2 = tf.keras.layers.Dense(10, activation='linear', kernel_initializer=tf.keras.initializers.Ones)\n",
    "        self.output_layer = tf.keras.layers.Dense(n_actions, activation='linear', kernel_initializer=tf.keras.initializers.Ones)\n",
    "\n",
    "    def call(self, state):\n",
    "        \n",
    "        x = self.dense1(state)\n",
    "        x = self.dense2(x)\n",
    "        \n",
    "        return self.output_layer(x)"
   ]
  },
  {
   "cell_type": "markdown",
   "id": "46d94bad-03e4-4682-8347-9bb7c18ea645",
   "metadata": {},
   "source": [
    "Initialize the camera agent:"
   ]
  },
  {
   "cell_type": "code",
   "execution_count": null,
   "id": "6cba5022-490d-43da-adb4-df5f762b841d",
   "metadata": {},
   "outputs": [],
   "source": []
  },
  {
   "cell_type": "code",
   "execution_count": null,
   "id": "360e57ce-f133-411c-96b2-4b8c276b2ec3",
   "metadata": {},
   "outputs": [],
   "source": []
  },
  {
   "cell_type": "code",
   "execution_count": null,
   "id": "5e16af8f-eb0b-4240-b832-ae65f451e10e",
   "metadata": {},
   "outputs": [],
   "source": []
  },
  {
   "cell_type": "code",
   "execution_count": null,
   "id": "82a8f56c-de8f-4b9c-90b8-1c22d90badb8",
   "metadata": {},
   "outputs": [],
   "source": []
  },
  {
   "cell_type": "code",
   "execution_count": null,
   "id": "31c02370-7a56-46ad-9ed5-78563e3d4d50",
   "metadata": {},
   "outputs": [],
   "source": []
  },
  {
   "cell_type": "code",
   "execution_count": null,
   "id": "2c07aa88-55c6-45f5-8dac-7b24c79836d2",
   "metadata": {},
   "outputs": [],
   "source": []
  },
  {
   "cell_type": "code",
   "execution_count": null,
   "id": "0def77ef-9b28-48ef-aa11-1bdb5e8ceac2",
   "metadata": {},
   "outputs": [],
   "source": []
  },
  {
   "cell_type": "code",
   "execution_count": null,
   "id": "c8b152f7-5523-4cfa-ba7c-c0ab10cd68d9",
   "metadata": {},
   "outputs": [],
   "source": []
  },
  {
   "cell_type": "code",
   "execution_count": null,
   "id": "900efe6c-157a-4896-951d-c28ae07e5d91",
   "metadata": {},
   "outputs": [],
   "source": []
  },
  {
   "cell_type": "code",
   "execution_count": null,
   "id": "a94dc45e-a6ff-4a65-af41-e63cb9d44d24",
   "metadata": {},
   "outputs": [],
   "source": []
  },
  {
   "cell_type": "code",
   "execution_count": null,
   "id": "e062d615-7b96-4fc7-9a77-6812feea221e",
   "metadata": {},
   "outputs": [],
   "source": []
  },
  {
   "cell_type": "code",
   "execution_count": null,
   "id": "115a8812-7672-4b8c-b226-82a1ace71a2d",
   "metadata": {},
   "outputs": [],
   "source": []
  },
  {
   "cell_type": "code",
   "execution_count": null,
   "id": "654176b8-8841-43fb-827e-0de6ca0cbf56",
   "metadata": {},
   "outputs": [],
   "source": []
  },
  {
   "cell_type": "code",
   "execution_count": null,
   "id": "f78ce3a9-bdd0-48ec-9add-07d2d0469a35",
   "metadata": {},
   "outputs": [],
   "source": []
  },
  {
   "cell_type": "code",
   "execution_count": null,
   "id": "9082cd40-9afa-4cd1-92da-0e506945c0b7",
   "metadata": {},
   "outputs": [],
   "source": [
    "image_obj = env.record_particles(camera_position)"
   ]
  },
  {
   "cell_type": "code",
   "execution_count": null,
   "id": "4def45d0-fa61-422c-843d-f8077d1cae30",
   "metadata": {},
   "outputs": [],
   "source": [
    "plt.imshow(image_obj.images_I1[0,0,:,:], cmap='Greys_r', origin='lower')"
   ]
  },
  {
   "cell_type": "code",
   "execution_count": null,
   "id": "1b6f4fe4-9f57-485a-a6d2-945e8d660948",
   "metadata": {},
   "outputs": [],
   "source": [
    "plt.imshow(image_obj.images_I2[0,0,:,:], cmap='Greys_r', origin='lower')"
   ]
  },
  {
   "cell_type": "code",
   "execution_count": null,
   "id": "68ce3025-c714-41c2-8501-fda97bf442b5",
   "metadata": {},
   "outputs": [],
   "source": [
    "image_obj.plot_field_magnitude(0, \n",
    "                               add_streamplot=True,\n",
    "                               streamplot_density=1,\n",
    "                               streamplot_color='k',)"
   ]
  },
  {
   "cell_type": "code",
   "execution_count": null,
   "id": "aebf8cd4-78ab-44d5-8dbf-cdd725622475",
   "metadata": {},
   "outputs": [],
   "source": [
    "image_obj.animate_image_pair(0, filename='image.gif')"
   ]
  },
  {
   "cell_type": "markdown",
   "id": "0e8f6565-17de-451a-84ab-a4857f44cb4e",
   "metadata": {},
   "source": [
    "***"
   ]
  }
 ],
 "metadata": {
  "kernelspec": {
   "display_name": "Python 3 (ipykernel)",
   "language": "python",
   "name": "python3"
  },
  "language_info": {
   "codemirror_mode": {
    "name": "ipython",
    "version": 3
   },
   "file_extension": ".py",
   "mimetype": "text/x-python",
   "name": "python",
   "nbconvert_exporter": "python",
   "pygments_lexer": "ipython3",
   "version": "3.10.16"
  }
 },
 "nbformat": 4,
 "nbformat_minor": 5
}
