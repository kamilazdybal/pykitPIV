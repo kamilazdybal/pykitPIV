{
 "cells": [
  {
   "cell_type": "code",
   "execution_count": null,
   "id": "e442604c-be37-4b9a-8c1c-0c08c717d65a",
   "metadata": {},
   "outputs": [],
   "source": [
    "from pykitPIV.ml import PIVEnv\n",
    "import matplotlib.pyplot as plt\n",
    "import cmcrameri.cm as cmc"
   ]
  },
  {
   "cell_type": "markdown",
   "id": "f1f5541e-15bd-420c-9cce-55d4ffabf8c6",
   "metadata": {},
   "source": [
    "Prepare specs for pykitPIV parameters:"
   ]
  },
  {
   "cell_type": "code",
   "execution_count": null,
   "id": "6a3bbbc3-6c88-4170-9367-4dc378b9b0a0",
   "metadata": {},
   "outputs": [],
   "source": [
    "particle_spec = {'diameters': (1, 1),\n",
    "                 'distances': (2, 2),\n",
    "                 'densities': (0.2, 0.2),\n",
    "                 'diameter_std': 1,\n",
    "                 'seeding_mode': 'random'},\n",
    "\n",
    "flowfield_spec = {'gaussian_filters': (30,30),\n",
    "                  'n_gaussian_filter_iter': 5,\n",
    "                  'displacement': (2,2)},\n",
    "\n",
    "motion_spec = {'n_steps': 10,\n",
    "               'time_separation': 5,\n",
    "               'particle_loss': (0, 2),\n",
    "               'particle_gain': (0, 2)},\n",
    "\n",
    "image_spec = {'exposures': (0.5, 0.9),\n",
    "              'maximum_intensity': 2**16-1,\n",
    "              'laser_beam_thickness': 1,\n",
    "              'laser_over_exposure': 1,\n",
    "              'laser_beam_shape': 0.95,\n",
    "              'alpha': 1/8,\n",
    "              'clip_intensities': True,\n",
    "              'normalize_intensities': False},"
   ]
  },
  {
   "cell_type": "markdown",
   "id": "aca8abad-37f7-41c3-ab8b-22f1073b5f0b",
   "metadata": {},
   "source": [
    "Initialize the `Gymnasium` environment:"
   ]
  },
  {
   "cell_type": "code",
   "execution_count": null,
   "id": "d30205c9-39af-47d6-a5d8-c94ac070abf7",
   "metadata": {},
   "outputs": [],
   "source": [
    "env = PIVEnv(interrogation_window_size=(100,200),\n",
    "             interrogation_window_size_buffer=10,\n",
    "             particle_spec=particle_spec,\n",
    "             flowfield_size=(500,1000),\n",
    "             flowfield_spec=flowfield_spec,\n",
    "             motion_spec=motion_spec,\n",
    "             image_spec=image_spec,\n",
    "             user_flowfield=None,\n",
    "             random_seed=100)"
   ]
  },
  {
   "cell_type": "code",
   "execution_count": null,
   "id": "50b83f46-99fb-4a63-ab14-4ad051649435",
   "metadata": {},
   "outputs": [],
   "source": [
    "env.observation_space.sample()"
   ]
  },
  {
   "cell_type": "code",
   "execution_count": null,
   "id": "b76f807a-bb60-4f6f-b808-7a94c1f60dca",
   "metadata": {},
   "outputs": [],
   "source": [
    "camera_position = env.observation_space.sample()"
   ]
  },
  {
   "cell_type": "code",
   "execution_count": null,
   "id": "01ba40e2-37cd-4726-a66e-a7f4ebc49fe2",
   "metadata": {},
   "outputs": [],
   "source": [
    "camera_position"
   ]
  },
  {
   "cell_type": "code",
   "execution_count": null,
   "id": "4d7f945c-247a-4fa4-abfe-0b5747db791a",
   "metadata": {},
   "outputs": [],
   "source": [
    "env.render(camera_position,\n",
    "           c='white',\n",
    "           s=20,\n",
    "           lw=1,\n",
    "           figsize=(12,6))"
   ]
  },
  {
   "cell_type": "code",
   "execution_count": null,
   "id": "9082cd40-9afa-4cd1-92da-0e506945c0b7",
   "metadata": {},
   "outputs": [],
   "source": [
    "image_obj = env.record_particles(camera_position)"
   ]
  },
  {
   "cell_type": "code",
   "execution_count": null,
   "id": "4def45d0-fa61-422c-843d-f8077d1cae30",
   "metadata": {},
   "outputs": [],
   "source": [
    "plt.imshow(image_obj.images_I1[0,0,:,:], cmap='Greys_r', origin='lower')"
   ]
  },
  {
   "cell_type": "code",
   "execution_count": null,
   "id": "1b6f4fe4-9f57-485a-a6d2-945e8d660948",
   "metadata": {},
   "outputs": [],
   "source": [
    "plt.imshow(image_obj.images_I2[0,0,:,:], cmap='Greys_r', origin='lower')"
   ]
  },
  {
   "cell_type": "code",
   "execution_count": null,
   "id": "68ce3025-c714-41c2-8501-fda97bf442b5",
   "metadata": {},
   "outputs": [],
   "source": [
    "image_obj.plot_field_magnitude(0, \n",
    "                               add_streamplot=True,\n",
    "                               streamplot_density=1,\n",
    "                               streamplot_color='k',)"
   ]
  },
  {
   "cell_type": "code",
   "execution_count": null,
   "id": "aebf8cd4-78ab-44d5-8dbf-cdd725622475",
   "metadata": {},
   "outputs": [],
   "source": [
    "image_obj.animate_image_pair(0, filename='image.gif')"
   ]
  },
  {
   "cell_type": "code",
   "execution_count": null,
   "id": "bb83f4fd-9c1b-4e3a-a8e3-f393a6e5ce50",
   "metadata": {},
   "outputs": [],
   "source": []
  },
  {
   "cell_type": "code",
   "execution_count": null,
   "id": "1b068301-23cc-4295-8340-b0ea007f2815",
   "metadata": {},
   "outputs": [],
   "source": []
  },
  {
   "cell_type": "code",
   "execution_count": null,
   "id": "8f571b84-2347-4322-9018-ab400fa6341a",
   "metadata": {},
   "outputs": [],
   "source": []
  },
  {
   "cell_type": "code",
   "execution_count": null,
   "id": "d96cca82-50e2-475d-8753-c730c7f90a95",
   "metadata": {},
   "outputs": [],
   "source": []
  },
  {
   "cell_type": "code",
   "execution_count": null,
   "id": "d38a08a2-55a0-4e7e-9a41-0c40a2158819",
   "metadata": {},
   "outputs": [],
   "source": []
  },
  {
   "cell_type": "code",
   "execution_count": null,
   "id": "9f9774fd-e846-4eb3-8d3f-81b3c812d0f4",
   "metadata": {},
   "outputs": [],
   "source": []
  },
  {
   "cell_type": "code",
   "execution_count": null,
   "id": "ad4edeed-1cba-4918-bd2c-d0fb425743b4",
   "metadata": {},
   "outputs": [],
   "source": []
  },
  {
   "cell_type": "code",
   "execution_count": null,
   "id": "edb6ee47-5796-415f-9f70-7f564a86a09b",
   "metadata": {},
   "outputs": [],
   "source": []
  },
  {
   "cell_type": "markdown",
   "id": "0e8f6565-17de-451a-84ab-a4857f44cb4e",
   "metadata": {},
   "source": [
    "***"
   ]
  }
 ],
 "metadata": {
  "kernelspec": {
   "display_name": "Python 3 (ipykernel)",
   "language": "python",
   "name": "python3"
  },
  "language_info": {
   "codemirror_mode": {
    "name": "ipython",
    "version": 3
   },
   "file_extension": ".py",
   "mimetype": "text/x-python",
   "name": "python",
   "nbconvert_exporter": "python",
   "pygments_lexer": "ipython3",
   "version": "3.10.13"
  }
 },
 "nbformat": 4,
 "nbformat_minor": 5
}
