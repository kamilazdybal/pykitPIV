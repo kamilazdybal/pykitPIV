{
 "cells": [
  {
   "cell_type": "markdown",
   "id": "28fed105-acc8-4b6f-962e-95c044f24d47",
   "metadata": {},
   "source": [
    "# Build a reinforcement learning environment for a virtual PIV setup\n",
    "\n",
    "***"
   ]
  },
  {
   "cell_type": "code",
   "execution_count": 1,
   "id": "e442604c-be37-4b9a-8c1c-0c08c717d65a",
   "metadata": {},
   "outputs": [],
   "source": [
    "from pykitPIV.ml import PIVEnv\n",
    "import matplotlib.pyplot as plt\n",
    "import cmcrameri.cm as cmc\n",
    "import numpy as np\n",
    "import onnxruntime\n",
    "import torch\n",
    "import sys, os"
   ]
  },
  {
   "cell_type": "markdown",
   "id": "f1f5541e-15bd-420c-9cce-55d4ffabf8c6",
   "metadata": {},
   "source": [
    "Prepare specs for pykitPIV parameters:"
   ]
  },
  {
   "cell_type": "code",
   "execution_count": 2,
   "id": "6a3bbbc3-6c88-4170-9367-4dc378b9b0a0",
   "metadata": {},
   "outputs": [],
   "source": [
    "particle_spec = {'diameters': (1, 1),\n",
    "                 'distances': (2, 2),\n",
    "                 'densities': (0.2, 0.2),\n",
    "                 'diameter_std': 1,\n",
    "                 'seeding_mode': 'random'}\n",
    "\n",
    "flowfield_spec = {'flowfield_size': (30, 30),\n",
    "                  'flowfield_type': 'random smooth',\n",
    "                  'gaussian_filters': (10, 10),\n",
    "                  'n_gaussian_filter_iter': 10,\n",
    "                  'displacement': (2, 2)}\n",
    "\n",
    "motion_spec = {'n_steps': 10,\n",
    "               'time_separation': 1,\n",
    "               'particle_loss': (0, 2),\n",
    "               'particle_gain': (0, 2)}\n",
    "\n",
    "image_spec = {'exposures': (0.5, 0.9),\n",
    "              'maximum_intensity': 2**16-1,\n",
    "              'laser_beam_thickness': 1,\n",
    "              'laser_over_exposure': 1,\n",
    "              'laser_beam_shape': 0.95,\n",
    "              'alpha': 1/8,\n",
    "              'clip_intensities': True,\n",
    "              'normalize_intensities': False}"
   ]
  },
  {
   "cell_type": "markdown",
   "id": "de8d1764-2e92-4ae1-807c-4971131005b4",
   "metadata": {},
   "source": [
    "Use LIMA as an inference model:"
   ]
  },
  {
   "cell_type": "code",
   "execution_count": 3,
   "id": "a21fc888-c3da-49fd-87b2-ca0f4990848a",
   "metadata": {},
   "outputs": [],
   "source": [
    "class ONNXmodel:\n",
    "    \n",
    "    def __init__(self,\n",
    "                 onnx_file_path):\n",
    "        \n",
    "        self.name = \"ONNX\"\n",
    "        self.providers = ['CPUExecutionProvider']\n",
    "        self.session = onnxruntime.InferenceSession(onnx_file_path, \n",
    "                                                    None,\n",
    "                                                    providers=self.providers)\n",
    "\n",
    "        self.input_name = self.session.get_inputs()[0].name  \n",
    "        print('Input Name:', self.input_name)   \n",
    " \n",
    "    def inference(self, x):\n",
    "        \n",
    "        output = self.session.run([], {self.input_name:x/np.max(x)})[0] \n",
    "      \n",
    "        return output\n",
    "\n",
    "    def empty(self):\n",
    "        \n",
    "         with torch.no_grad():\n",
    "            torch.cuda.empty_cache()"
   ]
  },
  {
   "cell_type": "code",
   "execution_count": 4,
   "id": "79b1814c-d029-4ad0-95f0-6382f6213ce9",
   "metadata": {},
   "outputs": [
    {
     "name": "stdout",
     "output_type": "stream",
     "text": [
      "model: ../Lima_L4_PAD_SR2_dyn.onnx   exist: True\n"
     ]
    }
   ],
   "source": [
    "model_file = '../Lima_L4_PAD_SR2_dyn.onnx'\n",
    "print(\"model:\", model_file, '  exist:', os.path.exists(model_file))"
   ]
  },
  {
   "cell_type": "code",
   "execution_count": 5,
   "id": "e814774a-3919-498d-b2fd-0217b634d225",
   "metadata": {},
   "outputs": [
    {
     "name": "stdout",
     "output_type": "stream",
     "text": [
      "Input Name: Input\n"
     ]
    }
   ],
   "source": [
    "lima_inference_model = ONNXmodel(model_file)"
   ]
  },
  {
   "cell_type": "markdown",
   "id": "aca8abad-37f7-41c3-ab8b-22f1073b5f0b",
   "metadata": {},
   "source": [
    "Initialize the `Gymnasium` environment:"
   ]
  },
  {
   "cell_type": "code",
   "execution_count": 6,
   "id": "d30205c9-39af-47d6-a5d8-c94ac070abf7",
   "metadata": {},
   "outputs": [
    {
     "name": "stdout",
     "output_type": "stream",
     "text": [
      "2.0\n"
     ]
    }
   ],
   "source": [
    "env = PIVEnv(interrogation_window_size=(10,10),\n",
    "             interrogation_window_size_buffer=2,\n",
    "             particle_spec=particle_spec,\n",
    "             motion_spec=motion_spec,\n",
    "             image_spec=image_spec,\n",
    "             flowfield_spec=flowfield_spec,\n",
    "             user_flowfield=None,\n",
    "             inference_model=lima_inference_model,\n",
    "             random_seed=10)"
   ]
  },
  {
   "cell_type": "code",
   "execution_count": 7,
   "id": "f4a58032-e56f-4a8c-bacc-16a82bc38d27",
   "metadata": {},
   "outputs": [
    {
     "name": "stdout",
     "output_type": "stream",
     "text": [
      "(1, 2, 14, 14)\n",
      "(10, 10)\n",
      "2\n",
      "Image 1:\t0 particles lost\n",
      "Particles added to the image.\n",
      "Velocity field added to the image.\n",
      "Particle movement added to the image.\n",
      "Reflected light added to images I1.\n",
      "Reflected light added to images I2.\n"
     ]
    }
   ],
   "source": [
    "camera_position, prediction_tensor, targets_tensor = env.reset()"
   ]
  },
  {
   "cell_type": "code",
   "execution_count": 8,
   "id": "4d7f945c-247a-4fa4-abfe-0b5747db791a",
   "metadata": {},
   "outputs": [
    {
     "data": {
      "image/png": "[encoded data removed]",
      "text/plain": [
       "<Figure size 1200x400 with 2 Axes>"
      ]
     },
     "metadata": {},
     "output_type": "display_data"
    }
   ],
   "source": [
    "plt = env.render(camera_position,\n",
    "                 c='white',\n",
    "                 s=20,\n",
    "                 lw=1,\n",
    "                 figsize=(12,4), \n",
    "                 filename='ml_PIVEnv_render.png')"
   ]
  },
  {
   "cell_type": "code",
   "execution_count": 9,
   "id": "e628f549-d9f6-4b62-9512-0ff0208be548",
   "metadata": {},
   "outputs": [
    {
     "data": {
      "text/plain": [
       "array([ 4, 13])"
      ]
     },
     "execution_count": 9,
     "metadata": {},
     "output_type": "execute_result"
    }
   ],
   "source": [
    "camera_position"
   ]
  },
  {
   "cell_type": "code",
   "execution_count": 72,
   "id": "4139ffd8-f9e0-4184-9838-ea564acc0b22",
   "metadata": {},
   "outputs": [
    {
     "name": "stdout",
     "output_type": "stream",
     "text": [
      "3\n",
      "[0 0]\n",
      "[ 0 -1]\n",
      "[0 0]\n"
     ]
    },
    {
     "data": {
      "image/png": "[encoded data removed]",
      "text/plain": [
       "<Figure size 1200x400 with 2 Axes>"
      ]
     },
     "metadata": {},
     "output_type": "display_data"
    }
   ],
   "source": [
    "camera_position, reward, terminated, truncated = env.step(3)\n",
    "\n",
    "plt = env.render(camera_position,\n",
    "                 c='white',\n",
    "                 s=20,\n",
    "                 lw=1,\n",
    "                 figsize=(12,4), \n",
    "                 filename='ml_PIVEnv_render.png')"
   ]
  },
  {
   "cell_type": "code",
   "execution_count": 45,
   "id": "4ee1e46d-7f8e-42a2-8aa8-30390a676282",
   "metadata": {},
   "outputs": [
    {
     "data": {
      "image/png": "[encoded data removed]",
      "text/plain": [
       "<Figure size 640x480 with 2 Axes>"
      ]
     },
     "metadata": {},
     "output_type": "display_data"
    }
   ],
   "source": [
    "plt.imshow(np.sqrt(targets_tensor[0,0,:,:]**2 + targets_tensor[0,1,:,:]**2), origin='lower')\n",
    "plt.colorbar();"
   ]
  },
  {
   "cell_type": "code",
   "execution_count": 46,
   "id": "ec3b580e-dde6-4f0c-a132-3f45a738db4d",
   "metadata": {},
   "outputs": [
    {
     "data": {
      "image/png": "[encoded data removed]",
      "text/plain": [
       "<Figure size 640x480 with 2 Axes>"
      ]
     },
     "metadata": {},
     "output_type": "display_data"
    }
   ],
   "source": [
    "plt.imshow(np.sqrt(prediction_tensor[0,0,:,:]**2 + prediction_tensor[0,1,:,:]**2), origin='lower')\n",
    "plt.colorbar();"
   ]
  },
  {
   "cell_type": "code",
   "execution_count": null,
   "id": "2d3cc91b-5771-483a-86fa-fd5ecba5e6ea",
   "metadata": {},
   "outputs": [],
   "source": []
  },
  {
   "cell_type": "code",
   "execution_count": null,
   "id": "12cc710d-a498-4420-8da0-111ed1320dfe",
   "metadata": {},
   "outputs": [],
   "source": []
  },
  {
   "cell_type": "code",
   "execution_count": null,
   "id": "0d92ea96-fba1-4188-893f-ac5dc5cb9f71",
   "metadata": {},
   "outputs": [],
   "source": []
  },
  {
   "cell_type": "code",
   "execution_count": null,
   "id": "7ba7e0ed-e015-42d0-9e84-cb66f9613f76",
   "metadata": {},
   "outputs": [],
   "source": []
  },
  {
   "cell_type": "code",
   "execution_count": null,
   "id": "9082cd40-9afa-4cd1-92da-0e506945c0b7",
   "metadata": {},
   "outputs": [],
   "source": [
    "image_obj = env.record_particles(camera_position)"
   ]
  },
  {
   "cell_type": "code",
   "execution_count": null,
   "id": "4def45d0-fa61-422c-843d-f8077d1cae30",
   "metadata": {},
   "outputs": [],
   "source": [
    "plt.imshow(image_obj.images_I1[0,0,:,:], cmap='Greys_r', origin='lower')"
   ]
  },
  {
   "cell_type": "code",
   "execution_count": null,
   "id": "1b6f4fe4-9f57-485a-a6d2-945e8d660948",
   "metadata": {},
   "outputs": [],
   "source": [
    "plt.imshow(image_obj.images_I2[0,0,:,:], cmap='Greys_r', origin='lower')"
   ]
  },
  {
   "cell_type": "code",
   "execution_count": null,
   "id": "68ce3025-c714-41c2-8501-fda97bf442b5",
   "metadata": {},
   "outputs": [],
   "source": [
    "image_obj.plot_field_magnitude(0, \n",
    "                               add_streamplot=True,\n",
    "                               streamplot_density=1,\n",
    "                               streamplot_color='k',)"
   ]
  },
  {
   "cell_type": "code",
   "execution_count": null,
   "id": "aebf8cd4-78ab-44d5-8dbf-cdd725622475",
   "metadata": {},
   "outputs": [],
   "source": [
    "image_obj.animate_image_pair(0, filename='image.gif')"
   ]
  },
  {
   "cell_type": "code",
   "execution_count": null,
   "id": "bb83f4fd-9c1b-4e3a-a8e3-f393a6e5ce50",
   "metadata": {},
   "outputs": [],
   "source": []
  },
  {
   "cell_type": "code",
   "execution_count": null,
   "id": "1b068301-23cc-4295-8340-b0ea007f2815",
   "metadata": {},
   "outputs": [],
   "source": []
  },
  {
   "cell_type": "code",
   "execution_count": null,
   "id": "8f571b84-2347-4322-9018-ab400fa6341a",
   "metadata": {},
   "outputs": [],
   "source": []
  },
  {
   "cell_type": "code",
   "execution_count": null,
   "id": "d96cca82-50e2-475d-8753-c730c7f90a95",
   "metadata": {},
   "outputs": [],
   "source": []
  },
  {
   "cell_type": "code",
   "execution_count": null,
   "id": "d38a08a2-55a0-4e7e-9a41-0c40a2158819",
   "metadata": {},
   "outputs": [],
   "source": []
  },
  {
   "cell_type": "code",
   "execution_count": null,
   "id": "9f9774fd-e846-4eb3-8d3f-81b3c812d0f4",
   "metadata": {},
   "outputs": [],
   "source": []
  },
  {
   "cell_type": "code",
   "execution_count": null,
   "id": "ad4edeed-1cba-4918-bd2c-d0fb425743b4",
   "metadata": {},
   "outputs": [],
   "source": []
  },
  {
   "cell_type": "code",
   "execution_count": null,
   "id": "edb6ee47-5796-415f-9f70-7f564a86a09b",
   "metadata": {},
   "outputs": [],
   "source": []
  },
  {
   "cell_type": "markdown",
   "id": "0e8f6565-17de-451a-84ab-a4857f44cb4e",
   "metadata": {},
   "source": [
    "***"
   ]
  }
 ],
 "metadata": {
  "kernelspec": {
   "display_name": "Python 3 (ipykernel)",
   "language": "python",
   "name": "python3"
  },
  "language_info": {
   "codemirror_mode": {
    "name": "ipython",
    "version": 3
   },
   "file_extension": ".py",
   "mimetype": "text/x-python",
   "name": "python",
   "nbconvert_exporter": "python",
   "pygments_lexer": "ipython3",
   "version": "3.10.16"
  }
 },
 "nbformat": 4,
 "nbformat_minor": 5
}
