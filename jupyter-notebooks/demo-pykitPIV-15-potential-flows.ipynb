{
 "cells": [
  {
   "cell_type": "markdown",
   "id": "d34af596-a25d-4bc3-bb4c-8cc5ca79a2bc",
   "metadata": {},
   "source": [
    "<a id=top-page></a>\n",
    "# `pykitPIV` demo: Generate potential flows\n",
    "\n",
    "<div class=\"alert alert-block alert-info\" style=\"margin-top: 20px\">\n",
    "<font size=\"3\"><strong>Table of contents:</strong></font>\n",
    "<br>\n",
    "<ol>\n",
    "    <li><a href=\"#generate-particles\">Generate particles</a></li>\n",
    "    <li><a href=\"#generate-velocity-field\">Generate radial velocity field</a></li>\n",
    "</ol>\n",
    "<p></p>\n",
    "</div>\n",
    "<br>\n",
    "\n",
    "***"
   ]
  },
  {
   "cell_type": "code",
   "execution_count": null,
   "id": "c09c299e-f3c9-4540-be38-ce1c0d34a5a9",
   "metadata": {},
   "outputs": [],
   "source": [
    "import numpy as np\n",
    "import cmcrameri.cm as cmc\n",
    "from pykitPIV import Particle, FlowField, Motion, Image"
   ]
  },
  {
   "cell_type": "code",
   "execution_count": null,
   "id": "e357b0cd-194f-412f-86ee-4b60ec6ee629",
   "metadata": {},
   "outputs": [],
   "source": [
    "save_images = False\n",
    "n_images = 1\n",
    "image_size = (3, 4)\n",
    "size_buffer = 0\n",
    "origin = 'lower'\n",
    "figsize = (6,3.5)\n",
    "filename = None"
   ]
  },
  {
   "cell_type": "markdown",
   "id": "f11826a6-d2db-458f-86c7-b363d336482f",
   "metadata": {},
   "source": [
    "<a id=generate-particles></a>\n",
    "***\n",
    "\n",
    "## Generate particles\n",
    "\n",
    "[Go to the top](#top-page)"
   ]
  },
  {
   "cell_type": "code",
   "execution_count": null,
   "id": "668c1c86-28d6-4306-86a9-64994f39d562",
   "metadata": {},
   "outputs": [],
   "source": [
    "particles = Particle(n_images, \n",
    "                     size=image_size, \n",
    "                     size_buffer=size_buffer,\n",
    "                     diameters=(2,4),\n",
    "                     distances=(1,2),\n",
    "                     densities=(0.05,0.06),\n",
    "                     diameter_std=(0.5,0.5),\n",
    "                     seeding_mode='random', \n",
    "                     random_seed=100)"
   ]
  },
  {
   "cell_type": "code",
   "execution_count": null,
   "id": "e3b9684b-cc7b-45d6-9616-5917767c449a",
   "metadata": {},
   "outputs": [],
   "source": [
    "image = Image(random_seed=100)"
   ]
  },
  {
   "cell_type": "code",
   "execution_count": null,
   "id": "edde6684-d987-4327-979d-03733f51bd2c",
   "metadata": {},
   "outputs": [],
   "source": [
    "image.add_particles(particles)"
   ]
  },
  {
   "cell_type": "markdown",
   "id": "bd93f567-4a14-4eeb-9d0c-684b22ad2cee",
   "metadata": {},
   "source": [
    "<a id=generate-velocity-field></a>\n",
    "***\n",
    "\n",
    "## Generate radial velocity field\n",
    "\n",
    "[Go to the top](#top-page)"
   ]
  },
  {
   "cell_type": "code",
   "execution_count": null,
   "id": "44803731-4187-4bac-acf4-80a8486cef26",
   "metadata": {},
   "outputs": [],
   "source": [
    "flowfield = FlowField(n_images,\n",
    "                      size=image_size,\n",
    "                      size_buffer=size_buffer,\n",
    "                      random_seed=100)"
   ]
  },
  {
   "cell_type": "code",
   "execution_count": null,
   "id": "4a559dab-6cf0-4ba0-9553-738e15628c23",
   "metadata": {},
   "outputs": [],
   "source": [
    "flowfield.generate_potential_velocity_field(imposed_origin=None,\n",
    "                                            displacement=(2,2))"
   ]
  },
  {
   "cell_type": "code",
   "execution_count": null,
   "id": "d55805e0-dbe0-47ab-ba32-fa3205889754",
   "metadata": {},
   "outputs": [],
   "source": [
    "image.add_flowfield(flowfield)"
   ]
  },
  {
   "cell_type": "code",
   "execution_count": null,
   "id": "62b1259c-ec6e-4566-b526-b6f6b128b533",
   "metadata": {},
   "outputs": [],
   "source": [
    "if save_images: filename = 'example-potential-velocity-field.png'\n",
    "image.plot_field(0,\n",
    "                 with_buffer=True,\n",
    "                 xlabel='Width [px]',\n",
    "                 ylabel='Height [px]',\n",
    "                 title=('Example random velocity component $u$', 'Example random velocity component $v$'),\n",
    "                 cmap=cmc.oslo_r,\n",
    "                 origin=origin,\n",
    "                 figsize=figsize,\n",
    "                 filename=filename);"
   ]
  },
  {
   "cell_type": "code",
   "execution_count": null,
   "id": "8768c1ba-d5b3-446d-b13a-8ab1716d9854",
   "metadata": {},
   "outputs": [],
   "source": [
    "if save_images: filename = 'example-potential-velocity-field-magnitude-quiver.png'\n",
    "image.plot_field_magnitude(0,\n",
    "                           with_buffer=True,\n",
    "                           add_quiver=True,\n",
    "                           quiver_step=20,\n",
    "                           quiver_color='r',\n",
    "                           xlabel='Width [px]',\n",
    "                           ylabel='Height [px]',\n",
    "                           title='Example random velocity field magnitude',\n",
    "                           cmap=cmc.oslo_r,\n",
    "                           figsize=figsize,\n",
    "                           filename=filename);"
   ]
  },
  {
   "cell_type": "code",
   "execution_count": null,
   "id": "421e7d9e-ddb6-4705-a02e-10cb264650b2",
   "metadata": {},
   "outputs": [],
   "source": [
    "if save_images: filename = 'example-radial-velocity-field-magnitude-streamplot.png'\n",
    "image.plot_field_magnitude(0,\n",
    "                           with_buffer=False,\n",
    "                           add_streamplot=True,\n",
    "                           streamplot_density=1,\n",
    "                           streamplot_color='g',\n",
    "                           xlabel='Width [px]',\n",
    "                           ylabel='Height [px]',\n",
    "                           title='Example random velocity field magnitude',\n",
    "                           cmap=cmc.oslo_r,\n",
    "                           figsize=figsize,\n",
    "                           filename=filename);"
   ]
  },
  {
   "cell_type": "code",
   "execution_count": null,
   "id": "fa135c67-c87e-4923-ae32-6d863552906a",
   "metadata": {},
   "outputs": [],
   "source": [
    "from pykitPIV import compute_divergence\n",
    "import matplotlib.pyplot as plt"
   ]
  },
  {
   "cell_type": "code",
   "execution_count": null,
   "id": "1c081398-9743-4fcc-9c94-5e78340b53d8",
   "metadata": {},
   "outputs": [],
   "source": [
    "div = compute_divergence(flowfield.velocity_field)"
   ]
  },
  {
   "cell_type": "code",
   "execution_count": null,
   "id": "bd2db8a9-29de-45b8-821e-7be9bcf075df",
   "metadata": {},
   "outputs": [],
   "source": [
    "div.shape"
   ]
  },
  {
   "cell_type": "code",
   "execution_count": null,
   "id": "ae5432ad-c081-4cc0-90a8-1847d4fb000b",
   "metadata": {},
   "outputs": [],
   "source": [
    "plt.imshow(np.abs(div[0,:,:]), cmap='coolwarm', origin='lower')\n",
    "plt.colorbar()"
   ]
  },
  {
   "cell_type": "markdown",
   "id": "5e17063f-c88b-49e4-a3e1-5d90293b68f2",
   "metadata": {},
   "source": [
    "***\n",
    "\n",
    "© K. Zdybał, C. Mucignat, I. Lunati (2025)"
   ]
  }
 ],
 "metadata": {
  "kernelspec": {
   "display_name": "Python 3 (ipykernel)",
   "language": "python",
   "name": "python3"
  },
  "language_info": {
   "codemirror_mode": {
    "name": "ipython",
    "version": 3
   },
   "file_extension": ".py",
   "mimetype": "text/x-python",
   "name": "python",
   "nbconvert_exporter": "python",
   "pygments_lexer": "ipython3",
   "version": "3.10.16"
  }
 },
 "nbformat": 4,
 "nbformat_minor": 5
}
