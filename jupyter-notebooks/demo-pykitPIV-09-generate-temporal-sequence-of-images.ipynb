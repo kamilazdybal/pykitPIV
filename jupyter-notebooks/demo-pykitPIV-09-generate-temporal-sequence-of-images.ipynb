{
 "cells": [
  {
   "cell_type": "markdown",
   "id": "d34af596-a25d-4bc3-bb4c-8cc5ca79a2bc",
   "metadata": {},
   "source": [
    "<a id=top-page></a>\n",
    "# `pykitPIV` demo: Generate a temporal sequence of images\n",
    "\n",
    "In this Jupyter notebook, we show how one can create a whole temporal sequence of PIV images by imposing particle coordinates in the `Particle` class object.\n",
    "\n",
    "This can be useful whenever time-resolved intergration with machine learning (ML) is needed.\n",
    "\n",
    "<div class=\"alert alert-block alert-info\" style=\"margin-top: 20px\">\n",
    "<font size=\"3\"><strong>Table of contents:</strong></font>\n",
    "<br>\n",
    "<ol>\n",
    "    <li><a href=\"#compressible\">Temporal sequence for a <b>compressible</b> flow</a></li>\n",
    "        <ul>\n",
    "        <li><a href=\"#generate-compressible-particles\">Generate particles for the compressible flow</a></li>\n",
    "        <li><a href=\"#generate-compressible-velocity-field\">Generate compressible flow field to advect the particles</a></li>\n",
    "        <li><a href=\"#add-movement\">Add movement to particles</a></li>\n",
    "        <li><a href=\"#animate\">Animate</a></li>\n",
    "        </ul>\n",
    "    <li><a href=\"#incompressible\">Temporal sequence for an <b>incompressible</b> flow</a></li>\n",
    "        <ul>\n",
    "        <li><a href=\"#generate-incompressible-particles\">Generate particles for the incompressible flow</a></li>\n",
    "        <li><a href=\"#generate-potential-velocity-field\">Generate incompressible (potential) flow field to advect the particles</a></li>\n",
    "        <li><a href=\"#add-movement\">Add movement to particles</a></li>\n",
    "        <li><a href=\"#animate\">Animate</a></li>\n",
    "        </ul>\n",
    "</ol>\n",
    "<p></p>\n",
    "</div>\n",
    "<br>\n",
    "\n",
    "***"
   ]
  },
  {
   "cell_type": "code",
   "execution_count": null,
   "id": "c09c299e-f3c9-4540-be38-ce1c0d34a5a9",
   "metadata": {},
   "outputs": [],
   "source": [
    "import numpy as np\n",
    "import cmcrameri.cm as cmc\n",
    "import matplotlib.animation as animation\n",
    "import matplotlib.pyplot as plt\n",
    "from pykitPIV import Particle, FlowField, Motion, Image"
   ]
  },
  {
   "cell_type": "code",
   "execution_count": null,
   "id": "e357b0cd-194f-412f-86ee-4b60ec6ee629",
   "metadata": {},
   "outputs": [],
   "source": [
    "save_images = False\n",
    "n_images = 1\n",
    "image_size = (200, 400)\n",
    "size_buffer = 50\n",
    "origin = 'lower'\n",
    "figsize = (8,6)\n",
    "time_separation = 0.4\n",
    "filename = None"
   ]
  },
  {
   "cell_type": "markdown",
   "id": "d2e4e95c-b1d7-4c83-872a-9fd1550c27e8",
   "metadata": {},
   "source": [
    "Specify PIV properties:"
   ]
  },
  {
   "cell_type": "code",
   "execution_count": null,
   "id": "2e5f43bc-0ef9-40fb-99c4-b5c4e4097ad5",
   "metadata": {},
   "outputs": [],
   "source": [
    "diameters = (3,3)\n",
    "densities = (0.3, 0.3)\n",
    "diameter_std = (0.2, 0.2)\n",
    "exposures = (0.9, 0.9)\n",
    "particle_loss = (0, 0)\n",
    "particle_gain = 'matching'"
   ]
  },
  {
   "cell_type": "markdown",
   "id": "bd93f567-4a14-4eeb-9d0c-684b22ad2cee",
   "metadata": {},
   "source": [
    "<a id=compressible></a>\n",
    "***\n",
    "\n",
    "## Temporal sequence for a compressible flow\n",
    "\n",
    "[Go to the top](#top-page)"
   ]
  },
  {
   "cell_type": "markdown",
   "id": "f11826a6-d2db-458f-86c7-b363d336482f",
   "metadata": {},
   "source": [
    "<a id=generate-particles></a>\n",
    "\n",
    "### Generate particles for the compressible flow\n",
    "\n",
    "[Go to the top](#top-page)"
   ]
  },
  {
   "cell_type": "code",
   "execution_count": null,
   "id": "668c1c86-28d6-4306-86a9-64994f39d562",
   "metadata": {},
   "outputs": [],
   "source": [
    "particles = Particle(n_images, \n",
    "                     size=image_size, \n",
    "                     size_buffer=size_buffer,\n",
    "                     diameters=diameters,\n",
    "                     densities=densities,\n",
    "                     diameter_std=diameter_std,\n",
    "                     seeding_mode='random', \n",
    "                     random_seed=100)\n",
    "\n",
    "image = Image(random_seed=100)\n",
    "\n",
    "image.add_particles(particles)\n",
    "\n",
    "image.add_reflected_light(exposures=exposures,\n",
    "                          maximum_intensity=2**16-1,\n",
    "                          laser_beam_thickness=1,\n",
    "                          laser_over_exposure=1,\n",
    "                          laser_beam_shape=0.95,\n",
    "                          alpha=1/20)\n",
    "\n",
    "image.plot(0, \n",
    "           with_buffer=False,\n",
    "           xlabel='Width [px]',\n",
    "           ylabel='Height [px]',\n",
    "           title='Example PIV image',\n",
    "           cmap='Greys_r',\n",
    "           origin=origin,\n",
    "           figsize=figsize);"
   ]
  },
  {
   "cell_type": "markdown",
   "id": "78d843bf-73a1-43d2-980a-cc99dedb369e",
   "metadata": {},
   "source": [
    "<a id=generate-compressible-velocity-field></a>\n",
    "\n",
    "### Generate compressible flow field to advect the particles\n",
    "\n",
    "[Go to the top](#top-page)"
   ]
  },
  {
   "cell_type": "code",
   "execution_count": null,
   "id": "44803731-4187-4bac-acf4-80a8486cef26",
   "metadata": {},
   "outputs": [],
   "source": [
    "flowfield = FlowField(n_images,\n",
    "                      size=image_size,\n",
    "                      size_buffer=size_buffer,\n",
    "                      random_seed=10)\n",
    "\n",
    "flowfield.generate_random_velocity_field(gaussian_filters=(2,3),\n",
    "                                         n_gaussian_filter_iter=20,\n",
    "                                         displacement=(2,3))\n",
    "\n",
    "image.add_flowfield(flowfield)\n",
    "\n",
    "image.plot_field_magnitude(0,\n",
    "                           with_buffer=False,\n",
    "                           add_quiver=True,\n",
    "                           quiver_step=4,\n",
    "                           quiver_color='r',\n",
    "                           xlabel='Width [px]',\n",
    "                           ylabel='Height [px]',\n",
    "                           title='Compressible',\n",
    "                           cmap=cmc.oslo_r,\n",
    "                           figsize=figsize);"
   ]
  },
  {
   "cell_type": "markdown",
   "id": "7007a2b5-cb23-4fa6-9b0f-7940c544c3bb",
   "metadata": {},
   "source": [
    "<a id=add-movement></a>\n",
    "\n",
    "### Add movement to particles\n",
    "\n",
    "[Go to the top](#top-page)"
   ]
  },
  {
   "cell_type": "code",
   "execution_count": null,
   "id": "23e3ea95-e22d-404a-86c0-03dc1b214224",
   "metadata": {},
   "outputs": [],
   "source": [
    "motion = Motion(particles, \n",
    "                flowfield, \n",
    "                time_separation=time_separation, \n",
    "                particle_loss=particle_loss, \n",
    "                particle_gain=particle_gain)\n",
    "\n",
    "motion.forward_euler(n_steps=10)\n",
    "\n",
    "motion.plot_particle_motion(0,\n",
    "                            s=1,\n",
    "                            xlabel='Width [px]',\n",
    "                            ylabel='Height [px]',\n",
    "                            title='Compressible',\n",
    "                            figsize=figsize);\n",
    "\n",
    "image.add_motion(motion)\n",
    "\n",
    "image.add_reflected_light(exposures=exposures,\n",
    "                          maximum_intensity=2**16-1,\n",
    "                          laser_beam_thickness=1,\n",
    "                          laser_over_exposure=1,\n",
    "                          laser_beam_shape=0.95,\n",
    "                          alpha=1/20)"
   ]
  },
  {
   "cell_type": "code",
   "execution_count": null,
   "id": "9c925478-6471-4011-8277-cac03b5e183d",
   "metadata": {},
   "outputs": [],
   "source": [
    "current_I2 = [image.remove_buffers(image.images_I2)]\n",
    "\n",
    "for i in range(0,30):\n",
    "\n",
    "    print('t = ' + str(round((i+2)*time_separation,1)) + 's')\n",
    "\n",
    "    new_images_I1 = motion.particle_coordinates_I2\n",
    "    \n",
    "    particles.upload_particle_coordinates(new_images_I1)\n",
    "    \n",
    "    motion = Motion(particles, \n",
    "                    flowfield, \n",
    "                    time_separation=time_separation,\n",
    "                    particle_loss=particle_loss, \n",
    "                    particle_gain=particle_gain\n",
    "    \n",
    "    motion.runge_kutta_4th(n_steps=4)\n",
    "    \n",
    "    image.add_motion(motion)\n",
    "    image.add_reflected_light(exposures=exposures,\n",
    "                              maximum_intensity=2**16-1,\n",
    "                              laser_beam_thickness=1,\n",
    "                              laser_over_exposure=1,\n",
    "                              laser_beam_shape=0.95,\n",
    "                              alpha=1/20)\n",
    "\n",
    "    current_I2.append(image.remove_buffers(image.images_I2))"
   ]
  },
  {
   "cell_type": "markdown",
   "id": "15ebc9ca-0418-4d43-a44e-37051d67c797",
   "metadata": {},
   "source": [
    "### Animate"
   ]
  },
  {
   "cell_type": "code",
   "execution_count": null,
   "id": "f3f84814-91b0-474d-a863-10415c9b826c",
   "metadata": {},
   "outputs": [],
   "source": [
    "def animate_evolution(imagelist):\n",
    "\n",
    "    fig = plt.figure(figsize=(6,6))\n",
    "\n",
    "    im = plt.imshow(imagelist[0][0,0,:,:], cmap='Greys_r', origin=origin, animated=True)\n",
    "\n",
    "    plt.title('Compressible flow')\n",
    "    \n",
    "    def updatefig(j):\n",
    "\n",
    "        im.set_array(imagelist[j][0,0,:,:])\n",
    "\n",
    "        return [im]\n",
    "    \n",
    "    anim = animation.FuncAnimation(fig, updatefig, frames=range(len(current_I2)), interval=1, blit=True)\n",
    "    \n",
    "    anim.save('animate-compressible-PIV.gif', fps=20, bitrate=-1, dpi=150, savefig_kwargs={'bbox_inches' : 'tight'})\n",
    "    \n",
    "    return anim"
   ]
  },
  {
   "cell_type": "code",
   "execution_count": null,
   "id": "7b4b2f3a-071b-4386-bdf4-b1e73c0d21a5",
   "metadata": {},
   "outputs": [],
   "source": [
    "animate_evolution(current_I2)"
   ]
  },
  {
   "cell_type": "markdown",
   "id": "7a8d83c3-9f6a-4449-8e49-02b6a2f0789e",
   "metadata": {},
   "source": [
    "<a id=incompressible></a>\n",
    "***\n",
    "\n",
    "## Temporal sequence for an incompressible flow\n",
    "\n",
    "[Go to the top](#top-page)"
   ]
  },
  {
   "cell_type": "markdown",
   "id": "6e4c768c-0315-484b-8f03-33171b3165e4",
   "metadata": {},
   "source": [
    "<a id=generate-particles></a>\n",
    "\n",
    "### Generate particles\n",
    "\n",
    "[Go to the top](#top-page)"
   ]
  },
  {
   "cell_type": "code",
   "execution_count": null,
   "id": "2e3e67a4-ee39-41f8-bd5f-2f23849e1d85",
   "metadata": {},
   "outputs": [],
   "source": [
    "particles = Particle(n_images, \n",
    "                     size=image_size, \n",
    "                     size_buffer=size_buffer,\n",
    "                     diameters=diameters,\n",
    "                     densities=densities,\n",
    "                     diameter_std=diameter_std,\n",
    "                     seeding_mode='random', \n",
    "                     random_seed=100)\n",
    "\n",
    "image = Image(random_seed=100)\n",
    "\n",
    "image.add_particles(particles)\n",
    "\n",
    "image.add_reflected_light(exposures=exposures,\n",
    "                          maximum_intensity=2**16-1,\n",
    "                          laser_beam_thickness=1,\n",
    "                          laser_over_exposure=1,\n",
    "                          laser_beam_shape=0.95,\n",
    "                          alpha=1/20)\n",
    "\n",
    "image.plot(0, \n",
    "           with_buffer=True,\n",
    "           xlabel='Width [px]',\n",
    "           ylabel='Height [px]',\n",
    "           title='Example PIV image',\n",
    "           cmap='Greys_r',\n",
    "           origin=origin,\n",
    "           figsize=figsize);"
   ]
  },
  {
   "cell_type": "markdown",
   "id": "5c4d31c0-9c2b-45b4-b62b-65b5874c36c7",
   "metadata": {},
   "source": [
    "<a id=generate-potential-velocity-field></a>\n",
    "\n",
    "### Generate incompressible (potential) flow field to advect the particles\n",
    "\n",
    "[Go to the top](#top-page)\n",
    "\n",
    "The potential flow is divergence-free, therefore we will not see the effect of \"clustering\" of particles."
   ]
  },
  {
   "cell_type": "code",
   "execution_count": null,
   "id": "8c7f7492-36b3-4036-ae63-a11ad56e222d",
   "metadata": {},
   "outputs": [],
   "source": [
    "flowfield = FlowField(n_images,\n",
    "                      size=image_size,\n",
    "                      size_buffer=size_buffer,\n",
    "                      random_seed=None)\n",
    "\n",
    "flowfield.generate_potential_velocity_field(imposed_origin=(100,150),\n",
    "                                            displacement=(2,2))\n",
    "\n",
    "image.add_flowfield(flowfield)\n",
    "\n",
    "image.plot_field_magnitude(0,\n",
    "                           with_buffer=False,\n",
    "                           add_quiver=True,\n",
    "                           quiver_step=10,\n",
    "                           quiver_color='r',\n",
    "                           xlabel='Width [px]',\n",
    "                           ylabel='Height [px]',\n",
    "                           title='Potential flow',\n",
    "                           cmap=cmc.oslo_r,\n",
    "                           figsize=figsize);"
   ]
  },
  {
   "cell_type": "markdown",
   "id": "95ecffbc-26aa-4d10-b568-8da9e4358b4b",
   "metadata": {},
   "source": [
    "<a id=add-movement></a>\n",
    "\n",
    "### Add movement to particles\n",
    "\n",
    "[Go to the top](#top-page)"
   ]
  },
  {
   "cell_type": "code",
   "execution_count": null,
   "id": "68a387dc-ff09-4e60-96f2-5db834ce7f13",
   "metadata": {},
   "outputs": [],
   "source": [
    "motion = Motion(particles, \n",
    "                flowfield, \n",
    "                time_separation=time_separation,\n",
    "                particle_loss=particle_loss, \n",
    "                particle_gain=particle_gain)\n",
    "\n",
    "motion.forward_euler(n_steps=10)\n",
    "\n",
    "motion.plot_particle_motion(0,\n",
    "                            s=1,\n",
    "                            xlabel='Width [px]',\n",
    "                            ylabel='Height [px]',\n",
    "                            title='Displacement of particles',\n",
    "                            figsize=figsize);\n",
    "\n",
    "image.add_motion(motion)\n",
    "\n",
    "image.add_reflected_light(exposures=exposures,\n",
    "                          maximum_intensity=2**16-1,\n",
    "                          laser_beam_thickness=1,\n",
    "                          laser_over_exposure=1,\n",
    "                          laser_beam_shape=0.95,\n",
    "                          alpha=1/20)"
   ]
  },
  {
   "cell_type": "code",
   "execution_count": null,
   "id": "f541a2f9-9725-4f69-9a0f-a8fe3464b125",
   "metadata": {},
   "outputs": [],
   "source": [
    "current_I2 = [image.remove_buffers(image.images_I2)]\n",
    "\n",
    "for i in range(0,60):\n",
    "\n",
    "    print('t = ' + str(round((i+2)*time_separation,1)) + 's')\n",
    "\n",
    "    new_images_I1 = motion.particle_coordinates_I2\n",
    "    \n",
    "    particles.upload_particle_coordinates(new_images_I1)\n",
    "    \n",
    "    motion = Motion(particles, \n",
    "                    flowfield, \n",
    "                    time_separation=time_separation,\n",
    "                    particle_loss=particle_loss, \n",
    "                    particle_gain=particle_gain\n",
    "    \n",
    "    motion.runge_kutta_4th(n_steps=4)\n",
    "    \n",
    "    image.add_motion(motion)\n",
    "    image.add_reflected_light(exposures=exposures,\n",
    "                              maximum_intensity=2**16-1,\n",
    "                              laser_beam_thickness=1,\n",
    "                              laser_over_exposure=1,\n",
    "                              laser_beam_shape=0.95,\n",
    "                              alpha=1/20)\n",
    "\n",
    "    current_I2.append(image.remove_buffers(image.images_I2))"
   ]
  },
  {
   "cell_type": "markdown",
   "id": "3c71a9ca-a8b6-4150-aebb-0ef4f9c529a0",
   "metadata": {},
   "source": [
    "\n",
    "### Animate"
   ]
  },
  {
   "cell_type": "code",
   "execution_count": null,
   "id": "9d948776-73bf-4fe4-a446-a4c937139ee0",
   "metadata": {},
   "outputs": [],
   "source": [
    "def animate_evolution(imagelist):\n",
    "\n",
    "    fig = plt.figure(figsize=(6,6))\n",
    "\n",
    "    im = plt.imshow(imagelist[0][0,0,:,:], cmap='Greys_r', origin=origin, animated=True)\n",
    "\n",
    "    plt.title('Incompressible flow')\n",
    "    \n",
    "    def updatefig(j):\n",
    "\n",
    "        im.set_array(imagelist[j][0,0,:,:])\n",
    "\n",
    "        return [im]\n",
    "    \n",
    "    anim = animation.FuncAnimation(fig, updatefig, frames=range(len(current_I2)), interval=1, blit=True)\n",
    "    \n",
    "    anim.save('animate-incompressible-PIV.gif', fps=20, bitrate=-1, dpi=150, savefig_kwargs={'bbox_inches' : 'tight'})\n",
    "    \n",
    "    return anim"
   ]
  },
  {
   "cell_type": "code",
   "execution_count": null,
   "id": "8eee89c8-d6c1-4bbd-9721-53c2a22cd426",
   "metadata": {},
   "outputs": [],
   "source": [
    "animate_evolution(current_I2)"
   ]
  },
  {
   "cell_type": "markdown",
   "id": "5e17063f-c88b-49e4-a3e1-5d90293b68f2",
   "metadata": {},
   "source": [
    "***\n",
    "\n",
    "© K. Zdybał, C. Mucignat, I. Lunati (2025)"
   ]
  }
 ],
 "metadata": {
  "kernelspec": {
   "display_name": "Python 3 (ipykernel)",
   "language": "python",
   "name": "python3"
  },
  "language_info": {
   "codemirror_mode": {
    "name": "ipython",
    "version": 3
   },
   "file_extension": ".py",
   "mimetype": "text/x-python",
   "name": "python",
   "nbconvert_exporter": "python",
   "pygments_lexer": "ipython3",
   "version": "3.10.16"
  }
 },
 "nbformat": 4,
 "nbformat_minor": 5
}
