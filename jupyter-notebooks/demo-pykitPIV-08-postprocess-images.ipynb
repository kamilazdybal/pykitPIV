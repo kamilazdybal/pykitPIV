{
 "cells": [
  {
   "cell_type": "markdown",
   "id": "d34af596-a25d-4bc3-bb4c-8cc5ca79a2bc",
   "metadata": {},
   "source": [
    "<a id=top-page></a>\n",
    "# `pykitPIV` demo: Transform images\n",
    "\n",
    "<div class=\"alert alert-block alert-info\" style=\"margin-top: 20px\">\n",
    "<font size=\"3\"><strong>Table of contents:</strong></font>\n",
    "<br>\n",
    "<ol>\n",
    "    <li><a href=\"#upload\">Upload the saved datasets</a></li>\n",
    "</ol>\n",
    "<p></p>\n",
    "</div>\n",
    "<br>\n",
    "\n",
    "***"
   ]
  },
  {
   "cell_type": "code",
   "execution_count": null,
   "id": "c09c299e-f3c9-4540-be38-ce1c0d34a5a9",
   "metadata": {},
   "outputs": [],
   "source": [
    "import matplotlib.pyplot as plt\n",
    "import numpy as np\n",
    "import scipy\n",
    "import torch\n",
    "import cmcrameri.cm as cmc\n",
    "from pykitPIV import Image, Postprocess, Particle, FlowField"
   ]
  },
  {
   "cell_type": "code",
   "execution_count": null,
   "id": "c7dca88c-ca08-44e8-b97e-454008eb7452",
   "metadata": {},
   "outputs": [],
   "source": [
    "save_images = False\n",
    "figsize = (10,10)\n",
    "filename = None"
   ]
  },
  {
   "cell_type": "markdown",
   "id": "6c56ff6f-4693-4a2a-92c8-5bb839b06e0b",
   "metadata": {},
   "source": [
    "<a id=upload></a>\n",
    "***\n",
    "\n",
    "## Post-process saved dataset\n",
    "\n",
    "[Go to the top](#top-page)"
   ]
  },
  {
   "cell_type": "markdown",
   "id": "66368f7b-3275-4c8d-8cc8-df1d4da32773",
   "metadata": {},
   "source": [
    "The standalone import of previously saved PIV image pairs and the associated targets can be performed following this minimal example:"
   ]
  },
  {
   "cell_type": "code",
   "execution_count": null,
   "id": "0b7a29d9-49a2-4dd3-afa6-9310658d07ca",
   "metadata": {},
   "outputs": [],
   "source": [
    "image = Image()"
   ]
  },
  {
   "cell_type": "code",
   "execution_count": null,
   "id": "8c7f8177-87c4-46e6-81e9-d7c4af988e8b",
   "metadata": {},
   "outputs": [],
   "source": [
    "images_tensor_dic = image.upload_from_h5(filename='../docs/data/pykitPIV-dataset-10-PIV-pairs-256-by-256.h5')\n",
    "images_tensor = images_tensor_dic['I']\n",
    "images_tensor.shape"
   ]
  },
  {
   "cell_type": "markdown",
   "id": "1a5578dc-ecc4-40e3-907f-36eb5caad635",
   "metadata": {},
   "source": [
    "### Pass an image tensor of size $(N, 2, H, W)$"
   ]
  },
  {
   "cell_type": "code",
   "execution_count": null,
   "id": "bb1c5d46-7fda-4629-8765-1ecc5a8b765f",
   "metadata": {},
   "outputs": [],
   "source": [
    "postprocess = Postprocess(images_tensor)"
   ]
  },
  {
   "cell_type": "markdown",
   "id": "895ee44d-bba3-4243-8916-610942cd9f52",
   "metadata": {},
   "source": [
    "Check that the image pair has been passed and not just one image:"
   ]
  },
  {
   "cell_type": "code",
   "execution_count": null,
   "id": "cb56b610-3f9e-46dd-a72e-b7b47339d3ce",
   "metadata": {},
   "outputs": [],
   "source": [
    "postprocess.image_pair"
   ]
  },
  {
   "cell_type": "markdown",
   "id": "ed896fb7-4a3a-47bb-8aac-9368ee942af9",
   "metadata": {},
   "source": [
    "First, we add Gaussian noise to the images:"
   ]
  },
  {
   "cell_type": "code",
   "execution_count": null,
   "id": "ae517044-aabe-4600-9a16-a8b68bc288e0",
   "metadata": {},
   "outputs": [],
   "source": [
    "postprocess.add_gaussian_noise(loc=0.0, \n",
    "                               scale=(100,200))"
   ]
  },
  {
   "cell_type": "code",
   "execution_count": null,
   "id": "a58a56e3-81ac-43ae-9129-6faae59fe5c8",
   "metadata": {},
   "outputs": [],
   "source": [
    "plt = postprocess.plot(original=False,\n",
    "                 idx=2,\n",
    "                 instance=1,\n",
    "                 xlabel='Width [px]',\n",
    "                 ylabel='Height [px]',\n",
    "                 cmap='Greys_r',\n",
    "                 figsize=figsize)\n",
    "\n",
    "plt.colorbar()"
   ]
  },
  {
   "cell_type": "code",
   "execution_count": null,
   "id": "754eaf40-abe1-49cb-9389-ba8983a94b2d",
   "metadata": {},
   "outputs": [],
   "source": [
    "np.min(postprocess.processed_image_tensor)"
   ]
  },
  {
   "cell_type": "markdown",
   "id": "02eb398d-cd82-4a21-ad86-d48ee470f317",
   "metadata": {},
   "source": [
    "Second, we perform a log-transformation of the images with the noise added:"
   ]
  },
  {
   "cell_type": "code",
   "execution_count": null,
   "id": "12b2d89d-700c-45af-8446-1388f082f4b6",
   "metadata": {},
   "outputs": [],
   "source": [
    "postprocess.log_transform_images(addition=1000)"
   ]
  },
  {
   "cell_type": "code",
   "execution_count": null,
   "id": "5ffaad84-de90-4bd0-a015-6ae02567e828",
   "metadata": {},
   "outputs": [],
   "source": [
    "postprocess.processed_image_tensor.shape"
   ]
  },
  {
   "cell_type": "code",
   "execution_count": null,
   "id": "ea08dfb9-ce49-496f-a43e-1db5263f69a9",
   "metadata": {},
   "outputs": [],
   "source": [
    "plt = postprocess.plot(original=False,\n",
    "                 idx=0,\n",
    "                 xlabel='Width [px]',\n",
    "                 ylabel='Height [px]',\n",
    "                 cmap='Greys_r',\n",
    "                 figsize=figsize);\n",
    "\n",
    "plt.colorbar()"
   ]
  },
  {
   "cell_type": "markdown",
   "id": "34d8fa3f-fdb9-45f9-8d73-8250d6cfa4aa",
   "metadata": {},
   "source": [
    "### Pass an image tensor of size $(N, H, W)$"
   ]
  },
  {
   "cell_type": "code",
   "execution_count": null,
   "id": "94442c5d-431a-4790-91b8-457870b0f540",
   "metadata": {},
   "outputs": [],
   "source": [
    "postprocess = Postprocess(images_tensor[:,0,:,:])"
   ]
  },
  {
   "cell_type": "markdown",
   "id": "de33d8ec-bbb3-457d-8557-554644a0978e",
   "metadata": {},
   "source": [
    "Check that single image instances, $I_1$, have been passed:"
   ]
  },
  {
   "cell_type": "code",
   "execution_count": null,
   "id": "e153f830-a785-4798-bbbd-52cbd13ec5da",
   "metadata": {},
   "outputs": [],
   "source": [
    "postprocess.image_pair"
   ]
  },
  {
   "cell_type": "markdown",
   "id": "a7f66efe-58cb-4056-ad7f-97c475804fd2",
   "metadata": {},
   "source": [
    "Perform a log-transformation of the images:"
   ]
  },
  {
   "cell_type": "code",
   "execution_count": null,
   "id": "e125d56f-7223-433a-95c3-9e93e745724d",
   "metadata": {},
   "outputs": [],
   "source": [
    "postprocess.log_transform_images(addition=1000)"
   ]
  },
  {
   "cell_type": "code",
   "execution_count": null,
   "id": "0794a021-d46a-446f-8fb4-9d151613a541",
   "metadata": {},
   "outputs": [],
   "source": [
    "postprocess.processed_image_tensor.shape"
   ]
  },
  {
   "cell_type": "code",
   "execution_count": null,
   "id": "b8257aba-d57b-4199-ab4e-b0fc3c41fb4c",
   "metadata": {},
   "outputs": [],
   "source": [
    "plt = postprocess.plot(original=False,\n",
    "                 idx=0,\n",
    "                 xlabel='Width [px]',\n",
    "                 ylabel='Height [px]',\n",
    "                 cmap='Greys_r',\n",
    "                 figsize=figsize)\n",
    "\n",
    "plt.colorbar()"
   ]
  },
  {
   "cell_type": "markdown",
   "id": "5668fa50-093d-4cbd-9ff7-3b8c854d6261",
   "metadata": {},
   "source": [
    "Add Gaussian noise to the log-transformed images:"
   ]
  },
  {
   "cell_type": "code",
   "execution_count": null,
   "id": "5a06db0a-230a-4848-94dc-41d5d5d4982a",
   "metadata": {},
   "outputs": [],
   "source": [
    "postprocess.add_gaussian_noise(loc=0.0, \n",
    "                               scale=(0.1,0.2))"
   ]
  },
  {
   "cell_type": "code",
   "execution_count": null,
   "id": "1feb63da-d980-4828-8e05-591a37257268",
   "metadata": {},
   "outputs": [],
   "source": [
    "plt = postprocess.plot(original=False,\n",
    "                 idx=2,\n",
    "                 instance=1,\n",
    "                 xlabel='Width [px]',\n",
    "                 ylabel='Height [px]',\n",
    "                 cmap='Greys_r',\n",
    "                 figsize=figsize)\n",
    "\n",
    "plt.colorbar()"
   ]
  },
  {
   "cell_type": "markdown",
   "id": "34ebc9bd-f6a3-4636-866a-d73c9390e69a",
   "metadata": {},
   "source": [
    "***\n",
    "\n",
    "## Post-process on-the-fly user-created dataset"
   ]
  },
  {
   "cell_type": "markdown",
   "id": "941eb813-4cb2-416c-bc6d-7d5447cffcda",
   "metadata": {},
   "source": [
    "***\n",
    "\n",
    "## Add shot noise and Gaussian noise to images\n",
    "\n",
    "[Go to the top](#top-page)"
   ]
  },
  {
   "cell_type": "code",
   "execution_count": null,
   "id": "7c116329-3122-47f7-a10a-fddfdd8830b1",
   "metadata": {},
   "outputs": [],
   "source": [
    "n_images = 1\n",
    "image_size = (50, 50)\n",
    "size_buffer = 0\n",
    "figsize=(4,4)"
   ]
  },
  {
   "cell_type": "code",
   "execution_count": null,
   "id": "668c1c86-28d6-4306-86a9-64994f39d562",
   "metadata": {},
   "outputs": [],
   "source": [
    "particles = Particle(n_images, \n",
    "                     size=image_size, \n",
    "                     size_buffer=size_buffer,\n",
    "                     diameters=4,\n",
    "                     densities=0.05,\n",
    "                     diameter_std=0,\n",
    "                     seeding_mode='random', \n",
    "                     random_seed=100)"
   ]
  },
  {
   "cell_type": "code",
   "execution_count": null,
   "id": "e3b9684b-cc7b-45d6-9616-5917767c449a",
   "metadata": {},
   "outputs": [],
   "source": [
    "image = Image(random_seed=100)"
   ]
  },
  {
   "cell_type": "code",
   "execution_count": null,
   "id": "edde6684-d987-4327-979d-03733f51bd2c",
   "metadata": {},
   "outputs": [],
   "source": [
    "image.add_particles(particles)"
   ]
  },
  {
   "cell_type": "code",
   "execution_count": null,
   "id": "4190c398-b85c-4525-8b14-b2def4e1ce32",
   "metadata": {},
   "outputs": [],
   "source": [
    "image.add_reflected_light(exposures=(0.99,0.99),\n",
    "                          maximum_intensity=2**16-1,\n",
    "                          laser_beam_thickness=1,\n",
    "                          laser_over_exposure=1,\n",
    "                          laser_beam_shape=0.95,\n",
    "                          alpha=1/8)"
   ]
  },
  {
   "cell_type": "code",
   "execution_count": null,
   "id": "fec7239f-7e64-474e-b082-eacdee76e378",
   "metadata": {},
   "outputs": [],
   "source": [
    "plt = image.plot(0, \n",
    "                 with_buffer=True,\n",
    "                 xlabel='Width [px]',\n",
    "                 ylabel='Height [px]',\n",
    "                 cmap='Greys_r',\n",
    "                 origin='lower',\n",
    "                 figsize=figsize)\n",
    "\n",
    "plt.colorbar()"
   ]
  },
  {
   "cell_type": "code",
   "execution_count": null,
   "id": "776abf25-8718-485c-b632-a88553b9c3f4",
   "metadata": {},
   "outputs": [],
   "source": [
    "images_tensor = image.images_I1[:,0,:,:]"
   ]
  },
  {
   "cell_type": "code",
   "execution_count": null,
   "id": "620dd0dd-e6b6-4b2c-8639-158583809bd8",
   "metadata": {},
   "outputs": [],
   "source": [
    "images_tensor.shape"
   ]
  },
  {
   "cell_type": "code",
   "execution_count": null,
   "id": "efea2e0c-ef90-43c2-892a-03fe33a98035",
   "metadata": {},
   "outputs": [],
   "source": [
    "postprocess = Postprocess(images_tensor, \n",
    "                          random_seed=100)"
   ]
  },
  {
   "cell_type": "markdown",
   "id": "1d9d4896-bfe7-4dd8-8242-acb5dc00cc72",
   "metadata": {},
   "source": [
    "First, we add Gaussian noise to the images:"
   ]
  },
  {
   "cell_type": "code",
   "execution_count": null,
   "id": "3b9d2fb9-3493-48b3-90eb-725607cbb41e",
   "metadata": {},
   "outputs": [],
   "source": [
    "postprocess.add_shot_noise(strength=1,\n",
    "                           clip=2**16-1)"
   ]
  },
  {
   "cell_type": "code",
   "execution_count": null,
   "id": "b94557b7-1f6f-4995-9276-3e69d820a4e5",
   "metadata": {},
   "outputs": [],
   "source": [
    "plt = postprocess.plot(original=True,\n",
    "                 idx=0,\n",
    "                 instance=1,\n",
    "                 xlabel='Width [px]',\n",
    "                 ylabel='Height [px]',\n",
    "                 cmap='Greys_r',\n",
    "                 figsize=figsize)\n",
    "\n",
    "plt.colorbar()"
   ]
  },
  {
   "cell_type": "code",
   "execution_count": null,
   "id": "b2e86a91-8825-4c2f-b579-7e6ed286dc0a",
   "metadata": {},
   "outputs": [],
   "source": [
    "plt = postprocess.plot(original=False,\n",
    "                       idx=0,\n",
    "                       instance=1,\n",
    "                       xlabel='Width [px]',\n",
    "                       ylabel='Height [px]',\n",
    "                       cmap='Greys_r',\n",
    "                       vmin=0,\n",
    "                       vmax=2**16-1,\n",
    "                       figsize=figsize)\n",
    "\n",
    "plt.colorbar()"
   ]
  },
  {
   "cell_type": "code",
   "execution_count": null,
   "id": "13a754c2-dfcf-4a7e-a0a7-171b291f4ab3",
   "metadata": {},
   "outputs": [],
   "source": [
    "np.min(postprocess.processed_image_tensor)"
   ]
  },
  {
   "cell_type": "code",
   "execution_count": null,
   "id": "e90108a7-57c1-478b-9394-73583bc17aa1",
   "metadata": {},
   "outputs": [],
   "source": [
    "np.max(postprocess.processed_image_tensor)"
   ]
  },
  {
   "cell_type": "markdown",
   "id": "31e3f969-0671-4412-b21b-9798f951ddee",
   "metadata": {},
   "source": [
    "Add Gaussian noise atop the shot noise:"
   ]
  },
  {
   "cell_type": "code",
   "execution_count": null,
   "id": "853744e1-b80e-4d79-8942-dcf594036075",
   "metadata": {},
   "outputs": [],
   "source": [
    "postprocess.add_gaussian_noise(loc=0.0,\n",
    "                               scale=10000,\n",
    "                               clip=2**16-1)"
   ]
  },
  {
   "cell_type": "code",
   "execution_count": null,
   "id": "c6767694-4811-4794-a5d6-7e9849228c92",
   "metadata": {},
   "outputs": [],
   "source": [
    "plt = postprocess.plot(original=False,\n",
    "                       idx=0,\n",
    "                       instance=1,\n",
    "                       xlabel='Width [px]',\n",
    "                       ylabel='Height [px]',\n",
    "                       cmap='Greys_r',\n",
    "                       figsize=figsize)\n",
    "\n",
    "plt.colorbar()"
   ]
  },
  {
   "cell_type": "code",
   "execution_count": null,
   "id": "fcb87220-237a-4f73-bd81-3722b616873c",
   "metadata": {},
   "outputs": [],
   "source": [
    "np.min(postprocess.processed_image_tensor)"
   ]
  },
  {
   "cell_type": "code",
   "execution_count": null,
   "id": "052d2b01-6f8f-4f8a-b2f5-c7ea72179004",
   "metadata": {},
   "outputs": [],
   "source": [
    "np.max(postprocess.processed_image_tensor)"
   ]
  },
  {
   "cell_type": "code",
   "execution_count": null,
   "id": "e78a88c6-77db-4dc6-901e-49c9bf7e7b79",
   "metadata": {},
   "outputs": [],
   "source": [
    "figsize=(6,3)"
   ]
  },
  {
   "cell_type": "code",
   "execution_count": null,
   "id": "42e6726c-0f46-4520-b0e5-bc8dcd87f634",
   "metadata": {},
   "outputs": [],
   "source": [
    "image = Image(random_seed=100)"
   ]
  },
  {
   "cell_type": "code",
   "execution_count": null,
   "id": "44803731-4187-4bac-acf4-80a8486cef26",
   "metadata": {},
   "outputs": [],
   "source": [
    "flowfield = FlowField(1,\n",
    "                      size=(30,30),\n",
    "                      size_buffer=0,\n",
    "                      random_seed=100)"
   ]
  },
  {
   "cell_type": "code",
   "execution_count": null,
   "id": "4a559dab-6cf0-4ba0-9553-738e15628c23",
   "metadata": {},
   "outputs": [],
   "source": [
    "flowfield.generate_checkered_velocity_field(displacement=(0,2),\n",
    "                                            m=8,\n",
    "                                            n=8,\n",
    "                                            rotation=None)"
   ]
  },
  {
   "cell_type": "code",
   "execution_count": null,
   "id": "d55805e0-dbe0-47ab-ba32-fa3205889754",
   "metadata": {},
   "outputs": [],
   "source": [
    "image.add_flowfield(flowfield)"
   ]
  },
  {
   "cell_type": "code",
   "execution_count": null,
   "id": "62b1259c-ec6e-4566-b526-b6f6b128b533",
   "metadata": {},
   "outputs": [],
   "source": [
    "image.plot_field(0,\n",
    "                  with_buffer=True,\n",
    "                  xlabel='Width [px]',\n",
    "                  ylabel='Height [px]',\n",
    "                  title=('Example random velocity component $u$', 'Example random velocity component $v$'),\n",
    "                  cmap=cmc.oslo_r,\n",
    "                  figsize=figsize);"
   ]
  },
  {
   "cell_type": "code",
   "execution_count": null,
   "id": "1b36c1d4-baec-494a-b02c-8d13f063d43e",
   "metadata": {},
   "outputs": [],
   "source": [
    "image_tensor = flowfield.velocity_field[0][0][None,:,:]\n",
    "image_tensor.shape"
   ]
  },
  {
   "cell_type": "code",
   "execution_count": null,
   "id": "6f3a4278-87b4-4f2e-849d-5761f4380585",
   "metadata": {},
   "outputs": [],
   "source": [
    "postprocess = Postprocess(image_tensor)"
   ]
  },
  {
   "cell_type": "code",
   "execution_count": null,
   "id": "84f0a223-7ec0-4b1d-a4e3-df0e6f913f10",
   "metadata": {},
   "outputs": [],
   "source": [
    "log_transformed_images_tensor = postprocess.log_transform_images(addition=10)"
   ]
  },
  {
   "cell_type": "code",
   "execution_count": null,
   "id": "ce88248f-7cee-4ba9-bcc5-78a46fa1fd9c",
   "metadata": {},
   "outputs": [],
   "source": [
    "postprocess.plot(False,\n",
    "                 0,\n",
    "                 instance=2,\n",
    "                 xlabel='Width [px]',\n",
    "                 ylabel='Height [px]',\n",
    "                 cmap='viridis',\n",
    "                 cbar=True,\n",
    "                 figsize=figsize);"
   ]
  },
  {
   "cell_type": "code",
   "execution_count": null,
   "id": "daa4c655-cc57-47cc-9417-443c023cc76b",
   "metadata": {},
   "outputs": [],
   "source": [
    "postprocess.plot(True,\n",
    "                 0,\n",
    "                 instance=2,\n",
    "                 xlabel='Width [px]',\n",
    "                 ylabel='Height [px]',\n",
    "                 cmap='viridis',\n",
    "                 cbar=True,\n",
    "                 figsize=figsize);"
   ]
  },
  {
   "cell_type": "code",
   "execution_count": null,
   "id": "014eb1be-e2b9-4649-bb2b-fee20047a81a",
   "metadata": {},
   "outputs": [],
   "source": []
  },
  {
   "cell_type": "code",
   "execution_count": null,
   "id": "0b6bcf03-f44d-40ea-ba3d-79be571e74c7",
   "metadata": {},
   "outputs": [],
   "source": []
  },
  {
   "cell_type": "code",
   "execution_count": null,
   "id": "5ae67757-199c-4378-8315-916a30b8f0af",
   "metadata": {},
   "outputs": [],
   "source": []
  },
  {
   "cell_type": "code",
   "execution_count": null,
   "id": "aacb4516-90d3-4b1f-a023-e3fbbc234bd2",
   "metadata": {},
   "outputs": [],
   "source": []
  },
  {
   "cell_type": "code",
   "execution_count": null,
   "id": "a0f337db-305b-4d79-9a3d-a918bacf23a7",
   "metadata": {},
   "outputs": [],
   "source": []
  },
  {
   "cell_type": "code",
   "execution_count": null,
   "id": "fb9a11d5-0d38-454f-8492-6be89d09f1e9",
   "metadata": {},
   "outputs": [],
   "source": []
  },
  {
   "cell_type": "code",
   "execution_count": null,
   "id": "bcc92573-719d-49e3-aa22-5d437a77954c",
   "metadata": {},
   "outputs": [],
   "source": []
  },
  {
   "cell_type": "code",
   "execution_count": null,
   "id": "0869f29e-9659-4cb2-a46a-ae0355c46511",
   "metadata": {},
   "outputs": [],
   "source": []
  },
  {
   "cell_type": "code",
   "execution_count": null,
   "id": "f621a391-1390-4514-9d14-ccf3ea2753b1",
   "metadata": {},
   "outputs": [],
   "source": []
  },
  {
   "cell_type": "code",
   "execution_count": null,
   "id": "fcfa4d44-f9e5-4977-85bf-2275f84527e1",
   "metadata": {},
   "outputs": [],
   "source": [
    "filters = np.ones((5,5))"
   ]
  },
  {
   "cell_type": "code",
   "execution_count": null,
   "id": "31b6fe5d-9992-471a-be4c-83f9edbac41d",
   "metadata": {},
   "outputs": [],
   "source": [
    "filters[0,:] = 1\n",
    "filters[1,:] = 0\n",
    "filters[3,:] = 0\n",
    "filters[4,:] = 1"
   ]
  },
  {
   "cell_type": "code",
   "execution_count": null,
   "id": "d3f6bf5f-6d0d-401a-a0ec-7bef2f0d6f2c",
   "metadata": {},
   "outputs": [],
   "source": [
    "filters"
   ]
  },
  {
   "cell_type": "code",
   "execution_count": null,
   "id": "97b8bcae-1079-467c-bbeb-96b91c475aed",
   "metadata": {},
   "outputs": [],
   "source": [
    "from torch.nn import Conv2d\n",
    "import torch.nn.functional as F"
   ]
  },
  {
   "cell_type": "code",
   "execution_count": null,
   "id": "4c5707a7-f0ca-42d5-a975-e003de5ff640",
   "metadata": {},
   "outputs": [],
   "source": [
    "filtered_image_tensor = F.conv2d(torch.from_numpy(image_tensor), \n",
    "                                                   torch.from_numpy(filters[None,None,:,:]), \n",
    "                                                   padding='same')"
   ]
  },
  {
   "cell_type": "code",
   "execution_count": null,
   "id": "0569cccd-3685-45c2-bc9c-15f2a55ec7a2",
   "metadata": {},
   "outputs": [],
   "source": [
    "Hin = 10"
   ]
  },
  {
   "cell_type": "code",
   "execution_count": null,
   "id": "c7d156a3-cabf-4e00-996f-2b529befffbd",
   "metadata": {},
   "outputs": [],
   "source": [
    "x = torch.rand(1,3,Hin,Hin)\n",
    "conv = Conv2d(3, 1000, 1, padding=(1,1), stride=(1,1), dilation=(1,1))\n",
    "output = conv(x)\n",
    "output.shape"
   ]
  },
  {
   "cell_type": "code",
   "execution_count": null,
   "id": "c5a03171-e79a-4419-afd2-028ed37a05c6",
   "metadata": {},
   "outputs": [],
   "source": [
    "conv.padding"
   ]
  },
  {
   "cell_type": "code",
   "execution_count": null,
   "id": "c6be439c-63de-450f-9a98-2c4004d99d36",
   "metadata": {},
   "outputs": [],
   "source": [
    "conv_grouped.dilation"
   ]
  },
  {
   "cell_type": "code",
   "execution_count": null,
   "id": "bbf33564-54cd-47a3-a2ea-f53757966498",
   "metadata": {},
   "outputs": [],
   "source": [
    "conv_grouped.kernel_size"
   ]
  },
  {
   "cell_type": "code",
   "execution_count": null,
   "id": "c8fcb7a8-74bb-43cf-bb0e-30608f8fd158",
   "metadata": {},
   "outputs": [],
   "source": [
    "conv_grouped.stride"
   ]
  },
  {
   "cell_type": "code",
   "execution_count": null,
   "id": "399d69ff-84b7-416c-ba7f-7c98c95f685e",
   "metadata": {},
   "outputs": [],
   "source": [
    "Hout = int(np.floor((Hin - (2 * conv_grouped.padding[0]) - conv_grouped.dilation[0] * (conv_grouped.kernel_size[0] - 1) - 1) / (conv_grouped.stride[0]) + 1))\n",
    "Hout"
   ]
  },
  {
   "cell_type": "code",
   "execution_count": null,
   "id": "aa01fa6d-d788-41fe-a69f-24ea7c2f90f3",
   "metadata": {},
   "outputs": [],
   "source": [
    "conv_grouped.weight.shape"
   ]
  },
  {
   "cell_type": "code",
   "execution_count": null,
   "id": "6bc7e530-49b0-41ac-b0a2-85c25f45020d",
   "metadata": {},
   "outputs": [],
   "source": [
    "conv_grouped.bias.shape"
   ]
  },
  {
   "cell_type": "code",
   "execution_count": null,
   "id": "39fed027-beea-4078-9359-a4655e1658e8",
   "metadata": {},
   "outputs": [],
   "source": []
  },
  {
   "cell_type": "code",
   "execution_count": null,
   "id": "e9080fea-4e15-4399-a131-69595ba53c39",
   "metadata": {},
   "outputs": [],
   "source": []
  },
  {
   "cell_type": "code",
   "execution_count": null,
   "id": "cfc0e421-12e9-4720-b36f-0bd07524bff8",
   "metadata": {},
   "outputs": [],
   "source": [
    "from diff_conv2d import functional"
   ]
  },
  {
   "cell_type": "code",
   "execution_count": null,
   "id": "2db51e34-53b8-46a0-bb97-d7b98bcba5c8",
   "metadata": {},
   "outputs": [],
   "source": [
    "torch.set_default_dtype(torch.float64)\n",
    "B_, Ci_, H_, W_ = 8, 4, 500, 300\n",
    "n_ = 5\n",
    "p_ = n_ // 2\n",
    "Co_, groups_ = 1, 1\n",
    "img_ = torch.rand(B_, Ci_, H_, W_)\n",
    "kernel_ = torch.rand(Co_, Ci_ // groups_, n_, n_)\n",
    "model = functional.DiffConv2d(kernel_size=n_)\n",
    "res_s = model.conv2d(img_, kernel_, groups=groups_, optimized_for='speed')\n",
    "res_m = model.conv2d(img_, kernel_, groups=groups_, optimized_for='memory')\n",
    "print(res_s.shape)\n",
    "print((res_s - res_m).abs().max())"
   ]
  },
  {
   "cell_type": "code",
   "execution_count": null,
   "id": "236737f5-22bd-49aa-9b88-d101708e2799",
   "metadata": {},
   "outputs": [],
   "source": []
  },
  {
   "cell_type": "code",
   "execution_count": null,
   "id": "408981b9-525b-4299-acae-d92bb1d4c440",
   "metadata": {},
   "outputs": [],
   "source": [
    "plt.imshow(filtered_image_tensor[0,:,:])\n",
    "plt.colorbar()"
   ]
  },
  {
   "cell_type": "code",
   "execution_count": null,
   "id": "79efd8db-b82f-4f31-ad2f-bbf41f3f7b17",
   "metadata": {},
   "outputs": [],
   "source": [
    "plt.imshow(image_tensor[0,:,:])\n",
    "plt.colorbar()"
   ]
  },
  {
   "cell_type": "code",
   "execution_count": null,
   "id": "eeb8ce71-7bb6-44b5-bed0-d1df672bda28",
   "metadata": {},
   "outputs": [],
   "source": [
    "plt.imshow(input_tensor[0,:,:]/torch.max(input_tensor[0,:,:]) - filtered_image_tensor[0,:,:]/torch.max(filtered_image_tensor[0,:,:]), \n",
    "           cmap='coolwarm')\n",
    "\n",
    "plt.colorbar();"
   ]
  },
  {
   "cell_type": "code",
   "execution_count": null,
   "id": "ce384299-3e09-4891-b0c1-94620a2cee47",
   "metadata": {},
   "outputs": [],
   "source": [
    "from diff_conv2d import functional\n",
    "from diff_conv2d import layers\n",
    "from diff_conv2d import maths"
   ]
  },
  {
   "cell_type": "code",
   "execution_count": null,
   "id": "d4d5b954-92d3-45e6-be65-c891b8d78782",
   "metadata": {},
   "outputs": [],
   "source": [
    "from diff_conv2d.functional import DiffConv2d\n",
    "\n",
    "diff = DiffConv2d(kernel_size=5)  # kernel_size can be 3, 5, or 7\n",
    "output = diff.conv2d(torch.from_numpy(image_tensor[None,:,:,:]).float(), torch.from_numpy(filters[None,None,:,:]).float())"
   ]
  },
  {
   "cell_type": "code",
   "execution_count": null,
   "id": "08049ab1-0d62-41fe-8a84-7d5103b7947b",
   "metadata": {},
   "outputs": [],
   "source": [
    "output.shape"
   ]
  },
  {
   "cell_type": "code",
   "execution_count": null,
   "id": "58e77e0e-d31a-4173-9846-d097a60953da",
   "metadata": {},
   "outputs": [],
   "source": [
    "plt.imshow(output[0,0,:,:])\n",
    "plt.colorbar()"
   ]
  },
  {
   "cell_type": "code",
   "execution_count": null,
   "id": "8ae72284-927d-4f0d-ad0d-bd9cc0812f35",
   "metadata": {},
   "outputs": [],
   "source": [
    "plt.imshow(input_tensor[0,:,:]/torch.max(input_tensor[0,:,:]) - output[0,0,:,:]/torch.max(output[0,0,:,:]), \n",
    "           cmap='coolwarm', vmin=-0.3, vmax=0.3)\n",
    "\n",
    "plt.colorbar();"
   ]
  },
  {
   "cell_type": "code",
   "execution_count": null,
   "id": "7e8877b6-d7bf-4ffd-a7e5-91166f9ceb75",
   "metadata": {},
   "outputs": [],
   "source": []
  },
  {
   "cell_type": "code",
   "execution_count": null,
   "id": "109dcf81-2cba-4b9f-a8c7-282a14ff256f",
   "metadata": {},
   "outputs": [],
   "source": []
  },
  {
   "cell_type": "code",
   "execution_count": null,
   "id": "a6ebc598-7505-4c16-bef9-04121982608d",
   "metadata": {},
   "outputs": [],
   "source": []
  },
  {
   "cell_type": "code",
   "execution_count": null,
   "id": "362263f9-5426-4b54-9386-5f722a6dc416",
   "metadata": {},
   "outputs": [],
   "source": [
    "m = torch.nn.Conv2d(1, 1, 3, stride=1, padding='same', padding_mode='zeros', bias=False)\n",
    "output = m(input_tensor.float())"
   ]
  },
  {
   "cell_type": "code",
   "execution_count": null,
   "id": "f526e8d6-6521-431f-b67e-4fb2f2f2ef75",
   "metadata": {},
   "outputs": [],
   "source": [
    "plt.imshow(filtered_image_tensor[0,0,:,:]/torch.max(filtered_image_tensor[0,0,:,:]))\n",
    "plt.colorbar()"
   ]
  },
  {
   "cell_type": "code",
   "execution_count": null,
   "id": "b338ca99-a7be-427e-8ca2-bcbac37ddcde",
   "metadata": {},
   "outputs": [],
   "source": [
    "plt.imshow(input_tensor[0,0,:,:]/torch.max(input_tensor[0,0,:,:]))\n",
    "plt.colorbar()"
   ]
  },
  {
   "cell_type": "markdown",
   "id": "5e17063f-c88b-49e4-a3e1-5d90293b68f2",
   "metadata": {},
   "source": [
    "***\n",
    "\n",
    "© K. Zdybał, C. Mucignat, I. Lunati (2025)"
   ]
  }
 ],
 "metadata": {
  "kernelspec": {
   "display_name": "Python 3 (ipykernel)",
   "language": "python",
   "name": "python3"
  },
  "language_info": {
   "codemirror_mode": {
    "name": "ipython",
    "version": 3
   },
   "file_extension": ".py",
   "mimetype": "text/x-python",
   "name": "python",
   "nbconvert_exporter": "python",
   "pygments_lexer": "ipython3",
   "version": "3.10.16"
  }
 },
 "nbformat": 4,
 "nbformat_minor": 5
}
