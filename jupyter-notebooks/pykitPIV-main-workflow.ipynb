{
 "cells": [
  {
   "cell_type": "markdown",
   "id": "d34af596-a25d-4bc3-bb4c-8cc5ca79a2bc",
   "metadata": {},
   "source": [
    "# Notebook for debugging\n",
    "\n",
    "***"
   ]
  },
  {
   "cell_type": "code",
   "execution_count": null,
   "id": "b31c20d3-0b0e-419a-aa20-faf737bad71a",
   "metadata": {},
   "outputs": [],
   "source": [
    "import matplotlib.pyplot as plt"
   ]
  },
  {
   "cell_type": "code",
   "execution_count": null,
   "id": "c09c299e-f3c9-4540-be38-ce1c0d34a5a9",
   "metadata": {},
   "outputs": [],
   "source": [
    "import numpy as np\n",
    "import cmcrameri.cm as cmc\n",
    "from pykitPIV import Particle, FlowField, Motion, Image"
   ]
  },
  {
   "cell_type": "code",
   "execution_count": null,
   "id": "1b4bd879-09a8-435b-b51e-7796105a3971",
   "metadata": {},
   "outputs": [],
   "source": [
    "n_images = 1"
   ]
  },
  {
   "cell_type": "code",
   "execution_count": null,
   "id": "9784ce47-1361-41ea-be98-b5f210e933c7",
   "metadata": {},
   "outputs": [],
   "source": [
    "image_size = (240,500)"
   ]
  },
  {
   "cell_type": "code",
   "execution_count": null,
   "id": "0fe7c360-00e6-4280-91c4-8a38049ff599",
   "metadata": {},
   "outputs": [],
   "source": [
    "size_buffer = 10"
   ]
  },
  {
   "cell_type": "code",
   "execution_count": null,
   "id": "82dddecb-1881-491f-bf60-4130640064fb",
   "metadata": {},
   "outputs": [],
   "source": [
    "figsize = (10,5)"
   ]
  },
  {
   "cell_type": "markdown",
   "id": "f11826a6-d2db-458f-86c7-b363d336482f",
   "metadata": {},
   "source": [
    "***\n",
    "\n",
    "## Generate particles"
   ]
  },
  {
   "cell_type": "code",
   "execution_count": null,
   "id": "668c1c86-28d6-4306-86a9-64994f39d562",
   "metadata": {},
   "outputs": [],
   "source": [
    "particles = Particle(n_images, \n",
    "                     size=image_size, \n",
    "                     size_buffer=size_buffer,\n",
    "                     diameters=(3,3.1),\n",
    "                     distances=(1,2),\n",
    "                     densities=(0.05,0.1),\n",
    "                     signal_to_noise=(5,20),\n",
    "                     diameter_std=1,\n",
    "                     seeding_mode='random', \n",
    "                     random_seed=100)"
   ]
  },
  {
   "cell_type": "code",
   "execution_count": null,
   "id": "efd862dd-b1f0-444f-8638-4d875d5b4d2e",
   "metadata": {},
   "outputs": [],
   "source": [
    "particles.particle_coordinates[0][0].shape"
   ]
  },
  {
   "cell_type": "code",
   "execution_count": null,
   "id": "e3b9684b-cc7b-45d6-9616-5917767c449a",
   "metadata": {},
   "outputs": [],
   "source": [
    "image = Image(random_seed=100)"
   ]
  },
  {
   "cell_type": "code",
   "execution_count": null,
   "id": "edde6684-d987-4327-979d-03733f51bd2c",
   "metadata": {},
   "outputs": [],
   "source": [
    "image.add_particles(particles)"
   ]
  },
  {
   "cell_type": "code",
   "execution_count": null,
   "id": "8d859bae-3ae9-4c8e-953f-13a1b1af7931",
   "metadata": {},
   "outputs": [],
   "source": [
    "image.save_to_h5(save_individually=True)"
   ]
  },
  {
   "cell_type": "code",
   "execution_count": null,
   "id": "b6221954-0c64-47b7-89d0-03e81ff0bffa",
   "metadata": {},
   "outputs": [],
   "source": [
    "image.plot(0, \n",
    "           with_buffer=True,\n",
    "           xlabel='Width [px]',\n",
    "           ylabel='Height [px]',\n",
    "           title='Particle positions',\n",
    "           cmap='Greys',\n",
    "           figsize=figsize, \n",
    "           filename='particle-positions.png');"
   ]
  },
  {
   "cell_type": "code",
   "execution_count": null,
   "id": "4190c398-b85c-4525-8b14-b2def4e1ce32",
   "metadata": {},
   "outputs": [],
   "source": [
    "image.add_reflected_light(exposures=(0.01,0.8),\n",
    "                          maximum_intensity=2**16-1,\n",
    "                          laser_beam_thickness=1,\n",
    "                          laser_over_exposure=1,\n",
    "                          laser_beam_shape=0.95,\n",
    "                          alpha=1/10)"
   ]
  },
  {
   "cell_type": "code",
   "execution_count": null,
   "id": "fec7239f-7e64-474e-b082-eacdee76e378",
   "metadata": {},
   "outputs": [],
   "source": [
    "image.plot(0, \n",
    "           with_buffer=True,\n",
    "           xlabel='Width [px]',\n",
    "           ylabel='Height [px]',\n",
    "           title='Example PIV image',\n",
    "           cmap='Greys_r',\n",
    "           figsize=figsize, \n",
    "           filename='example-image.png');"
   ]
  },
  {
   "cell_type": "code",
   "execution_count": null,
   "id": "8fa24f72-a45b-45c6-aef6-140430754258",
   "metadata": {},
   "outputs": [],
   "source": [
    "# plt.scatter(particles.particle_coordinates[0][1], particles.particle_coordinates[0][0], c='k', s=10, zorder=10)\n",
    "# plt.xticks([i for i in range(0,particles.size_with_buffer[1]+1)])\n",
    "# plt.yticks([i for i in range(0,particles.size_with_buffer[0]+1)])\n",
    "# plt.grid(zorder=1)"
   ]
  },
  {
   "cell_type": "markdown",
   "id": "bd93f567-4a14-4eeb-9d0c-684b22ad2cee",
   "metadata": {},
   "source": [
    "***\n",
    "\n",
    "## Generate random velocity field to advect the particles"
   ]
  },
  {
   "cell_type": "code",
   "execution_count": null,
   "id": "44803731-4187-4bac-acf4-80a8486cef26",
   "metadata": {},
   "outputs": [],
   "source": [
    "flowfield = FlowField(n_images,\n",
    "                      size=image_size,\n",
    "                      size_buffer=size_buffer,\n",
    "                      flow_mode='random',\n",
    "                      gaussian_filters=(10,11),\n",
    "                      n_gaussian_filter_iter=20,\n",
    "                      sin_period=(30,300),\n",
    "                      displacement=(0,10),\n",
    "                      random_seed=100)"
   ]
  },
  {
   "cell_type": "code",
   "execution_count": null,
   "id": "d55805e0-dbe0-47ab-ba32-fa3205889754",
   "metadata": {},
   "outputs": [],
   "source": [
    "image.add_velocity_field(flowfield)"
   ]
  },
  {
   "cell_type": "code",
   "execution_count": null,
   "id": "62b1259c-ec6e-4566-b526-b6f6b128b533",
   "metadata": {},
   "outputs": [],
   "source": [
    "image.plot_velocity_field(0,\n",
    "                          with_buffer=True,\n",
    "                          xlabel='Width [px]',\n",
    "                          ylabel='Height [px]',\n",
    "                          title=('Example random velocity component $u$', 'Example random velocity component $v$'),\n",
    "                          cmap=cmc.oslo_r,\n",
    "                          figsize=figsize,\n",
    "                          filename='example-random-velocity-field.png');"
   ]
  },
  {
   "cell_type": "code",
   "execution_count": null,
   "id": "79d51181-e375-4e82-abe1-d3f708626d58",
   "metadata": {},
   "outputs": [],
   "source": [
    "image.plot_velocity_field_magnitude(0,\n",
    "                                    with_buffer=True,\n",
    "                                    xlabel='Width [px]',\n",
    "                                    ylabel='Height [px]',\n",
    "                                    title='Example random velocity field magnitude',\n",
    "                                    cmap=cmc.oslo_r,\n",
    "                                    figsize=figsize,\n",
    "                                    filename='example-random-velocity-field-magnitude.png');"
   ]
  },
  {
   "cell_type": "code",
   "execution_count": null,
   "id": "8768c1ba-d5b3-446d-b13a-8ab1716d9854",
   "metadata": {},
   "outputs": [],
   "source": [
    "image.plot_velocity_field_magnitude(0,\n",
    "                                    with_buffer=False,\n",
    "                                    add_quiver=True,\n",
    "                                    quiver_step=10,\n",
    "                                    quiver_color='r',\n",
    "                                    xlabel='Width [px]',\n",
    "                                    ylabel='Height [px]',\n",
    "                                    title='Example random velocity field magnitude',\n",
    "                                    cmap=cmc.oslo_r,\n",
    "                                    figsize=figsize,\n",
    "                                    filename='example-random-velocity-field-magnitude-quiver.png');"
   ]
  },
  {
   "cell_type": "code",
   "execution_count": null,
   "id": "421e7d9e-ddb6-4705-a02e-10cb264650b2",
   "metadata": {},
   "outputs": [],
   "source": [
    "image.plot_velocity_field_magnitude(0,\n",
    "                                    with_buffer=False,\n",
    "                                    add_streamplot=True,\n",
    "                                    streamplot_density=1,\n",
    "                                    streamplot_color='g',\n",
    "                                    xlabel='Width [px]',\n",
    "                                    ylabel='Height [px]',\n",
    "                                    title='Example random velocity field magnitude',\n",
    "                                    cmap=cmc.oslo_r,\n",
    "                                    figsize=figsize,\n",
    "                                    filename='example-random-velocity-field-magnitude-streamplot.png');"
   ]
  },
  {
   "cell_type": "markdown",
   "id": "7007a2b5-cb23-4fa6-9b0f-7940c544c3bb",
   "metadata": {},
   "source": [
    "***\n",
    "\n",
    "## Add movement to particles"
   ]
  },
  {
   "cell_type": "code",
   "execution_count": null,
   "id": "23e3ea95-e22d-404a-86c0-03dc1b214224",
   "metadata": {},
   "outputs": [],
   "source": [
    "motion = Motion(particles, \n",
    "                flowfield, \n",
    "                time_separation=0.1)"
   ]
  },
  {
   "cell_type": "code",
   "execution_count": null,
   "id": "01600018-dc1c-481f-b115-789d99f81137",
   "metadata": {},
   "outputs": [],
   "source": [
    "motion.forward_euler(n_steps=10)"
   ]
  },
  {
   "cell_type": "code",
   "execution_count": null,
   "id": "bb4f55a2-af76-49f6-a8e1-582abb584d6e",
   "metadata": {},
   "outputs": [],
   "source": [
    "motion.plot_particle_motion(0,\n",
    "                            xlabel='Width [px]',\n",
    "                            ylabel='Height [px]',\n",
    "                            title='Displacement of particles',\n",
    "                            figsize=figsize,\n",
    "                            filename='particle-displacement-01.png');"
   ]
  },
  {
   "cell_type": "markdown",
   "id": "7e649091-0c16-45a4-8c3d-b0561042ff5b",
   "metadata": {},
   "source": [
    "#### Update time separation:"
   ]
  },
  {
   "cell_type": "code",
   "execution_count": null,
   "id": "071fa110-8caf-471d-a544-03fb0d3a1589",
   "metadata": {},
   "outputs": [],
   "source": [
    "motion.time_separation = 0.2"
   ]
  },
  {
   "cell_type": "code",
   "execution_count": null,
   "id": "3d67780b-1c04-44b5-a4af-c9bc317c3d17",
   "metadata": {},
   "outputs": [],
   "source": [
    "motion.forward_euler(n_steps=10)"
   ]
  },
  {
   "cell_type": "code",
   "execution_count": null,
   "id": "ec8bc6bd-82ea-4d07-b397-c28a2cb1fde2",
   "metadata": {},
   "outputs": [],
   "source": [
    "motion.plot_particle_motion(0,\n",
    "                            xlabel='Width [px]',\n",
    "                            ylabel='Height [px]',\n",
    "                            title='Displacement of particles',\n",
    "                            figsize=figsize,\n",
    "                            filename='particle-displacement-05.png');"
   ]
  },
  {
   "cell_type": "markdown",
   "id": "701e31f8-f8c2-43cd-8a92-76e0067d7f1f",
   "metadata": {},
   "source": [
    "#### Visualize the PIV image pair:"
   ]
  },
  {
   "cell_type": "code",
   "execution_count": null,
   "id": "e5d0a8e4-aad6-4748-a7f6-47d414f2f280",
   "metadata": {},
   "outputs": [],
   "source": [
    "image.add_motion(motion)"
   ]
  },
  {
   "cell_type": "code",
   "execution_count": null,
   "id": "a5c88608-79bb-4696-90d6-fcc83091bdb4",
   "metadata": {},
   "outputs": [],
   "source": [
    "image.add_reflected_light(exposures=(0.01,0.8),\n",
    "                          maximum_intensity=2**16-1,\n",
    "                          laser_beam_thickness=1,\n",
    "                          laser_over_exposure=1,\n",
    "                          laser_beam_shape=0.95,\n",
    "                          alpha=1/10)"
   ]
  },
  {
   "cell_type": "code",
   "execution_count": null,
   "id": "2d1d04a0-fc78-4d44-8f85-acb7b25f6937",
   "metadata": {},
   "outputs": [],
   "source": [
    "image.plot(0, \n",
    "           instance=1,\n",
    "           with_buffer=True,\n",
    "           xlabel='Width [px]',\n",
    "           ylabel='Height [px]',\n",
    "           title='Example PIV image $I_1$',\n",
    "           cmap='Greys_r',\n",
    "           figsize=figsize, \n",
    "           filename='example-image-I1-with-buffer.png');"
   ]
  },
  {
   "cell_type": "code",
   "execution_count": null,
   "id": "eb678ab6-6433-4341-a524-1c7c8b6eebf5",
   "metadata": {},
   "outputs": [],
   "source": [
    "image.plot(0, \n",
    "           instance=2,\n",
    "           with_buffer=True,\n",
    "           xlabel='Width [px]',\n",
    "           ylabel='Height [px]',\n",
    "           title='Example PIV image $I_2$',\n",
    "           cmap='Greys_r',\n",
    "           figsize=figsize, \n",
    "           filename='example-image-I2-with-buffer.png');"
   ]
  },
  {
   "cell_type": "code",
   "execution_count": null,
   "id": "c0227ebc-82ab-4913-bb44-53695a859443",
   "metadata": {},
   "outputs": [],
   "source": [
    "image.plot_image_pair(0,\n",
    "                      with_buffer=False, \n",
    "                      xlabel='Width [px]',\n",
    "                      ylabel='Height [px]',\n",
    "                      title='Example PIV image pair $(I_1, I_2)$',\n",
    "                      cmap='Greys_r',\n",
    "                      figsize=figsize, \n",
    "                      filename='example-image-I1-I2-no-buffer-COMPARE.gif');"
   ]
  },
  {
   "cell_type": "code",
   "execution_count": null,
   "id": "20e5c66e-8293-4f77-a342-bb5e1ec1fe6e",
   "metadata": {},
   "outputs": [],
   "source": [
    "image.save_to_h5(save_individually=False)"
   ]
  },
  {
   "cell_type": "code",
   "execution_count": null,
   "id": "91e9f2d6-d9f6-45e7-9d17-1069affe0aeb",
   "metadata": {},
   "outputs": [],
   "source": []
  },
  {
   "cell_type": "code",
   "execution_count": null,
   "id": "041e5bd2-5662-4f0c-99a4-976be0c6a476",
   "metadata": {},
   "outputs": [],
   "source": []
  },
  {
   "cell_type": "code",
   "execution_count": null,
   "id": "3e842d7d-7f90-48bb-8bd5-77d1e61f5d44",
   "metadata": {},
   "outputs": [],
   "source": []
  },
  {
   "cell_type": "code",
   "execution_count": null,
   "id": "de5cfdef-b623-46a0-871e-8a85c848acd1",
   "metadata": {},
   "outputs": [],
   "source": []
  },
  {
   "cell_type": "code",
   "execution_count": null,
   "id": "e3983c2d-43f2-406e-ac9c-48896e28692b",
   "metadata": {},
   "outputs": [],
   "source": []
  },
  {
   "cell_type": "code",
   "execution_count": null,
   "id": "d8bf67a8-1a8e-4a0c-a5bc-787bf6875890",
   "metadata": {},
   "outputs": [],
   "source": []
  },
  {
   "cell_type": "code",
   "execution_count": null,
   "id": "e70cc9ad-7e9b-41df-9e94-44173fd75186",
   "metadata": {},
   "outputs": [],
   "source": []
  },
  {
   "cell_type": "code",
   "execution_count": null,
   "id": "80a00911-4bb0-4ef7-9d1d-7f044511be22",
   "metadata": {},
   "outputs": [],
   "source": []
  },
  {
   "cell_type": "code",
   "execution_count": null,
   "id": "e16b0b72-5fe3-4e7e-94d8-b7af4ca54a02",
   "metadata": {},
   "outputs": [],
   "source": []
  },
  {
   "cell_type": "code",
   "execution_count": null,
   "id": "3362ea5a-617e-4bfb-85a9-6b71fe72f936",
   "metadata": {},
   "outputs": [],
   "source": []
  },
  {
   "cell_type": "code",
   "execution_count": null,
   "id": "03e6816f-d3e2-4938-91e7-42ecefbcc3fd",
   "metadata": {},
   "outputs": [],
   "source": []
  },
  {
   "cell_type": "markdown",
   "id": "5e17063f-c88b-49e4-a3e1-5d90293b68f2",
   "metadata": {},
   "source": [
    "***"
   ]
  }
 ],
 "metadata": {
  "kernelspec": {
   "display_name": "Python 3 (ipykernel)",
   "language": "python",
   "name": "python3"
  },
  "language_info": {
   "codemirror_mode": {
    "name": "ipython",
    "version": 3
   },
   "file_extension": ".py",
   "mimetype": "text/x-python",
   "name": "python",
   "nbconvert_exporter": "python",
   "pygments_lexer": "ipython3",
   "version": "3.10.13"
  }
 },
 "nbformat": 4,
 "nbformat_minor": 5
}
