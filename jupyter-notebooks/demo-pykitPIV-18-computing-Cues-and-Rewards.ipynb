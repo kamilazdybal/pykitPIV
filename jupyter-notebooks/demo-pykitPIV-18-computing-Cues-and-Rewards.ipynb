{
 "cells": [
  {
   "cell_type": "markdown",
   "id": "28fed105-acc8-4b6f-962e-95c044f24d47",
   "metadata": {},
   "source": [
    "<a id=top-page></a>\n",
    "# `pykitPIV` demo: Computing sensory cues and rewards\n",
    "\n",
    "In this Jupyter notebook, we showcase the possible sensory cues and rewards available in the machine learning module (`pykitPIV.ml`).\n",
    "\n",
    "The user can use the `Cues` class and the `Rewards` class.\n",
    "\n",
    "<div class=\"alert alert-block alert-info\" style=\"margin-top: 20px\">\n",
    "<font size=\"3\"><strong>Table of contents:</strong></font>\n",
    "<br>\n",
    "<ol>\n",
    "    <li><a href=\"#cues\">Sensory cues</a></li>\n",
    "        <ul>\n",
    "        <li><a href=\"#cues-ds\">Create a custom displacement field to test all sensory cues computation</a></li>\n",
    "        <li><a href=\"#cues-sampled-vectors\">Sampled vectors</a></li>\n",
    "        <li><a href=\"#cues-sampled-magnitude\">Sampled magnitude</a></li>\n",
    "        <li><a href=\"#cues-sampled-divergence\">Sampled divergence</a></li>\n",
    "        <li><a href=\"#cues-sampled-vorticity\">Sampled vorticity</a></li>\n",
    "        <li><a href=\"#cues-sampled-q-criterion\">Sampled Q-criterion</a></li>\n",
    "        </ul>\n",
    "    <li><a href=\"#rewards\">Rewards</a></li>\n",
    "        <ul>\n",
    "        <li><a href=\"#rewards-ds\">Create a custom displacement field to test rewards computation</a></li>\n",
    "        <li><a href=\"#rewards-divergence\">Divergence</a></li>\n",
    "        <li><a href=\"#rewards-vorticity\">Vorticity</a></li>\n",
    "        <li><a href=\"#rewards-q-criterion\">Q-criterion</a></li>\n",
    "        </ul>\n",
    "</ol>\n",
    "<p></p>\n",
    "</div>\n",
    "<br>\n",
    "\n",
    "***"
   ]
  },
  {
   "cell_type": "code",
   "execution_count": 1,
   "id": "e442604c-be37-4b9a-8c1c-0c08c717d65a",
   "metadata": {},
   "outputs": [
    {
     "name": "stderr",
     "output_type": "stream",
     "text": [
      "2025-05-27 15:11:38.945158: I tensorflow/core/platform/cpu_feature_guard.cc:210] This TensorFlow binary is optimized to use available CPU instructions in performance-critical operations.\n",
      "To enable the following instructions: AVX2 FMA, in other operations, rebuild TensorFlow with the appropriate compiler flags.\n"
     ]
    }
   ],
   "source": [
    "from pykitPIV import FlowField\n",
    "from pykitPIV.ml import Cues, Rewards\n",
    "import matplotlib.pyplot as plt\n",
    "import cmcrameri.cm as cmc\n",
    "import numpy as np"
   ]
  },
  {
   "cell_type": "code",
   "execution_count": 2,
   "id": "19bcb2a7-e626-4a51-b6fe-19a99c169163",
   "metadata": {},
   "outputs": [],
   "source": [
    "save_images = False\n",
    "filename = None"
   ]
  },
  {
   "cell_type": "markdown",
   "id": "7dbbaa42-7066-4e33-a3a8-921b1126a01d",
   "metadata": {},
   "source": [
    "<a id=cues></a>\n",
    "***\n",
    "\n",
    "## Sensory cues\n",
    "\n",
    "[Go to the top](#top-page)\n",
    "\n",
    "All sensory cues are vectors, $\\mathbf{c}$, have shape $(1, N)$, which is the applicable shape to pass as an input to a classic neural network."
   ]
  },
  {
   "cell_type": "markdown",
   "id": "0fc8538f-c0ae-4774-95a1-6a823538bc9c",
   "metadata": {},
   "source": [
    "<a id=cues-ds></a>\n",
    "\n",
    "### Create a custom displacement field to test all sensory cues computation\n",
    "\n",
    "[Go to the top](#top-page)"
   ]
  },
  {
   "cell_type": "code",
   "execution_count": 3,
   "id": "26aaf380-f788-42ba-a740-52a0e3811ca3",
   "metadata": {},
   "outputs": [],
   "source": [
    "flowfield = FlowField(n_images=1,\n",
    "                      size=(128,128),\n",
    "                      size_buffer=0,\n",
    "                      random_seed=100)\n",
    "\n",
    "flowfield.generate_random_velocity_field(displacement=(0, 10),\n",
    "                                         gaussian_filters=(10, 30),\n",
    "                                         n_gaussian_filter_iter=6)\n",
    "\n",
    "displacement_field = flowfield.velocity_field"
   ]
  },
  {
   "cell_type": "markdown",
   "id": "7531ff5d-742a-407f-8c31-5f424110808b",
   "metadata": {},
   "source": [
    "Instantiate an object of the `Cues` class:"
   ]
  },
  {
   "cell_type": "code",
   "execution_count": 4,
   "id": "28409e4c-fc4a-4536-b64f-ddd7c1b4ebbf",
   "metadata": {},
   "outputs": [],
   "source": [
    "cues_obj = Cues(verbose=False,\n",
    "                random_seed=None,\n",
    "                sample_every_n=30,\n",
    "                normalize_displacement_vectors=False)"
   ]
  },
  {
   "cell_type": "markdown",
   "id": "6633561d-0832-40cc-8f1f-931e4eaaeb5a",
   "metadata": {},
   "source": [
    "<a id=cues-sampled-vectors></a>\n",
    "\n",
    "### Sampled vectors\n",
    "\n",
    "[Go to the top](#top-page)"
   ]
  },
  {
   "cell_type": "code",
   "execution_count": 5,
   "id": "dd5484be-68a3-41f6-85a8-9f2ebea2ae85",
   "metadata": {},
   "outputs": [],
   "source": [
    "cues = cues_obj.sampled_vectors(displacement_field=displacement_field)"
   ]
  },
  {
   "cell_type": "code",
   "execution_count": 6,
   "id": "a282e2be-b4ff-4973-9065-6cf451bf1e6d",
   "metadata": {},
   "outputs": [
    {
     "data": {
      "text/plain": [
       "(1, 50)"
      ]
     },
     "execution_count": 6,
     "metadata": {},
     "output_type": "execute_result"
    }
   ],
   "source": [
    "cues.shape"
   ]
  },
  {
   "cell_type": "markdown",
   "id": "0cd7c572-a395-4f74-8c5b-add4ecd2141d",
   "metadata": {},
   "source": [
    "<a id=cues-sampled-vectors></a>\n",
    "\n",
    "### Sampled magnitude\n",
    "\n",
    "[Go to the top](#top-page)"
   ]
  },
  {
   "cell_type": "code",
   "execution_count": 7,
   "id": "9ed578af-63a4-4bdd-b2ff-8d7c95b05d26",
   "metadata": {},
   "outputs": [],
   "source": [
    "cues = cues_obj.sampled_magnitude(displacement_field=displacement_field)"
   ]
  },
  {
   "cell_type": "code",
   "execution_count": 8,
   "id": "c7ad6887-c147-471b-86b6-c9d1c6894531",
   "metadata": {},
   "outputs": [
    {
     "data": {
      "text/plain": [
       "(1, 25)"
      ]
     },
     "execution_count": 8,
     "metadata": {},
     "output_type": "execute_result"
    }
   ],
   "source": [
    "cues.shape"
   ]
  },
  {
   "cell_type": "markdown",
   "id": "b48fff81-dfa6-4533-924c-7fbbcf0c83b1",
   "metadata": {},
   "source": [
    "<a id=cues-sampled-divergence></a>\n",
    "\n",
    "### Sampled divergence\n",
    "\n",
    "[Go to the top](#top-page)"
   ]
  },
  {
   "cell_type": "code",
   "execution_count": 9,
   "id": "0c208ce3-dac2-45a3-9f25-0dca1038ec8c",
   "metadata": {},
   "outputs": [],
   "source": [
    "cues = cues_obj.sampled_divergence(displacement_field=displacement_field)"
   ]
  },
  {
   "cell_type": "code",
   "execution_count": 10,
   "id": "4605e913-228e-4d85-9731-b5b4a184c358",
   "metadata": {},
   "outputs": [
    {
     "data": {
      "text/plain": [
       "(1, 25)"
      ]
     },
     "execution_count": 10,
     "metadata": {},
     "output_type": "execute_result"
    }
   ],
   "source": [
    "cues.shape"
   ]
  },
  {
   "cell_type": "code",
   "execution_count": 11,
   "id": "4047c293-8319-4b6e-9dda-1b9608059c8a",
   "metadata": {},
   "outputs": [
    {
     "data": {
      "text/plain": [
       "array([[ 0.0004795 ,  0.05030768, -0.03374612, -0.11076905, -0.03780083,\n",
       "        -0.0597983 , -0.00467119, -0.0518349 , -0.12713167, -0.09793702,\n",
       "        -0.03530432, -0.00375742, -0.02145311, -0.06544079, -0.06996054,\n",
       "         0.03392005,  0.02124997,  0.00556867, -0.00946141, -0.03535474,\n",
       "         0.0155924 , -0.01278111,  0.00077238,  0.02714297,  0.00087355]])"
      ]
     },
     "execution_count": 11,
     "metadata": {},
     "output_type": "execute_result"
    }
   ],
   "source": [
    "cues"
   ]
  },
  {
   "cell_type": "markdown",
   "id": "f2590d25-8f4b-46e0-b42d-33329a610b44",
   "metadata": {},
   "source": [
    "<a id=cues-sampled-vorticity></a>\n",
    "\n",
    "### Sampled vorticity\n",
    "\n",
    "[Go to the top](#top-page)"
   ]
  },
  {
   "cell_type": "code",
   "execution_count": 12,
   "id": "16569fd2-d8af-4992-bf52-238b1723448e",
   "metadata": {},
   "outputs": [],
   "source": [
    "cues = cues_obj.sampled_vorticity(displacement_field=displacement_field)"
   ]
  },
  {
   "cell_type": "code",
   "execution_count": 13,
   "id": "84030dab-d075-45b7-8a8f-65e0c953a72e",
   "metadata": {},
   "outputs": [
    {
     "data": {
      "text/plain": [
       "(1, 25)"
      ]
     },
     "execution_count": 13,
     "metadata": {},
     "output_type": "execute_result"
    }
   ],
   "source": [
    "cues.shape"
   ]
  },
  {
   "cell_type": "code",
   "execution_count": 14,
   "id": "807be192-ad02-4456-ae6e-f8f9975db288",
   "metadata": {},
   "outputs": [
    {
     "data": {
      "text/plain": [
       "array([[ 0.00020826,  0.02603601, -0.01189934, -0.03582323, -0.01323051,\n",
       "        -0.02760983,  0.0208438 , -0.02776932, -0.10799973, -0.10915376,\n",
       "        -0.0327724 ,  0.0411175 , -0.01373248, -0.12167284, -0.10608897,\n",
       "        -0.04476739,  0.02841456, -0.02675593, -0.1325723 , -0.08980546,\n",
       "        -0.01258821,  0.03186233, -0.04162488, -0.13281771, -0.05743644]])"
      ]
     },
     "execution_count": 14,
     "metadata": {},
     "output_type": "execute_result"
    }
   ],
   "source": [
    "cues"
   ]
  },
  {
   "cell_type": "markdown",
   "id": "29bdf52a-bebe-4112-9628-d7257f32161f",
   "metadata": {},
   "source": [
    "<a id=cues-sampled-q-criterion></a>\n",
    "\n",
    "### Sampled Q-criterion\n",
    "\n",
    "[Go to the top](#top-page)"
   ]
  },
  {
   "cell_type": "code",
   "execution_count": 15,
   "id": "8b9898aa-7a7e-43f4-9445-eda381a04008",
   "metadata": {},
   "outputs": [],
   "source": [
    "cues = cues_obj.sampled_q_criterion(displacement_field=displacement_field)"
   ]
  },
  {
   "cell_type": "code",
   "execution_count": 16,
   "id": "db10f992-02b3-40ac-a08b-3d035ca46b48",
   "metadata": {},
   "outputs": [
    {
     "data": {
      "text/plain": [
       "(1, 25)"
      ]
     },
     "execution_count": 16,
     "metadata": {},
     "output_type": "execute_result"
    }
   ],
   "source": [
    "cues.shape"
   ]
  },
  {
   "cell_type": "code",
   "execution_count": 17,
   "id": "252bf88e-a101-44bc-8afb-9a5dc6cd82fb",
   "metadata": {},
   "outputs": [
    {
     "data": {
      "text/plain": [
       "array([[-1.05727409e-05, -1.23176324e-03, -4.75499677e-04,\n",
       "        -5.48665475e-03, -5.17829279e-04, -1.82112160e-03,\n",
       "        -2.80656231e-03, -3.49104641e-04,  1.49044022e-03,\n",
       "         1.53015919e-03, -5.17751950e-04, -1.45960038e-03,\n",
       "        -1.06945900e-04,  5.95194539e-03,  3.14332026e-03,\n",
       "        -2.27747267e-04, -1.81875713e-03,  3.22857990e-04,\n",
       "         6.92714514e-03,  3.21447082e-03, -1.38320166e-04,\n",
       "        -5.42372180e-04,  5.58470205e-04,  4.86171254e-03,\n",
       "         1.34096907e-03]])"
      ]
     },
     "execution_count": 17,
     "metadata": {},
     "output_type": "execute_result"
    }
   ],
   "source": [
    "cues"
   ]
  },
  {
   "cell_type": "markdown",
   "id": "099de3dc-d90b-41ca-95fe-f89c084923f0",
   "metadata": {},
   "source": [
    "<a id=rewards></a>\n",
    "\n",
    "***\n",
    "\n",
    "## Rewards\n",
    "\n",
    "[Go to the top](#top-page)\n",
    "\n",
    "All rewards are single numbers (integers or floats)."
   ]
  },
  {
   "cell_type": "markdown",
   "id": "eb279be6-9e90-4790-adc1-be96a7b2767e",
   "metadata": {},
   "source": [
    "<a id=rewards-ds></a>\n",
    "\n",
    "### Create a custom displacement field to test all rewards computation\n",
    "\n",
    "[Go to the top](#top-page)"
   ]
  },
  {
   "cell_type": "code",
   "execution_count": 18,
   "id": "16bc1680-827b-4df2-a6e4-28a39b72a8cf",
   "metadata": {},
   "outputs": [],
   "source": [
    "flowfield = FlowField(n_images=1,\n",
    "                      size=(128,128),\n",
    "                      size_buffer=0,\n",
    "                      random_seed=100)\n",
    "\n",
    "flowfield.generate_random_velocity_field(displacement=(0, 10),\n",
    "                                         gaussian_filters=(10, 30),\n",
    "                                         n_gaussian_filter_iter=6)\n",
    "\n",
    "displacement_field = flowfield.velocity_field"
   ]
  },
  {
   "cell_type": "markdown",
   "id": "7b037687-d411-4da7-a2a5-9626b29fa9ef",
   "metadata": {},
   "source": [
    "Instantiate an object of the `Rewards` class:"
   ]
  },
  {
   "cell_type": "code",
   "execution_count": 19,
   "id": "e0d210d1-10df-4c77-980d-f6fc701f6e93",
   "metadata": {},
   "outputs": [],
   "source": [
    "rewards = Rewards(verbose=True,\n",
    "                  random_seed=None)"
   ]
  },
  {
   "cell_type": "markdown",
   "id": "9db04e89-24d3-4df8-bfce-6b9797ea8a97",
   "metadata": {},
   "source": [
    "<a id=rewards-divergence></a>\n",
    "\n",
    "### Divergence\n",
    "\n",
    "[Go to the top](#top-page)"
   ]
  },
  {
   "cell_type": "markdown",
   "id": "e67ce418-b328-488c-a6a0-babb586d528e",
   "metadata": {},
   "source": [
    "We design a custom transformation that looks for regions of high divergence (either positive or negative) and computes the maximum absolute value of divergence in that region:"
   ]
  },
  {
   "cell_type": "code",
   "execution_count": 20,
   "id": "9a3a6c15-e0f8-402c-b6a0-be845e8c2dbc",
   "metadata": {},
   "outputs": [],
   "source": [
    "def transformation(div):\n",
    "    return np.max(np.abs(div))"
   ]
  },
  {
   "cell_type": "code",
   "execution_count": 21,
   "id": "1b517b85-7d74-41ff-b638-4046e08a0e04",
   "metadata": {},
   "outputs": [
    {
     "name": "stdout",
     "output_type": "stream",
     "text": [
      "0.13611737879932362\n"
     ]
    }
   ],
   "source": [
    "reward = rewards.divergence(vector_field=displacement_field,\n",
    "                            transformation=transformation)"
   ]
  },
  {
   "cell_type": "markdown",
   "id": "bfcf5971-d1a7-4b02-b32a-430b0263ca25",
   "metadata": {},
   "source": [
    "<a id=rewards-vorticity></a>\n",
    "\n",
    "### Vorticity\n",
    "\n",
    "[Go to the top](#top-page)"
   ]
  },
  {
   "cell_type": "markdown",
   "id": "be9fcaf9-c6d4-406a-83a1-f41df5f909fb",
   "metadata": {},
   "source": [
    "We design a custom transformation that looks for regions of high vorticity (either positive or negative) and computes the mean absolute value of vorticity in that region:"
   ]
  },
  {
   "cell_type": "code",
   "execution_count": 22,
   "id": "db08f8fc-1d51-4970-b4cc-4ce7b1db3e82",
   "metadata": {},
   "outputs": [],
   "source": [
    "def transformation(vort):\n",
    "    return np.mean(np.abs(vort))"
   ]
  },
  {
   "cell_type": "code",
   "execution_count": 23,
   "id": "7a606f05-0337-4493-a5dd-d42dbee795a3",
   "metadata": {},
   "outputs": [
    {
     "name": "stdout",
     "output_type": "stream",
     "text": [
      "0.056873321781106975\n"
     ]
    }
   ],
   "source": [
    "reward = rewards.vorticity(vector_field=displacement_field,\n",
    "                           transformation=transformation)"
   ]
  },
  {
   "cell_type": "markdown",
   "id": "c3f7d8d6-236c-4236-9db6-dc21ab05062b",
   "metadata": {},
   "source": [
    "<a id=rewards-q-criterion></a>\n",
    "\n",
    "### Q-criterion\n",
    "\n",
    "[Go to the top](#top-page)"
   ]
  },
  {
   "cell_type": "markdown",
   "id": "92397f02-8812-479c-a95a-48c8219a94ec",
   "metadata": {},
   "source": [
    "We design a custom transformation that looks for vorticity-dominated regions (as opposed to shear-dominated regions) and computes the maximum value of the Q-criterion in that region:"
   ]
  },
  {
   "cell_type": "code",
   "execution_count": 24,
   "id": "7c029833-88b8-49a9-b02b-b95766d5d729",
   "metadata": {},
   "outputs": [],
   "source": [
    "def transformation(Q):\n",
    "    Q = np.max(Q.clip(min=0))\n",
    "    return Q"
   ]
  },
  {
   "cell_type": "code",
   "execution_count": 25,
   "id": "d02bc34b-2b31-4ee5-af4b-f8a8424a7fb3",
   "metadata": {},
   "outputs": [
    {
     "name": "stdout",
     "output_type": "stream",
     "text": [
      "0.00829011539041633\n"
     ]
    }
   ],
   "source": [
    "reward = rewards.q_criterion(vector_field=displacement_field,\n",
    "                             transformation=transformation)"
   ]
  },
  {
   "cell_type": "markdown",
   "id": "0e8f6565-17de-451a-84ab-a4857f44cb4e",
   "metadata": {},
   "source": [
    "***\n",
    "\n",
    "© K. Zdybał, C. Mucignat, S. Kunz, I. Lunati (2025)"
   ]
  }
 ],
 "metadata": {
  "kernelspec": {
   "display_name": "Python 3 (ipykernel)",
   "language": "python",
   "name": "python3"
  },
  "language_info": {
   "codemirror_mode": {
    "name": "ipython",
    "version": 3
   },
   "file_extension": ".py",
   "mimetype": "text/x-python",
   "name": "python",
   "nbconvert_exporter": "python",
   "pygments_lexer": "ipython3",
   "version": "3.10.16"
  }
 },
 "nbformat": 4,
 "nbformat_minor": 5
}
