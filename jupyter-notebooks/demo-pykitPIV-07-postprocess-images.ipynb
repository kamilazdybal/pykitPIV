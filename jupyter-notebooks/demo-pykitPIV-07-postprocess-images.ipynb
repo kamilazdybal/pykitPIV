{
 "cells": [
  {
   "cell_type": "markdown",
   "id": "d34af596-a25d-4bc3-bb4c-8cc5ca79a2bc",
   "metadata": {},
   "source": [
    "<a id=top-page></a>\n",
    "# `pykitPIV` demo: Transform images\n",
    "\n",
    "<div class=\"alert alert-block alert-info\" style=\"margin-top: 20px\">\n",
    "<font size=\"3\"><strong>Table of contents:</strong></font>\n",
    "<br>\n",
    "<ol>\n",
    "    <li><a href=\"#upload\">Upload the saved datasets</a></li>\n",
    "</ol>\n",
    "<p></p>\n",
    "</div>\n",
    "<br>\n",
    "\n",
    "***"
   ]
  },
  {
   "cell_type": "code",
   "execution_count": null,
   "id": "c09c299e-f3c9-4540-be38-ce1c0d34a5a9",
   "metadata": {},
   "outputs": [],
   "source": [
    "import matplotlib.pyplot as plt\n",
    "import numpy as np\n",
    "import scipy\n",
    "import torch\n",
    "import cmcrameri.cm as cmc\n",
    "from pykitPIV import Image\n",
    "from pykitPIV import Postprocess, FlowField"
   ]
  },
  {
   "cell_type": "markdown",
   "id": "34ebc9bd-f6a3-4636-866a-d73c9390e69a",
   "metadata": {},
   "source": [
    "***\n",
    "\n",
    "## Post-process on-the-fly user-created dataset"
   ]
  },
  {
   "cell_type": "code",
   "execution_count": null,
   "id": "e78a88c6-77db-4dc6-901e-49c9bf7e7b79",
   "metadata": {},
   "outputs": [],
   "source": [
    "figsize=(6,3)"
   ]
  },
  {
   "cell_type": "code",
   "execution_count": null,
   "id": "42e6726c-0f46-4520-b0e5-bc8dcd87f634",
   "metadata": {},
   "outputs": [],
   "source": [
    "image = Image(random_seed=100)"
   ]
  },
  {
   "cell_type": "code",
   "execution_count": null,
   "id": "44803731-4187-4bac-acf4-80a8486cef26",
   "metadata": {},
   "outputs": [],
   "source": [
    "flowfield = FlowField(1,\n",
    "                      size=(30,30),\n",
    "                      size_buffer=0,\n",
    "                      random_seed=100)"
   ]
  },
  {
   "cell_type": "code",
   "execution_count": null,
   "id": "4a559dab-6cf0-4ba0-9553-738e15628c23",
   "metadata": {},
   "outputs": [],
   "source": [
    "flowfield.generate_checkered_velocity_field(displacement=(0,2),\n",
    "                                            m=8,\n",
    "                                            n=8,\n",
    "                                            rotation=None)"
   ]
  },
  {
   "cell_type": "code",
   "execution_count": null,
   "id": "d55805e0-dbe0-47ab-ba32-fa3205889754",
   "metadata": {},
   "outputs": [],
   "source": [
    "image.add_flowfield(flowfield)"
   ]
  },
  {
   "cell_type": "code",
   "execution_count": null,
   "id": "62b1259c-ec6e-4566-b526-b6f6b128b533",
   "metadata": {},
   "outputs": [],
   "source": [
    "image.plot_velocity_field(0,\n",
    "                          with_buffer=True,\n",
    "                          xlabel='Width [px]',\n",
    "                          ylabel='Height [px]',\n",
    "                          title=('Example random velocity component $u$', 'Example random velocity component $v$'),\n",
    "                          cmap=cmc.oslo_r,\n",
    "                          figsize=figsize);"
   ]
  },
  {
   "cell_type": "code",
   "execution_count": null,
   "id": "1b36c1d4-baec-494a-b02c-8d13f063d43e",
   "metadata": {},
   "outputs": [],
   "source": [
    "image_tensor = flowfield.velocity_field[0][0][None,:,:]\n",
    "image_tensor.shape"
   ]
  },
  {
   "cell_type": "code",
   "execution_count": null,
   "id": "6f3a4278-87b4-4f2e-849d-5761f4380585",
   "metadata": {},
   "outputs": [],
   "source": [
    "postprocess = Postprocess(image_tensor)"
   ]
  },
  {
   "cell_type": "code",
   "execution_count": null,
   "id": "84f0a223-7ec0-4b1d-a4e3-df0e6f913f10",
   "metadata": {},
   "outputs": [],
   "source": [
    "log_transformed_images_tensor = postprocess.log_transform_images(addition=10)"
   ]
  },
  {
   "cell_type": "code",
   "execution_count": null,
   "id": "ce88248f-7cee-4ba9-bcc5-78a46fa1fd9c",
   "metadata": {},
   "outputs": [],
   "source": [
    "postprocess.plot(False,\n",
    "                 0,\n",
    "                 instance=2,\n",
    "                 xlabel='Width [px]',\n",
    "                 ylabel='Height [px]',\n",
    "                 cmap='viridis',\n",
    "                 cbar=True,\n",
    "                 figsize=figsize);"
   ]
  },
  {
   "cell_type": "code",
   "execution_count": null,
   "id": "daa4c655-cc57-47cc-9417-443c023cc76b",
   "metadata": {},
   "outputs": [],
   "source": [
    "postprocess.plot(True,\n",
    "                 0,\n",
    "                 instance=2,\n",
    "                 xlabel='Width [px]',\n",
    "                 ylabel='Height [px]',\n",
    "                 cmap='viridis',\n",
    "                 cbar=True,\n",
    "                 figsize=figsize);"
   ]
  },
  {
   "cell_type": "code",
   "execution_count": null,
   "id": "fcfa4d44-f9e5-4977-85bf-2275f84527e1",
   "metadata": {},
   "outputs": [],
   "source": [
    "filters = np.ones((5,5))"
   ]
  },
  {
   "cell_type": "code",
   "execution_count": null,
   "id": "31b6fe5d-9992-471a-be4c-83f9edbac41d",
   "metadata": {},
   "outputs": [],
   "source": [
    "filters[0,:] = 1\n",
    "filters[1,:] = 0\n",
    "filters[3,:] = 0\n",
    "filters[4,:] = 1"
   ]
  },
  {
   "cell_type": "code",
   "execution_count": null,
   "id": "d3f6bf5f-6d0d-401a-a0ec-7bef2f0d6f2c",
   "metadata": {},
   "outputs": [],
   "source": [
    "filters"
   ]
  },
  {
   "cell_type": "code",
   "execution_count": null,
   "id": "97b8bcae-1079-467c-bbeb-96b91c475aed",
   "metadata": {},
   "outputs": [],
   "source": [
    "from torch.nn import Conv2d\n",
    "import torch.nn.functional as F"
   ]
  },
  {
   "cell_type": "code",
   "execution_count": null,
   "id": "4c5707a7-f0ca-42d5-a975-e003de5ff640",
   "metadata": {},
   "outputs": [],
   "source": [
    "filtered_image_tensor = F.conv2d(torch.from_numpy(image_tensor), \n",
    "                                                   torch.from_numpy(filters[None,None,:,:]), \n",
    "                                                   padding='same')"
   ]
  },
  {
   "cell_type": "code",
   "execution_count": null,
   "id": "0569cccd-3685-45c2-bc9c-15f2a55ec7a2",
   "metadata": {},
   "outputs": [],
   "source": [
    "Hin = 10"
   ]
  },
  {
   "cell_type": "code",
   "execution_count": null,
   "id": "c7d156a3-cabf-4e00-996f-2b529befffbd",
   "metadata": {},
   "outputs": [],
   "source": [
    "x = torch.rand(1,3,Hin,Hin)\n",
    "conv = Conv2d(3, 1000, 1, padding=(1,1), stride=(1,1), dilation=(1,1))\n",
    "output = conv(x)\n",
    "output.shape"
   ]
  },
  {
   "cell_type": "code",
   "execution_count": null,
   "id": "c5a03171-e79a-4419-afd2-028ed37a05c6",
   "metadata": {},
   "outputs": [],
   "source": [
    "conv_grouped.padding"
   ]
  },
  {
   "cell_type": "code",
   "execution_count": null,
   "id": "c6be439c-63de-450f-9a98-2c4004d99d36",
   "metadata": {},
   "outputs": [],
   "source": [
    "conv_grouped.dilation"
   ]
  },
  {
   "cell_type": "code",
   "execution_count": null,
   "id": "bbf33564-54cd-47a3-a2ea-f53757966498",
   "metadata": {},
   "outputs": [],
   "source": [
    "conv_grouped.kernel_size"
   ]
  },
  {
   "cell_type": "code",
   "execution_count": null,
   "id": "c8fcb7a8-74bb-43cf-bb0e-30608f8fd158",
   "metadata": {},
   "outputs": [],
   "source": [
    "conv_grouped.stride"
   ]
  },
  {
   "cell_type": "code",
   "execution_count": null,
   "id": "399d69ff-84b7-416c-ba7f-7c98c95f685e",
   "metadata": {},
   "outputs": [],
   "source": [
    "Hout = int(np.floor((Hin - (2 * conv_grouped.padding[0]) - conv_grouped.dilation[0] * (conv_grouped.kernel_size[0] - 1) - 1) / (conv_grouped.stride[0]) + 1))\n",
    "Hout"
   ]
  },
  {
   "cell_type": "code",
   "execution_count": null,
   "id": "aa01fa6d-d788-41fe-a69f-24ea7c2f90f3",
   "metadata": {},
   "outputs": [],
   "source": [
    "conv_grouped.weight.shape"
   ]
  },
  {
   "cell_type": "code",
   "execution_count": null,
   "id": "6bc7e530-49b0-41ac-b0a2-85c25f45020d",
   "metadata": {},
   "outputs": [],
   "source": [
    "conv_grouped.bias.shape"
   ]
  },
  {
   "cell_type": "code",
   "execution_count": null,
   "id": "39fed027-beea-4078-9359-a4655e1658e8",
   "metadata": {},
   "outputs": [],
   "source": []
  },
  {
   "cell_type": "code",
   "execution_count": null,
   "id": "e9080fea-4e15-4399-a131-69595ba53c39",
   "metadata": {},
   "outputs": [],
   "source": []
  },
  {
   "cell_type": "code",
   "execution_count": null,
   "id": "cfc0e421-12e9-4720-b36f-0bd07524bff8",
   "metadata": {},
   "outputs": [],
   "source": [
    "from diff_conv2d import functional"
   ]
  },
  {
   "cell_type": "code",
   "execution_count": null,
   "id": "2db51e34-53b8-46a0-bb97-d7b98bcba5c8",
   "metadata": {},
   "outputs": [],
   "source": [
    "torch.set_default_dtype(torch.float64)\n",
    "B_, Ci_, H_, W_ = 8, 4, 500, 300\n",
    "n_ = 5\n",
    "p_ = n_ // 2\n",
    "Co_, groups_ = 1, 1\n",
    "img_ = torch.rand(B_, Ci_, H_, W_)\n",
    "kernel_ = torch.rand(Co_, Ci_ // groups_, n_, n_)\n",
    "model = functional.DiffConv2d(kernel_size=n_)\n",
    "res_s = model.conv2d(img_, kernel_, groups=groups_, optimized_for='speed')\n",
    "res_m = model.conv2d(img_, kernel_, groups=groups_, optimized_for='memory')\n",
    "print(res_s.shape)\n",
    "print((res_s - res_m).abs().max())"
   ]
  },
  {
   "cell_type": "code",
   "execution_count": null,
   "id": "236737f5-22bd-49aa-9b88-d101708e2799",
   "metadata": {},
   "outputs": [],
   "source": []
  },
  {
   "cell_type": "code",
   "execution_count": null,
   "id": "408981b9-525b-4299-acae-d92bb1d4c440",
   "metadata": {},
   "outputs": [],
   "source": [
    "plt.imshow(filtered_image_tensor[0,:,:])\n",
    "plt.colorbar()"
   ]
  },
  {
   "cell_type": "code",
   "execution_count": null,
   "id": "79efd8db-b82f-4f31-ad2f-bbf41f3f7b17",
   "metadata": {},
   "outputs": [],
   "source": [
    "plt.imshow(image_tensor[0,:,:])\n",
    "plt.colorbar()"
   ]
  },
  {
   "cell_type": "code",
   "execution_count": null,
   "id": "eeb8ce71-7bb6-44b5-bed0-d1df672bda28",
   "metadata": {},
   "outputs": [],
   "source": [
    "plt.imshow(input_tensor[0,:,:]/torch.max(input_tensor[0,:,:]) - filtered_image_tensor[0,:,:]/torch.max(filtered_image_tensor[0,:,:]), \n",
    "           cmap='coolwarm')\n",
    "\n",
    "plt.colorbar();"
   ]
  },
  {
   "cell_type": "code",
   "execution_count": null,
   "id": "ce384299-3e09-4891-b0c1-94620a2cee47",
   "metadata": {},
   "outputs": [],
   "source": [
    "from diff_conv2d import functional\n",
    "from diff_conv2d import layers\n",
    "from diff_conv2d import maths"
   ]
  },
  {
   "cell_type": "code",
   "execution_count": null,
   "id": "d4d5b954-92d3-45e6-be65-c891b8d78782",
   "metadata": {},
   "outputs": [],
   "source": [
    "from diff_conv2d.functional import DiffConv2d\n",
    "\n",
    "diff = DiffConv2d(kernel_size=5)  # kernel_size can be 3, 5, or 7\n",
    "output = diff.conv2d(torch.from_numpy(image_tensor[None,:,:,:]).float(), torch.from_numpy(filters[None,None,:,:]).float())"
   ]
  },
  {
   "cell_type": "code",
   "execution_count": null,
   "id": "08049ab1-0d62-41fe-8a84-7d5103b7947b",
   "metadata": {},
   "outputs": [],
   "source": [
    "output.shape"
   ]
  },
  {
   "cell_type": "code",
   "execution_count": null,
   "id": "58e77e0e-d31a-4173-9846-d097a60953da",
   "metadata": {},
   "outputs": [],
   "source": [
    "plt.imshow(output[0,0,:,:])\n",
    "plt.colorbar()"
   ]
  },
  {
   "cell_type": "code",
   "execution_count": null,
   "id": "8ae72284-927d-4f0d-ad0d-bd9cc0812f35",
   "metadata": {},
   "outputs": [],
   "source": [
    "plt.imshow(input_tensor[0,:,:]/torch.max(input_tensor[0,:,:]) - output[0,0,:,:]/torch.max(output[0,0,:,:]), \n",
    "           cmap='coolwarm', vmin=-0.3, vmax=0.3)\n",
    "\n",
    "plt.colorbar();"
   ]
  },
  {
   "cell_type": "code",
   "execution_count": null,
   "id": "6976ed82-e2d2-4bea-b924-adc3f8ed09f4",
   "metadata": {},
   "outputs": [],
   "source": []
  },
  {
   "cell_type": "code",
   "execution_count": null,
   "id": "a6990730-e9cf-482e-afef-057e4730e3b5",
   "metadata": {},
   "outputs": [],
   "source": []
  },
  {
   "cell_type": "code",
   "execution_count": null,
   "id": "0d224d1c-3be3-49a3-b6cb-d537e2139253",
   "metadata": {},
   "outputs": [],
   "source": []
  },
  {
   "cell_type": "code",
   "execution_count": null,
   "id": "dd26ef0e-ffa3-4bf3-b6c4-64dc1e134bc1",
   "metadata": {},
   "outputs": [],
   "source": []
  },
  {
   "cell_type": "code",
   "execution_count": null,
   "id": "aa737480-becf-459a-9661-afa4942f3332",
   "metadata": {},
   "outputs": [],
   "source": []
  },
  {
   "cell_type": "code",
   "execution_count": null,
   "id": "7e8877b6-d7bf-4ffd-a7e5-91166f9ceb75",
   "metadata": {},
   "outputs": [],
   "source": []
  },
  {
   "cell_type": "code",
   "execution_count": null,
   "id": "109dcf81-2cba-4b9f-a8c7-282a14ff256f",
   "metadata": {},
   "outputs": [],
   "source": []
  },
  {
   "cell_type": "code",
   "execution_count": null,
   "id": "a6ebc598-7505-4c16-bef9-04121982608d",
   "metadata": {},
   "outputs": [],
   "source": []
  },
  {
   "cell_type": "code",
   "execution_count": null,
   "id": "362263f9-5426-4b54-9386-5f722a6dc416",
   "metadata": {},
   "outputs": [],
   "source": [
    "m = torch.nn.Conv2d(1, 1, 3, stride=1, padding='same', padding_mode='zeros', bias=False)\n",
    "output = m(input_tensor.float())"
   ]
  },
  {
   "cell_type": "code",
   "execution_count": null,
   "id": "f526e8d6-6521-431f-b67e-4fb2f2f2ef75",
   "metadata": {},
   "outputs": [],
   "source": [
    "plt.imshow(filtered_image_tensor[0,0,:,:]/torch.max(filtered_image_tensor[0,0,:,:]))\n",
    "plt.colorbar()"
   ]
  },
  {
   "cell_type": "code",
   "execution_count": null,
   "id": "b338ca99-a7be-427e-8ca2-bcbac37ddcde",
   "metadata": {},
   "outputs": [],
   "source": [
    "plt.imshow(input_tensor[0,0,:,:]/torch.max(input_tensor[0,0,:,:]))\n",
    "plt.colorbar()"
   ]
  },
  {
   "cell_type": "markdown",
   "id": "eacd6e50-34ba-4eaa-bbcb-f53cdc8d4d3f",
   "metadata": {},
   "source": [
    "<a id=upload></a>\n",
    "***\n",
    "\n",
    "## Post-process saved dataset\n",
    "\n",
    "[Go to the top](#top-page)"
   ]
  },
  {
   "cell_type": "markdown",
   "id": "9e0a4f8e-3dd3-456e-b3bd-6ca49475104b",
   "metadata": {},
   "source": [
    "The standalone import of previously saved PIV image pairs and the associated targets can be performed following this minimal example:"
   ]
  },
  {
   "cell_type": "code",
   "execution_count": null,
   "id": "0b7a29d9-49a2-4dd3-afa6-9310658d07ca",
   "metadata": {},
   "outputs": [],
   "source": [
    "image = Image()"
   ]
  },
  {
   "cell_type": "code",
   "execution_count": null,
   "id": "8c7f8177-87c4-46e6-81e9-d7c4af988e8b",
   "metadata": {},
   "outputs": [],
   "source": [
    "images_tensor_dic = image.upload_from_h5(filename='pykitPIV-tutorial-PIV-pairs.h5')\n",
    "images_tensor = images_tensor_dic['I']\n",
    "images_tensor = images_tensor[:,:,:,:]\n",
    "images_tensor.shape"
   ]
  },
  {
   "cell_type": "code",
   "execution_count": null,
   "id": "bb1c5d46-7fda-4629-8765-1ecc5a8b765f",
   "metadata": {},
   "outputs": [],
   "source": [
    "postprocess = Postprocess(images_tensor)"
   ]
  },
  {
   "cell_type": "code",
   "execution_count": null,
   "id": "cb56b610-3f9e-46dd-a72e-b7b47339d3ce",
   "metadata": {},
   "outputs": [],
   "source": [
    "postprocess.image_pair"
   ]
  },
  {
   "cell_type": "code",
   "execution_count": null,
   "id": "12b2d89d-700c-45af-8446-1388f082f4b6",
   "metadata": {},
   "outputs": [],
   "source": [
    "log_transformed_images_tensor = postprocess.log_transform_images(addition=10000)"
   ]
  },
  {
   "cell_type": "code",
   "execution_count": null,
   "id": "65c0ab74-dfd9-441c-ab68-3b716aa6841b",
   "metadata": {},
   "outputs": [],
   "source": [
    "log_transformed_images_tensor.shape"
   ]
  },
  {
   "cell_type": "code",
   "execution_count": null,
   "id": "5ffaad84-de90-4bd0-a015-6ae02567e828",
   "metadata": {},
   "outputs": [],
   "source": [
    "postprocess.processed_image_tensor.shape"
   ]
  },
  {
   "cell_type": "code",
   "execution_count": null,
   "id": "ea08dfb9-ce49-496f-a43e-1db5263f69a9",
   "metadata": {},
   "outputs": [],
   "source": [
    "postprocess.plot(1,\n",
    "                 instance=1,\n",
    "                 xlabel='Width [px]',\n",
    "                 ylabel='Height [px]',\n",
    "                 cmap='Greys_r',\n",
    "                 figsize=(10,3));"
   ]
  },
  {
   "cell_type": "code",
   "execution_count": null,
   "id": "facb8cbc-539c-4fd5-b488-bd18540509a3",
   "metadata": {},
   "outputs": [],
   "source": [
    "postprocess.plot(1,\n",
    "                 instance=2,\n",
    "                 xlabel='Width [px]',\n",
    "                 ylabel='Height [px]',\n",
    "                 cmap='Greys_r',\n",
    "                 figsize=(10,3));"
   ]
  },
  {
   "cell_type": "code",
   "execution_count": null,
   "id": "b70ee0aa-c5f3-4105-b9b0-6b57ec39f772",
   "metadata": {},
   "outputs": [],
   "source": []
  },
  {
   "cell_type": "code",
   "execution_count": null,
   "id": "225a0d24-ec5b-40fc-b1ea-7477ee054797",
   "metadata": {},
   "outputs": [],
   "source": []
  },
  {
   "cell_type": "code",
   "execution_count": null,
   "id": "a4e4ae98-36b5-4277-b2d3-06adada7f23c",
   "metadata": {},
   "outputs": [],
   "source": []
  },
  {
   "cell_type": "code",
   "execution_count": null,
   "id": "3425fa63-66e5-4876-bcf4-800444f8eac5",
   "metadata": {},
   "outputs": [],
   "source": []
  },
  {
   "cell_type": "code",
   "execution_count": null,
   "id": "faf5133c-de5c-4c5c-9a88-abdd99420ca5",
   "metadata": {},
   "outputs": [],
   "source": []
  },
  {
   "cell_type": "code",
   "execution_count": null,
   "id": "1a093b0b-7d95-47f0-8cbf-8a86f64bc7bf",
   "metadata": {},
   "outputs": [],
   "source": []
  },
  {
   "cell_type": "code",
   "execution_count": null,
   "id": "dd7cbe12-2cd3-4724-a3ad-0a7ec8a0c96b",
   "metadata": {},
   "outputs": [],
   "source": []
  },
  {
   "cell_type": "code",
   "execution_count": null,
   "id": "1d5da786-bc86-4bdb-8f7e-61256ad8e9e4",
   "metadata": {},
   "outputs": [],
   "source": []
  },
  {
   "cell_type": "code",
   "execution_count": null,
   "id": "2867c93f-89f5-405f-a54d-b5fa6ffd2c2a",
   "metadata": {},
   "outputs": [],
   "source": []
  },
  {
   "cell_type": "code",
   "execution_count": null,
   "id": "116573fb-8c20-4caf-9a6b-2c0867c651e1",
   "metadata": {},
   "outputs": [],
   "source": []
  },
  {
   "cell_type": "code",
   "execution_count": null,
   "id": "c8d87543-783a-412d-a53e-8f722998c147",
   "metadata": {},
   "outputs": [],
   "source": []
  },
  {
   "cell_type": "code",
   "execution_count": null,
   "id": "1e5d8046-aa74-458b-af46-33b86766d3f4",
   "metadata": {},
   "outputs": [],
   "source": []
  },
  {
   "cell_type": "code",
   "execution_count": null,
   "id": "42d4b18a-b01f-44da-b859-537ca254a20f",
   "metadata": {},
   "outputs": [],
   "source": []
  },
  {
   "cell_type": "code",
   "execution_count": null,
   "id": "002b4295-e4c1-4e31-b16f-9924ba17efa1",
   "metadata": {},
   "outputs": [],
   "source": []
  },
  {
   "cell_type": "code",
   "execution_count": null,
   "id": "390de942-078a-4d7f-92f0-2286dae1a0ba",
   "metadata": {},
   "outputs": [],
   "source": []
  },
  {
   "cell_type": "code",
   "execution_count": null,
   "id": "41261f44-fedd-497d-acce-f0b90ff2d4e7",
   "metadata": {},
   "outputs": [],
   "source": []
  },
  {
   "cell_type": "code",
   "execution_count": null,
   "id": "6b7993f3-f378-47fc-8439-0dc1f46a7910",
   "metadata": {},
   "outputs": [],
   "source": []
  },
  {
   "cell_type": "code",
   "execution_count": null,
   "id": "ca5f7003-bf1c-4a59-984b-dc44712f5c45",
   "metadata": {},
   "outputs": [],
   "source": []
  },
  {
   "cell_type": "code",
   "execution_count": null,
   "id": "bc431a9a-fa1e-4dde-84af-830f8c30cce3",
   "metadata": {},
   "outputs": [],
   "source": []
  },
  {
   "cell_type": "code",
   "execution_count": null,
   "id": "da840f7e-2545-4a30-a1e7-fd962dc35ee1",
   "metadata": {},
   "outputs": [],
   "source": [
    "def chebyshev_polynomial(h, w, order):\n",
    "\n",
    "    (grid_w, grid_h) = np.meshgrid(w, h)\n",
    "\n",
    "    Un_h = np.zeros((len(h), 1))\n",
    "    Un_w = np.zeros((1, len(w)))\n",
    "    sin_product = np.sin(order * (grid_w + grid_h))\n",
    "\n",
    "    for i in range(0,len(h)):\n",
    "\n",
    "        product = 1\n",
    "        for k in range(0, order):\n",
    "            product *= (h[i] - np.cos((k * np.pi)) / (order + 1))\n",
    "\n",
    "        Un_h[i,0] = 2**order * product\n",
    "\n",
    "    for i in range(0,len(w)):\n",
    "\n",
    "        product = 1\n",
    "        for k in range(0, order):\n",
    "            product *= (w[i] - np.cos((k * np.pi)) / (order + 1))\n",
    "            \n",
    "        Un_w[0,i] = 2**order * product\n",
    "\n",
    "    return np.dot(Un_h, Un_w) #* sin_product"
   ]
  },
  {
   "cell_type": "code",
   "execution_count": null,
   "id": "0a141fcd-bc40-4ab6-b41f-90d6a10ea9d8",
   "metadata": {},
   "outputs": [],
   "source": [
    "poly = chebyshev_polynomial(h, w, order=5)"
   ]
  },
  {
   "cell_type": "code",
   "execution_count": null,
   "id": "bc1af608-a5f9-444b-a514-9ff1978b8a8e",
   "metadata": {},
   "outputs": [],
   "source": [
    "plt.imshow(poly, origin='lower')"
   ]
  },
  {
   "cell_type": "code",
   "execution_count": null,
   "id": "b85ebeef-eb74-4714-b943-da0779fed76e",
   "metadata": {},
   "outputs": [],
   "source": []
  },
  {
   "cell_type": "code",
   "execution_count": null,
   "id": "8646fe6c-41c8-41b5-b33e-1a549828cf20",
   "metadata": {},
   "outputs": [],
   "source": []
  },
  {
   "cell_type": "code",
   "execution_count": null,
   "id": "23b36615-5c93-4afe-b589-574fe445fdb0",
   "metadata": {},
   "outputs": [],
   "source": []
  },
  {
   "cell_type": "code",
   "execution_count": null,
   "id": "b8b21b33-1782-42ba-b2d5-2fca88fce156",
   "metadata": {},
   "outputs": [],
   "source": []
  },
  {
   "cell_type": "code",
   "execution_count": null,
   "id": "971bf8e6-0832-4ca7-9062-b26b388a5dbb",
   "metadata": {},
   "outputs": [],
   "source": []
  },
  {
   "cell_type": "code",
   "execution_count": null,
   "id": "9032db79-6ad8-4616-8b1c-317fb5c15bd6",
   "metadata": {},
   "outputs": [],
   "source": [
    "import numpy as np\n",
    "import torch\n",
    "from scipy.special import chebyu\n",
    "\n",
    "def f_chebyu(n):\n",
    "    \"\"\" Chebyshev \"\"\"\n",
    "    length = 500\n",
    "    h_crd = np.linspace(.3, .8, length)\n",
    "    w_crd = np.linspace(.3, .8, length)\n",
    "    h, w = np.meshgrid(h_crd, w_crd, indexing='ij')\n",
    "    un = chebyu(n)\n",
    "    return un(h) * un(w) * np.sin((h + w) * n)"
   ]
  },
  {
   "cell_type": "code",
   "execution_count": null,
   "id": "83711e95-5a2d-4f99-844f-3de824230cd4",
   "metadata": {},
   "outputs": [],
   "source": [
    "poly = f_chebyu(20)"
   ]
  },
  {
   "cell_type": "code",
   "execution_count": null,
   "id": "0a1ffc77-f5bd-4b49-b242-03e49d2297f5",
   "metadata": {},
   "outputs": [],
   "source": [
    "plt.imshow(poly, origin='lower', cmap='jet');"
   ]
  },
  {
   "cell_type": "code",
   "execution_count": null,
   "id": "e7f820a9-8470-4603-8145-1f7fe4eb35df",
   "metadata": {},
   "outputs": [],
   "source": []
  },
  {
   "cell_type": "markdown",
   "id": "5e17063f-c88b-49e4-a3e1-5d90293b68f2",
   "metadata": {},
   "source": [
    "***"
   ]
  }
 ],
 "metadata": {
  "kernelspec": {
   "display_name": "Python 3 (ipykernel)",
   "language": "python",
   "name": "python3"
  },
  "language_info": {
   "codemirror_mode": {
    "name": "ipython",
    "version": 3
   },
   "file_extension": ".py",
   "mimetype": "text/x-python",
   "name": "python",
   "nbconvert_exporter": "python",
   "pygments_lexer": "ipython3",
   "version": "3.10.12"
  }
 },
 "nbformat": 4,
 "nbformat_minor": 5
}
