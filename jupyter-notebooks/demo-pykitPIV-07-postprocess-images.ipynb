{
 "cells": [
  {
   "cell_type": "markdown",
   "id": "d34af596-a25d-4bc3-bb4c-8cc5ca79a2bc",
   "metadata": {},
   "source": [
    "<a id=top-page></a>\n",
    "# `pykitPIV` demo: Transform images\n",
    "\n",
    "<div class=\"alert alert-block alert-info\" style=\"margin-top: 20px\">\n",
    "<font size=\"3\"><strong>Table of contents:</strong></font>\n",
    "<br>\n",
    "<ol>\n",
    "    <li><a href=\"#upload\">Upload the saved datasets</a></li>\n",
    "</ol>\n",
    "<p></p>\n",
    "</div>\n",
    "<br>\n",
    "\n",
    "***"
   ]
  },
  {
   "cell_type": "code",
   "execution_count": null,
   "id": "c09c299e-f3c9-4540-be38-ce1c0d34a5a9",
   "metadata": {},
   "outputs": [],
   "source": [
    "import matplotlib.pyplot as plt\n",
    "import numpy as np\n",
    "import scipy\n",
    "import cmcrameri.cm as cmc\n",
    "from pykitPIV import Image\n",
    "from pykitPIV import Postprocess, FlowField"
   ]
  },
  {
   "cell_type": "code",
   "execution_count": null,
   "id": "e78a88c6-77db-4dc6-901e-49c9bf7e7b79",
   "metadata": {},
   "outputs": [],
   "source": [
    "figsize=(6,3)"
   ]
  },
  {
   "cell_type": "code",
   "execution_count": null,
   "id": "42e6726c-0f46-4520-b0e5-bc8dcd87f634",
   "metadata": {},
   "outputs": [],
   "source": [
    "image = Image(random_seed=100)"
   ]
  },
  {
   "cell_type": "code",
   "execution_count": null,
   "id": "44803731-4187-4bac-acf4-80a8486cef26",
   "metadata": {},
   "outputs": [],
   "source": [
    "flowfield = FlowField(1,\n",
    "                      size=(200,200),\n",
    "                      size_buffer=10,\n",
    "                      random_seed=100)"
   ]
  },
  {
   "cell_type": "code",
   "execution_count": null,
   "id": "4a559dab-6cf0-4ba0-9553-738e15628c23",
   "metadata": {},
   "outputs": [],
   "source": [
    "flowfield.generate_checkered_velocity_field(displacement=(0,2),\n",
    "                                            m=4,\n",
    "                                            n=4,\n",
    "                                            rotation=None)"
   ]
  },
  {
   "cell_type": "code",
   "execution_count": null,
   "id": "d55805e0-dbe0-47ab-ba32-fa3205889754",
   "metadata": {},
   "outputs": [],
   "source": [
    "image.add_flowfield(flowfield)"
   ]
  },
  {
   "cell_type": "code",
   "execution_count": null,
   "id": "62b1259c-ec6e-4566-b526-b6f6b128b533",
   "metadata": {},
   "outputs": [],
   "source": [
    "image.plot_velocity_field(0,\n",
    "                          with_buffer=True,\n",
    "                          xlabel='Width [px]',\n",
    "                          ylabel='Height [px]',\n",
    "                          title=('Example random velocity component $u$', 'Example random velocity component $v$'),\n",
    "                          cmap=cmc.oslo_r,\n",
    "                          figsize=figsize);"
   ]
  },
  {
   "cell_type": "markdown",
   "id": "34ebc9bd-f6a3-4636-866a-d73c9390e69a",
   "metadata": {},
   "source": [
    "***\n",
    "\n",
    "## Handle user-created dataset"
   ]
  },
  {
   "cell_type": "code",
   "execution_count": null,
   "id": "1a8a899d-27cc-48ce-a3a3-de0685022547",
   "metadata": {},
   "outputs": [],
   "source": [
    "n_points_h = 120\n",
    "n_points_w = 220"
   ]
  },
  {
   "cell_type": "code",
   "execution_count": null,
   "id": "e3f88a9a-8980-42b3-ab9b-2a7f37f1ae8a",
   "metadata": {},
   "outputs": [],
   "source": [
    "h = np.linspace(-1, 1, n_points_h)\n",
    "w = np.linspace(-1, 1, n_points_w)"
   ]
  },
  {
   "cell_type": "code",
   "execution_count": null,
   "id": "92365ba9-fe0f-4f8b-a812-dbe04ee69f10",
   "metadata": {},
   "outputs": [],
   "source": []
  },
  {
   "cell_type": "code",
   "execution_count": null,
   "id": "920fc1ad-8319-45e9-aab1-2501c31c01d8",
   "metadata": {},
   "outputs": [],
   "source": [
    "m = 10\n",
    "n = 10\n",
    "r = 10"
   ]
  },
  {
   "cell_type": "code",
   "execution_count": null,
   "id": "9489f405-674b-41b8-8910-b45046c46c35",
   "metadata": {},
   "outputs": [],
   "source": [
    "(grid_w, grid_h) = np.meshgrid(w, h)\n",
    "\n",
    "poly = np.sin(m*grid_w) * np.cos(n*grid_h) * np.sin(r*(grid_w + grid_h))"
   ]
  },
  {
   "cell_type": "code",
   "execution_count": null,
   "id": "a68c0ca9-b178-4c14-a279-41ccbaf50eea",
   "metadata": {},
   "outputs": [],
   "source": [
    "plt.imshow(poly, origin='lower')"
   ]
  },
  {
   "cell_type": "code",
   "execution_count": null,
   "id": "99dffd2f-51c2-40b6-a059-d93defcae161",
   "metadata": {},
   "outputs": [],
   "source": []
  },
  {
   "cell_type": "code",
   "execution_count": null,
   "id": "ce88248f-7cee-4ba9-bcc5-78a46fa1fd9c",
   "metadata": {},
   "outputs": [],
   "source": [
    "postprocess = Postprocess(images_tensor)\n",
    "log_transformed_images_tensor = postprocess.log_transform_images(addition=10)\n",
    "postprocess.plot(False,\n",
    "                 0,\n",
    "                 instance=2,\n",
    "                 xlabel='Width [px]',\n",
    "                 ylabel='Height [px]',\n",
    "                 cmap='viridis',\n",
    "                 cbar=True,\n",
    "                 figsize=(10,3));"
   ]
  },
  {
   "cell_type": "code",
   "execution_count": null,
   "id": "daa4c655-cc57-47cc-9417-443c023cc76b",
   "metadata": {},
   "outputs": [],
   "source": [
    "postprocess.plot(True,\n",
    "                 0,\n",
    "                 instance=2,\n",
    "                 xlabel='Width [px]',\n",
    "                 ylabel='Height [px]',\n",
    "                 cmap='viridis',\n",
    "                 cbar=True,\n",
    "                 figsize=(10,3));"
   ]
  },
  {
   "cell_type": "markdown",
   "id": "eacd6e50-34ba-4eaa-bbcb-f53cdc8d4d3f",
   "metadata": {},
   "source": [
    "<a id=upload></a>\n",
    "***\n",
    "\n",
    "## Upload the saved dataset\n",
    "\n",
    "[Go to the top](#top-page)"
   ]
  },
  {
   "cell_type": "markdown",
   "id": "9e0a4f8e-3dd3-456e-b3bd-6ca49475104b",
   "metadata": {},
   "source": [
    "The standalone import of previously saved PIV image pairs and the associated targets can be performed following this minimal example:"
   ]
  },
  {
   "cell_type": "code",
   "execution_count": null,
   "id": "0b7a29d9-49a2-4dd3-afa6-9310658d07ca",
   "metadata": {},
   "outputs": [],
   "source": [
    "image = Image()"
   ]
  },
  {
   "cell_type": "code",
   "execution_count": null,
   "id": "8c7f8177-87c4-46e6-81e9-d7c4af988e8b",
   "metadata": {},
   "outputs": [],
   "source": [
    "images_tensor_dic = image.upload_from_h5(filename='pykitPIV-tutorial-PIV-pairs.h5')\n",
    "images_tensor = images_tensor_dic['I']\n",
    "images_tensor = images_tensor[:,:,:,:]\n",
    "images_tensor.shape"
   ]
  },
  {
   "cell_type": "code",
   "execution_count": null,
   "id": "bb1c5d46-7fda-4629-8765-1ecc5a8b765f",
   "metadata": {},
   "outputs": [],
   "source": [
    "postprocess = Postprocess(images_tensor)"
   ]
  },
  {
   "cell_type": "code",
   "execution_count": null,
   "id": "cb56b610-3f9e-46dd-a72e-b7b47339d3ce",
   "metadata": {},
   "outputs": [],
   "source": [
    "postprocess.image_pair"
   ]
  },
  {
   "cell_type": "code",
   "execution_count": null,
   "id": "12b2d89d-700c-45af-8446-1388f082f4b6",
   "metadata": {},
   "outputs": [],
   "source": [
    "log_transformed_images_tensor = postprocess.log_transform_images(addition=10000)"
   ]
  },
  {
   "cell_type": "code",
   "execution_count": null,
   "id": "65c0ab74-dfd9-441c-ab68-3b716aa6841b",
   "metadata": {},
   "outputs": [],
   "source": [
    "log_transformed_images_tensor.shape"
   ]
  },
  {
   "cell_type": "code",
   "execution_count": null,
   "id": "5ffaad84-de90-4bd0-a015-6ae02567e828",
   "metadata": {},
   "outputs": [],
   "source": [
    "postprocess.processed_image_tensor.shape"
   ]
  },
  {
   "cell_type": "code",
   "execution_count": null,
   "id": "ea08dfb9-ce49-496f-a43e-1db5263f69a9",
   "metadata": {},
   "outputs": [],
   "source": [
    "postprocess.plot(1,\n",
    "                 instance=1,\n",
    "                 xlabel='Width [px]',\n",
    "                 ylabel='Height [px]',\n",
    "                 cmap='Greys_r',\n",
    "                 figsize=(10,3));"
   ]
  },
  {
   "cell_type": "code",
   "execution_count": null,
   "id": "facb8cbc-539c-4fd5-b488-bd18540509a3",
   "metadata": {},
   "outputs": [],
   "source": [
    "postprocess.plot(1,\n",
    "                 instance=2,\n",
    "                 xlabel='Width [px]',\n",
    "                 ylabel='Height [px]',\n",
    "                 cmap='Greys_r',\n",
    "                 figsize=(10,3));"
   ]
  },
  {
   "cell_type": "code",
   "execution_count": null,
   "id": "b70ee0aa-c5f3-4105-b9b0-6b57ec39f772",
   "metadata": {},
   "outputs": [],
   "source": []
  },
  {
   "cell_type": "code",
   "execution_count": null,
   "id": "225a0d24-ec5b-40fc-b1ea-7477ee054797",
   "metadata": {},
   "outputs": [],
   "source": []
  },
  {
   "cell_type": "code",
   "execution_count": null,
   "id": "a4e4ae98-36b5-4277-b2d3-06adada7f23c",
   "metadata": {},
   "outputs": [],
   "source": []
  },
  {
   "cell_type": "code",
   "execution_count": null,
   "id": "3425fa63-66e5-4876-bcf4-800444f8eac5",
   "metadata": {},
   "outputs": [],
   "source": []
  },
  {
   "cell_type": "code",
   "execution_count": null,
   "id": "faf5133c-de5c-4c5c-9a88-abdd99420ca5",
   "metadata": {},
   "outputs": [],
   "source": []
  },
  {
   "cell_type": "code",
   "execution_count": null,
   "id": "1a093b0b-7d95-47f0-8cbf-8a86f64bc7bf",
   "metadata": {},
   "outputs": [],
   "source": []
  },
  {
   "cell_type": "code",
   "execution_count": null,
   "id": "dd7cbe12-2cd3-4724-a3ad-0a7ec8a0c96b",
   "metadata": {},
   "outputs": [],
   "source": []
  },
  {
   "cell_type": "code",
   "execution_count": null,
   "id": "1d5da786-bc86-4bdb-8f7e-61256ad8e9e4",
   "metadata": {},
   "outputs": [],
   "source": []
  },
  {
   "cell_type": "code",
   "execution_count": null,
   "id": "2867c93f-89f5-405f-a54d-b5fa6ffd2c2a",
   "metadata": {},
   "outputs": [],
   "source": []
  },
  {
   "cell_type": "code",
   "execution_count": null,
   "id": "116573fb-8c20-4caf-9a6b-2c0867c651e1",
   "metadata": {},
   "outputs": [],
   "source": []
  },
  {
   "cell_type": "code",
   "execution_count": null,
   "id": "c8d87543-783a-412d-a53e-8f722998c147",
   "metadata": {},
   "outputs": [],
   "source": []
  },
  {
   "cell_type": "code",
   "execution_count": null,
   "id": "1e5d8046-aa74-458b-af46-33b86766d3f4",
   "metadata": {},
   "outputs": [],
   "source": []
  },
  {
   "cell_type": "code",
   "execution_count": null,
   "id": "42d4b18a-b01f-44da-b859-537ca254a20f",
   "metadata": {},
   "outputs": [],
   "source": []
  },
  {
   "cell_type": "code",
   "execution_count": null,
   "id": "002b4295-e4c1-4e31-b16f-9924ba17efa1",
   "metadata": {},
   "outputs": [],
   "source": []
  },
  {
   "cell_type": "code",
   "execution_count": null,
   "id": "390de942-078a-4d7f-92f0-2286dae1a0ba",
   "metadata": {},
   "outputs": [],
   "source": []
  },
  {
   "cell_type": "code",
   "execution_count": null,
   "id": "41261f44-fedd-497d-acce-f0b90ff2d4e7",
   "metadata": {},
   "outputs": [],
   "source": []
  },
  {
   "cell_type": "code",
   "execution_count": null,
   "id": "6b7993f3-f378-47fc-8439-0dc1f46a7910",
   "metadata": {},
   "outputs": [],
   "source": []
  },
  {
   "cell_type": "code",
   "execution_count": null,
   "id": "ca5f7003-bf1c-4a59-984b-dc44712f5c45",
   "metadata": {},
   "outputs": [],
   "source": []
  },
  {
   "cell_type": "code",
   "execution_count": null,
   "id": "bc431a9a-fa1e-4dde-84af-830f8c30cce3",
   "metadata": {},
   "outputs": [],
   "source": []
  },
  {
   "cell_type": "code",
   "execution_count": null,
   "id": "da840f7e-2545-4a30-a1e7-fd962dc35ee1",
   "metadata": {},
   "outputs": [],
   "source": [
    "def chebyshev_polynomial(h, w, order):\n",
    "\n",
    "    (grid_w, grid_h) = np.meshgrid(w, h)\n",
    "\n",
    "    Un_h = np.zeros((len(h), 1))\n",
    "    Un_w = np.zeros((1, len(w)))\n",
    "    sin_product = np.sin(order * (grid_w + grid_h))\n",
    "\n",
    "    for i in range(0,len(h)):\n",
    "\n",
    "        product = 1\n",
    "        for k in range(0, order):\n",
    "            product *= (h[i] - np.cos((k * np.pi)) / (order + 1))\n",
    "\n",
    "        Un_h[i,0] = 2**order * product\n",
    "\n",
    "    for i in range(0,len(w)):\n",
    "\n",
    "        product = 1\n",
    "        for k in range(0, order):\n",
    "            product *= (w[i] - np.cos((k * np.pi)) / (order + 1))\n",
    "            \n",
    "        Un_w[0,i] = 2**order * product\n",
    "\n",
    "    return np.dot(Un_h, Un_w) #* sin_product"
   ]
  },
  {
   "cell_type": "code",
   "execution_count": null,
   "id": "0a141fcd-bc40-4ab6-b41f-90d6a10ea9d8",
   "metadata": {},
   "outputs": [],
   "source": [
    "poly = chebyshev_polynomial(h, w, order=5)"
   ]
  },
  {
   "cell_type": "code",
   "execution_count": null,
   "id": "bc1af608-a5f9-444b-a514-9ff1978b8a8e",
   "metadata": {},
   "outputs": [],
   "source": [
    "plt.imshow(poly, origin='lower')"
   ]
  },
  {
   "cell_type": "code",
   "execution_count": null,
   "id": "b85ebeef-eb74-4714-b943-da0779fed76e",
   "metadata": {},
   "outputs": [],
   "source": []
  },
  {
   "cell_type": "code",
   "execution_count": null,
   "id": "8646fe6c-41c8-41b5-b33e-1a549828cf20",
   "metadata": {},
   "outputs": [],
   "source": []
  },
  {
   "cell_type": "code",
   "execution_count": null,
   "id": "23b36615-5c93-4afe-b589-574fe445fdb0",
   "metadata": {},
   "outputs": [],
   "source": []
  },
  {
   "cell_type": "code",
   "execution_count": null,
   "id": "b8b21b33-1782-42ba-b2d5-2fca88fce156",
   "metadata": {},
   "outputs": [],
   "source": []
  },
  {
   "cell_type": "code",
   "execution_count": null,
   "id": "971bf8e6-0832-4ca7-9062-b26b388a5dbb",
   "metadata": {},
   "outputs": [],
   "source": []
  },
  {
   "cell_type": "code",
   "execution_count": null,
   "id": "9032db79-6ad8-4616-8b1c-317fb5c15bd6",
   "metadata": {},
   "outputs": [],
   "source": []
  },
  {
   "cell_type": "code",
   "execution_count": null,
   "id": "83711e95-5a2d-4f99-844f-3de824230cd4",
   "metadata": {},
   "outputs": [],
   "source": []
  },
  {
   "cell_type": "code",
   "execution_count": null,
   "id": "0a1ffc77-f5bd-4b49-b242-03e49d2297f5",
   "metadata": {},
   "outputs": [],
   "source": []
  },
  {
   "cell_type": "code",
   "execution_count": null,
   "id": "e7f820a9-8470-4603-8145-1f7fe4eb35df",
   "metadata": {},
   "outputs": [],
   "source": []
  },
  {
   "cell_type": "markdown",
   "id": "5e17063f-c88b-49e4-a3e1-5d90293b68f2",
   "metadata": {},
   "source": [
    "***"
   ]
  }
 ],
 "metadata": {
  "kernelspec": {
   "display_name": "Python 3 (ipykernel)",
   "language": "python",
   "name": "python3"
  },
  "language_info": {
   "codemirror_mode": {
    "name": "ipython",
    "version": 3
   },
   "file_extension": ".py",
   "mimetype": "text/x-python",
   "name": "python",
   "nbconvert_exporter": "python",
   "pygments_lexer": "ipython3",
   "version": "3.10.12"
  }
 },
 "nbformat": 4,
 "nbformat_minor": 5
}
