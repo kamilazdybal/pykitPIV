{
 "cells": [
  {
   "cell_type": "code",
   "execution_count": 1,
   "id": "eb597daa-b5d1-4733-b0a8-e8eca68a95dd",
   "metadata": {},
   "outputs": [],
   "source": [
    "import numpy as np\n",
    "import matplotlib.pyplot as plt"
   ]
  },
  {
   "cell_type": "code",
   "execution_count": 39,
   "id": "9fcdee27-01ea-43d9-8f9e-5a57ecafcf74",
   "metadata": {},
   "outputs": [],
   "source": [
    "size = (6,5)"
   ]
  },
  {
   "cell_type": "code",
   "execution_count": 56,
   "id": "d389f973-bdb9-4431-8694-6eb3fab52b61",
   "metadata": {},
   "outputs": [],
   "source": [
    "n_particles = 20"
   ]
  },
  {
   "cell_type": "code",
   "execution_count": 57,
   "id": "d2ac6fcb-a3c4-4d3a-92b4-1cb62fd1d2ce",
   "metadata": {},
   "outputs": [],
   "source": [
    "y_coordinates = size[0] * np.random.rand(n_particles)"
   ]
  },
  {
   "cell_type": "code",
   "execution_count": 58,
   "id": "88acdf8e-d0e0-4073-8b71-8bdf28b3d325",
   "metadata": {},
   "outputs": [],
   "source": [
    "x_coordinates = size[1] * np.random.rand(n_particles)"
   ]
  },
  {
   "cell_type": "code",
   "execution_count": 59,
   "id": "a3c6644a-9d3f-409e-9c0c-1da4a54d7505",
   "metadata": {},
   "outputs": [
    {
     "data": {
      "text/plain": [
       "array([0.95045298, 4.0707446 , 0.75056133, 2.81129967, 1.95063974,\n",
       "       4.46273667, 4.97505742, 2.53686746, 2.25864309, 3.42499466,\n",
       "       0.35363649, 3.19104968, 4.22779579, 4.56967488, 0.82683447,\n",
       "       3.50515602, 4.893643  , 0.48037409, 0.78632711, 1.13985848])"
      ]
     },
     "execution_count": 59,
     "metadata": {},
     "output_type": "execute_result"
    }
   ],
   "source": [
    "x_coordinates"
   ]
  },
  {
   "cell_type": "code",
   "execution_count": 60,
   "id": "e13f77aa-6bf6-42e6-bc89-f4c2f714b25d",
   "metadata": {},
   "outputs": [
    {
     "data": {
      "text/plain": [
       "array([5.00674991, 0.41489352, 4.37859839, 0.50495322, 2.18207184,\n",
       "       4.63245633, 4.63326355, 3.59684408, 4.74510603, 4.15199254,\n",
       "       3.47808038, 0.20145328, 3.78515822, 5.87960477, 2.92009141,\n",
       "       3.24315607, 5.94326199, 2.5928332 , 0.78460244, 3.52985353])"
      ]
     },
     "execution_count": 60,
     "metadata": {},
     "output_type": "execute_result"
    }
   ],
   "source": [
    "y_coordinates"
   ]
  },
  {
   "cell_type": "code",
   "execution_count": 61,
   "id": "94ea76f5-816a-4251-97ef-7d66e9b26bde",
   "metadata": {},
   "outputs": [
    {
     "data": {
      "image/png": "[encoded data removed]",
      "text/plain": [
       "<Figure size 1000x500 with 1 Axes>"
      ]
     },
     "metadata": {},
     "output_type": "display_data"
    }
   ],
   "source": [
    "fig = plt.figure(figsize=(10,5))\n",
    "plt.scatter(x_coordinates, y_coordinates, c='k', s=2)\n",
    "plt.axis('equal')\n",
    "plt.xlim([0,size[1]])\n",
    "plt.ylim([0,size[0]])\n",
    "# plt.yticks([0,1,2,3])\n",
    "plt.grid(alpha=1)"
   ]
  },
  {
   "cell_type": "code",
   "execution_count": 62,
   "id": "abc02ace-809a-459c-9f8f-e8f99e309599",
   "metadata": {},
   "outputs": [
    {
     "data": {
      "text/plain": [
       "array([0, 4, 0, 2, 1, 4, 4, 2, 2, 3, 0, 3, 4, 4, 0, 3, 4, 0, 0, 1])"
      ]
     },
     "execution_count": 62,
     "metadata": {},
     "output_type": "execute_result"
    }
   ],
   "source": [
    "np.floor(x_coordinates).astype(int)"
   ]
  },
  {
   "cell_type": "code",
   "execution_count": 63,
   "id": "79036032-0b4e-4e5f-91c4-001c10a46efd",
   "metadata": {},
   "outputs": [
    {
     "data": {
      "text/plain": [
       "array([5, 0, 4, 0, 2, 4, 4, 3, 4, 4, 3, 0, 3, 5, 2, 3, 5, 2, 0, 3])"
      ]
     },
     "execution_count": 63,
     "metadata": {},
     "output_type": "execute_result"
    }
   ],
   "source": [
    "np.floor(y_coordinates).astype(int)"
   ]
  },
  {
   "cell_type": "code",
   "execution_count": 64,
   "id": "16e1e656-d080-4be0-9f15-566775195813",
   "metadata": {},
   "outputs": [],
   "source": [
    "empty_image = np.zeros(size)\n",
    "\n",
    "for x, y in zip(np.floor(x_coordinates).astype(int), np.floor(y_coordinates).astype(int)):\n",
    "\n",
    "    empty_image[y , x] += 1"
   ]
  },
  {
   "cell_type": "code",
   "execution_count": 65,
   "id": "ebbbdbbe-3754-4b0b-a3cd-7f4abe727b20",
   "metadata": {},
   "outputs": [
    {
     "data": {
      "text/plain": [
       "array([[1., 0., 1., 1., 1.],\n",
       "       [0., 0., 0., 0., 0.],\n",
       "       [2., 1., 0., 0., 0.],\n",
       "       [1., 1., 1., 1., 1.],\n",
       "       [1., 0., 1., 1., 2.],\n",
       "       [1., 0., 0., 0., 2.]])"
      ]
     },
     "execution_count": 65,
     "metadata": {},
     "output_type": "execute_result"
    }
   ],
   "source": [
    "empty_image"
   ]
  },
  {
   "cell_type": "code",
   "execution_count": 66,
   "id": "1bca1dc1-148d-4dfa-9272-83aa29159867",
   "metadata": {},
   "outputs": [
    {
     "data": {
      "text/plain": [
       "<matplotlib.image.AxesImage at 0x7f3799e724d0>"
      ]
     },
     "execution_count": 66,
     "metadata": {},
     "output_type": "execute_result"
    },
    {
     "data": {
      "image/png": "[encoded data removed]",
      "text/plain": [
       "<Figure size 640x480 with 1 Axes>"
      ]
     },
     "metadata": {},
     "output_type": "display_data"
    }
   ],
   "source": [
    "# fig = plt.figure(figsize=(10,5))\n",
    "plt.imshow(empty_image, cmap='jet', origin='lower')\n",
    "# plt.colorbar()"
   ]
  },
  {
   "cell_type": "code",
   "execution_count": null,
   "id": "c83a2cb7-79f7-4858-9a3d-693b07fc807a",
   "metadata": {},
   "outputs": [],
   "source": []
  },
  {
   "cell_type": "code",
   "execution_count": null,
   "id": "f01de083-5f50-4bf5-9f93-7c5ad0113201",
   "metadata": {},
   "outputs": [],
   "source": []
  },
  {
   "cell_type": "code",
   "execution_count": null,
   "id": "cac8d17c-0655-4346-a724-130e42c69f31",
   "metadata": {},
   "outputs": [],
   "source": []
  },
  {
   "cell_type": "code",
   "execution_count": null,
   "id": "d3a64993-f38c-4d66-9fc1-08681b27eaba",
   "metadata": {},
   "outputs": [],
   "source": []
  },
  {
   "cell_type": "code",
   "execution_count": 268,
   "id": "7342741b-466e-47b3-814a-e567e69fa7d4",
   "metadata": {},
   "outputs": [],
   "source": [
    "from pykitPIV import Image"
   ]
  },
  {
   "cell_type": "code",
   "execution_count": 269,
   "id": "180cb76f-87a0-44f7-8d5c-5f244422836f",
   "metadata": {},
   "outputs": [],
   "source": [
    "image = Image(random_seed=100)"
   ]
  },
  {
   "cell_type": "code",
   "execution_count": 323,
   "id": "ec4df89c-4b80-4807-937a-31b953afcbc3",
   "metadata": {},
   "outputs": [],
   "source": [
    "particle_height_coordinate = 2.9\n",
    "particle_width_coordinate = 2.8\n",
    "image_size = (6,5)\n",
    "diameter=1"
   ]
  },
  {
   "cell_type": "code",
   "execution_count": 330,
   "id": "49620535-351e-4513-9a54-28aaa2a773fb",
   "metadata": {},
   "outputs": [
    {
     "name": "stdout",
     "output_type": "stream",
     "text": [
      "Pixel: 1, 1\n",
      "Height: -1.4\n",
      "Width: -1.2999999999999998\n",
      "- - - - - - - - - - - - - - - - - - - - \n",
      "Pixel: 1, 2\n",
      "Height: -1.4\n",
      "Width: -0.2999999999999998\n",
      "- - - - - - - - - - - - - - - - - - - - \n",
      "Pixel: 1, 3\n",
      "Height: -1.4\n",
      "Width: 0.7000000000000002\n",
      "- - - - - - - - - - - - - - - - - - - - \n",
      "Pixel: 2, 1\n",
      "Height: -0.3999999999999999\n",
      "Width: -1.2999999999999998\n",
      "- - - - - - - - - - - - - - - - - - - - \n",
      "Pixel: 2, 2\n",
      "Height: -0.3999999999999999\n",
      "Width: -0.2999999999999998\n",
      "- - - - - - - - - - - - - - - - - - - - \n",
      "Pixel: 2, 3\n",
      "Height: -0.3999999999999999\n",
      "Width: 0.7000000000000002\n",
      "- - - - - - - - - - - - - - - - - - - - \n",
      "Pixel: 3, 1\n",
      "Height: 0.6000000000000001\n",
      "Width: -1.2999999999999998\n",
      "- - - - - - - - - - - - - - - - - - - - \n",
      "Pixel: 3, 2\n",
      "Height: 0.6000000000000001\n",
      "Width: -0.2999999999999998\n",
      "- - - - - - - - - - - - - - - - - - - - \n",
      "Pixel: 3, 3\n",
      "Height: 0.6000000000000001\n",
      "Width: 0.7000000000000002\n",
      "- - - - - - - - - - - - - - - - - - - - \n"
     ]
    }
   ],
   "source": [
    "particles_with_gaussian_light = np.zeros(image_size)\n",
    "\n",
    "px_c_height = np.floor(particle_height_coordinate).astype(int)\n",
    "px_c_width = np.floor(particle_width_coordinate).astype(int)\n",
    "ceil_of_particle_radius = np.ceil(diameter/2).astype(int)\n",
    "\n",
    "for h in range(px_c_height-ceil_of_particle_radius, px_c_height+ceil_of_particle_radius+1):\n",
    "    for w in range(px_c_width-ceil_of_particle_radius, px_c_width+ceil_of_particle_radius+1):\n",
    "\n",
    "        # Only change the value of pixels that are within the image area:\n",
    "        if (h >= 0 and h < image_size[0]) and (w >= 0 and w < image_size[1]):\n",
    "\n",
    "            coordinate_height = h + 0.5 - particle_height_coordinate\n",
    "            coordinate_width = w + 0.5 - particle_width_coordinate\n",
    "\n",
    "            print(\"Pixel: \" + str(h) + ', '+ str(w))\n",
    "\n",
    "            print('Height: ' + str(coordinate_height))\n",
    "            print('Width: ' + str(coordinate_width))\n",
    "            print('- '*20)\n",
    "\n",
    "            particles_with_gaussian_light[h,w] = particles_with_gaussian_light[h,w] + image.compute_light_intensity_at_pixel(1,\n",
    "                                                                                                                            diameter,\n",
    "                                                                                                                            coordinate_height,\n",
    "                                                                                                                            coordinate_width,\n",
    "                                                                                                                            alpha=1)\n"
   ]
  },
  {
   "cell_type": "code",
   "execution_count": 331,
   "id": "39d4d3a1-cbaa-42b9-8e67-9ec4c7820c20",
   "metadata": {},
   "outputs": [
    {
     "data": {
      "text/plain": [
       "(2, 2)"
      ]
     },
     "execution_count": 331,
     "metadata": {},
     "output_type": "execute_result"
    }
   ],
   "source": [
    "px_c_height, px_c_width"
   ]
  },
  {
   "cell_type": "code",
   "execution_count": 332,
   "id": "81294664-65a3-4ab4-badb-73051a6c0031",
   "metadata": {},
   "outputs": [
    {
     "data": {
      "image/png": "[encoded data removed]",
      "text/plain": [
       "<Figure size 640x480 with 1 Axes>"
      ]
     },
     "metadata": {},
     "output_type": "display_data"
    }
   ],
   "source": [
    "plt.scatter(particle_width_coordinate, particle_height_coordinate, c='k')\n",
    "im = plt.imshow(particles_with_gaussian_light, origin='lower')\n",
    "plt.grid()\n",
    "f = lambda pixel: pixel + 0.5\n",
    "im.set_extent([f(x) for x in im.get_extent()])\n"
   ]
  },
  {
   "cell_type": "code",
   "execution_count": null,
   "id": "8786e21a-e7eb-469a-aba8-2fa92d679b48",
   "metadata": {},
   "outputs": [],
   "source": []
  },
  {
   "cell_type": "markdown",
   "id": "3ea7b2c9-aee6-4a21-9ce9-31bb6fc9d946",
   "metadata": {},
   "source": [
    "***"
   ]
  }
 ],
 "metadata": {
  "kernelspec": {
   "display_name": "Python 3 (ipykernel)",
   "language": "python",
   "name": "python3"
  },
  "language_info": {
   "codemirror_mode": {
    "name": "ipython",
    "version": 3
   },
   "file_extension": ".py",
   "mimetype": "text/x-python",
   "name": "python",
   "nbconvert_exporter": "python",
   "pygments_lexer": "ipython3",
   "version": "3.10.13"
  }
 },
 "nbformat": 4,
 "nbformat_minor": 5
}
