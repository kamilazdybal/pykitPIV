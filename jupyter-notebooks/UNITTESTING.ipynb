{
 "cells": [
  {
   "cell_type": "code",
   "execution_count": null,
   "id": "7bb82ab0-d243-4aca-aa9c-cdcd7b56c110",
   "metadata": {},
   "outputs": [],
   "source": []
  },
  {
   "cell_type": "code",
   "execution_count": null,
   "id": "27de9132-43dd-486b-ba85-1c99e7d8ee3c",
   "metadata": {},
   "outputs": [],
   "source": []
  },
  {
   "cell_type": "code",
   "execution_count": null,
   "id": "391228f5-532d-48e2-9fd1-4514dac8594e",
   "metadata": {},
   "outputs": [],
   "source": []
  },
  {
   "cell_type": "code",
   "execution_count": 1,
   "id": "fbd7e55c-d1a4-4689-ae63-bf3039cde6eb",
   "metadata": {},
   "outputs": [],
   "source": [
    "from pykitPIV import Particle, FlowField, Motion, Image\n",
    "\n",
    "# Initialize a particle object:\n",
    "particles = Particle(1,\n",
    "                     size=(128,512),\n",
    "                     size_buffer=10,\n",
    "                     random_seed=100)\n",
    "\n",
    "# Initialize a flow field object:\n",
    "flowfield = FlowField(1,\n",
    "                      size=(128,512),\n",
    "                      size_buffer=10,\n",
    "                      random_seed=100)\n",
    "\n",
    "# Initialize a motion object:\n",
    "motion = Motion(particles, flowfield)\n",
    "\n",
    "# Initialize an image object:\n",
    "image = Image(random_seed=100)"
   ]
  },
  {
   "cell_type": "code",
   "execution_count": 5,
   "id": "356afb70-c62f-431a-a152-0cd2fa0fb181",
   "metadata": {},
   "outputs": [
    {
     "name": "stdout",
     "output_type": "stream",
     "text": [
      "Particles added to the image.\n"
     ]
    }
   ],
   "source": [
    "# Add particles to an image:\n",
    "image.add_particles(particles)"
   ]
  },
  {
   "cell_type": "code",
   "execution_count": 6,
   "id": "82860f99-27fe-4b3b-9227-e152bb211ddc",
   "metadata": {},
   "outputs": [
    {
     "name": "stdout",
     "output_type": "stream",
     "text": [
      "Particle movement added to the image.\n"
     ]
    }
   ],
   "source": [
    "# Add motion to an image:\n",
    "image.add_motion(motion)"
   ]
  },
  {
   "cell_type": "code",
   "execution_count": null,
   "id": "34db227a-41fe-426c-a04f-e780a98b4ff3",
   "metadata": {},
   "outputs": [],
   "source": []
  },
  {
   "cell_type": "code",
   "execution_count": null,
   "id": "b4ea14ca-ccb4-416d-b5df-2106bf381953",
   "metadata": {},
   "outputs": [],
   "source": []
  }
 ],
 "metadata": {
  "kernelspec": {
   "display_name": "Python 3 (ipykernel)",
   "language": "python",
   "name": "python3"
  },
  "language_info": {
   "codemirror_mode": {
    "name": "ipython",
    "version": 3
   },
   "file_extension": ".py",
   "mimetype": "text/x-python",
   "name": "python",
   "nbconvert_exporter": "python",
   "pygments_lexer": "ipython3",
   "version": "3.10.13"
  }
 },
 "nbformat": 4,
 "nbformat_minor": 5
}
