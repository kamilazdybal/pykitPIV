{
 "cells": [
  {
   "cell_type": "code",
   "execution_count": 9,
   "id": "7e0c4743-94bd-441e-b169-a07eccaeed9f",
   "metadata": {},
   "outputs": [],
   "source": [
    "import unittest\n",
    "import numpy as np\n",
    "import pandas as pd\n",
    "import random\n",
    "import copy\n",
    "from pykitPIV import Particle, FlowField, Motion, Image"
   ]
  },
  {
   "cell_type": "code",
   "execution_count": 10,
   "id": "24b4d83b-9034-4ad0-aa40-3097fb844df4",
   "metadata": {},
   "outputs": [
    {
     "name": "stdout",
     "output_type": "stream",
     "text": [
      "Particles added to the image.\n",
      "Buffers removed from images I1.\n"
     ]
    }
   ],
   "source": [
    "size = (100,80)\n",
    "size_buffer = 5\n",
    "\n",
    "image = Image(random_seed=100)\n",
    "particles = Particle(1,\n",
    "                     size=size,\n",
    "                     size_buffer=size_buffer)\n",
    "\n",
    "image.add_particles(particles)\n",
    "\n",
    "image.remove_buffers()"
   ]
  },
  {
   "cell_type": "code",
   "execution_count": 13,
   "id": "f6815af4-d14c-4cc9-85ae-ac1f63563d66",
   "metadata": {},
   "outputs": [
    {
     "data": {
      "text/plain": [
       "(110, 90)"
      ]
     },
     "execution_count": 13,
     "metadata": {},
     "output_type": "execute_result"
    }
   ],
   "source": [
    "image.images_I1[0].shape"
   ]
  },
  {
   "cell_type": "code",
   "execution_count": 14,
   "id": "8b8c2c8e-684f-4158-916e-e7074968037f",
   "metadata": {},
   "outputs": [
    {
     "data": {
      "text/plain": [
       "(100, 80)"
      ]
     },
     "execution_count": 14,
     "metadata": {},
     "output_type": "execute_result"
    }
   ],
   "source": [
    "image.images_I1_no_buffer[0].shape"
   ]
  },
  {
   "cell_type": "code",
   "execution_count": 19,
   "id": "10be9366-3608-4de0-a2ac-12a24e1f4f3c",
   "metadata": {},
   "outputs": [
    {
     "data": {
      "text/plain": [
       "True"
      ]
     },
     "execution_count": 19,
     "metadata": {},
     "output_type": "execute_result"
    }
   ],
   "source": [
    "np.array_equal(image.images_I1[0][5:105,5:85], image.images_I1_no_buffer[0])"
   ]
  },
  {
   "cell_type": "code",
   "execution_count": null,
   "id": "d187d5c2-cb3c-48c4-ae5b-becd2674c7e2",
   "metadata": {},
   "outputs": [],
   "source": []
  },
  {
   "cell_type": "code",
   "execution_count": null,
   "id": "34db227a-41fe-426c-a04f-e780a98b4ff3",
   "metadata": {},
   "outputs": [],
   "source": []
  },
  {
   "cell_type": "code",
   "execution_count": null,
   "id": "b4ea14ca-ccb4-416d-b5df-2106bf381953",
   "metadata": {},
   "outputs": [],
   "source": []
  }
 ],
 "metadata": {
  "kernelspec": {
   "display_name": "Python 3 (ipykernel)",
   "language": "python",
   "name": "python3"
  },
  "language_info": {
   "codemirror_mode": {
    "name": "ipython",
    "version": 3
   },
   "file_extension": ".py",
   "mimetype": "text/x-python",
   "name": "python",
   "nbconvert_exporter": "python",
   "pygments_lexer": "ipython3",
   "version": "3.10.13"
  }
 },
 "nbformat": 4,
 "nbformat_minor": 5
}
