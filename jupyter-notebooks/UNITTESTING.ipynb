{
 "cells": [
  {
   "cell_type": "code",
   "execution_count": null,
   "id": "7e0c4743-94bd-441e-b169-a07eccaeed9f",
   "metadata": {},
   "outputs": [],
   "source": []
  },
  {
   "cell_type": "code",
   "execution_count": null,
   "id": "a1002570-eccf-48cc-a51c-59f4847c224a",
   "metadata": {},
   "outputs": [],
   "source": []
  },
  {
   "cell_type": "code",
   "execution_count": null,
   "id": "9ef16ead-28ab-41cb-b23f-0111938f5c42",
   "metadata": {},
   "outputs": [],
   "source": []
  },
  {
   "cell_type": "code",
   "execution_count": null,
   "id": "839e3f98-9c2d-486b-94ea-8e3e9348632d",
   "metadata": {},
   "outputs": [],
   "source": []
  },
  {
   "cell_type": "code",
   "execution_count": 1,
   "id": "eea777aa-bb53-434e-9473-82c9c6e8ee8c",
   "metadata": {},
   "outputs": [
    {
     "ename": "NameError",
     "evalue": "name 'Image' is not defined",
     "output_type": "error",
     "traceback": [
      "\u001b[0;31m---------------------------------------------------------------------------\u001b[0m",
      "\u001b[0;31mNameError\u001b[0m                                 Traceback (most recent call last)",
      "Cell \u001b[0;32mIn[1], line 4\u001b[0m\n\u001b[1;32m      1\u001b[0m size \u001b[38;5;241m=\u001b[39m (\u001b[38;5;241m100\u001b[39m,\u001b[38;5;241m80\u001b[39m)\n\u001b[1;32m      2\u001b[0m size_buffer \u001b[38;5;241m=\u001b[39m \u001b[38;5;241m5\u001b[39m\n\u001b[0;32m----> 4\u001b[0m image \u001b[38;5;241m=\u001b[39m \u001b[43mImage\u001b[49m(random_seed\u001b[38;5;241m=\u001b[39m\u001b[38;5;241m100\u001b[39m)\n\u001b[1;32m      5\u001b[0m particles \u001b[38;5;241m=\u001b[39m Particle(\u001b[38;5;241m1\u001b[39m,\n\u001b[1;32m      6\u001b[0m                      size\u001b[38;5;241m=\u001b[39msize,\n\u001b[1;32m      7\u001b[0m                      size_buffer\u001b[38;5;241m=\u001b[39msize_buffer)\n\u001b[1;32m      9\u001b[0m image\u001b[38;5;241m.\u001b[39madd_particles(particles)\n",
      "\u001b[0;31mNameError\u001b[0m: name 'Image' is not defined"
     ]
    }
   ],
   "source": [
    "size = (100,80)\n",
    "size_buffer = 5\n",
    "\n",
    "image = Image(random_seed=100)\n",
    "particles = Particle(1,\n",
    "                     size=size,\n",
    "                     size_buffer=size_buffer)\n",
    "\n",
    "image.add_particles(particles)\n",
    "\n",
    "self.assertTrue(image.images_I1[0].shape[0] == 105)\n",
    "self.assertTrue(image.images_I1[0].shape[1] == 85)\n",
    "\n",
    "self.assertTrue(image.images_I1_no_buffer is None)\n",
    "self.assertTrue(image.images_I2_no_buffer is None)\n",
    "\n",
    "image.remove_buffers()\n",
    "\n",
    "self.assertTrue(image.images_I1_no_buffer is not None)\n",
    "self.assertTrue(image.images_I2_no_buffer is None)\n",
    "\n",
    "self.assertTrue(image.images_I1_no_buffer[0].shape[0] == 100)\n",
    "self.assertTrue(image.images_I1_no_buffer[0].shape[1] == 80)\n",
    "\n",
    "self.assertTrue(image.images_I1[0].shape[0] == 105)\n",
    "self.assertTrue(image.images_I1[0].shape[1] == 85)\n"
   ]
  },
  {
   "cell_type": "code",
   "execution_count": null,
   "id": "6fa68a84-dbc7-42f3-90e8-8823e300bb8c",
   "metadata": {},
   "outputs": [],
   "source": []
  },
  {
   "cell_type": "code",
   "execution_count": null,
   "id": "b4ea14ca-ccb4-416d-b5df-2106bf381953",
   "metadata": {},
   "outputs": [],
   "source": []
  }
 ],
 "metadata": {
  "kernelspec": {
   "display_name": "Python 3 (ipykernel)",
   "language": "python",
   "name": "python3"
  },
  "language_info": {
   "codemirror_mode": {
    "name": "ipython",
    "version": 3
   },
   "file_extension": ".py",
   "mimetype": "text/x-python",
   "name": "python",
   "nbconvert_exporter": "python",
   "pygments_lexer": "ipython3",
   "version": "3.10.13"
  }
 },
 "nbformat": 4,
 "nbformat_minor": 5
}
