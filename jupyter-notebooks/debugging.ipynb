{
 "cells": [
  {
   "cell_type": "markdown",
   "id": "d34af596-a25d-4bc3-bb4c-8cc5ca79a2bc",
   "metadata": {},
   "source": [
    "# Notebook for debugging\n",
    "\n",
    "***"
   ]
  },
  {
   "cell_type": "code",
   "execution_count": 1,
   "id": "c09c299e-f3c9-4540-be38-ce1c0d34a5a9",
   "metadata": {},
   "outputs": [
    {
     "name": "stdout",
     "output_type": "stream",
     "text": [
      "Python==3.10.13\n",
      "\n",
      "numpy==1.26.3\n",
      "pandas==2.2.0\n"
     ]
    }
   ],
   "source": [
    "%run -i imports.py\n",
    "%matplotlib inline"
   ]
  },
  {
   "cell_type": "markdown",
   "id": "f11826a6-d2db-458f-86c7-b363d336482f",
   "metadata": {},
   "source": [
    "***"
   ]
  },
  {
   "cell_type": "code",
   "execution_count": 2,
   "id": "668c1c86-28d6-4306-86a9-64994f39d562",
   "metadata": {},
   "outputs": [],
   "source": [
    "from pypiv import Particle, Image\n",
    "\n",
    "particles = Particle(1, \n",
    "                     size=(512,512), \n",
    "                     densities=(0.05,0.1),\n",
    "                     diameters=(3,6),\n",
    "                     distances=(1,1),\n",
    "                     seeding_mode='random', \n",
    "                     random_seed=100)"
   ]
  },
  {
   "cell_type": "code",
   "execution_count": 3,
   "id": "2c9f723f-afb4-4b59-ba0c-5875dede072c",
   "metadata": {},
   "outputs": [],
   "source": [
    "particles.seed_particles()"
   ]
  },
  {
   "cell_type": "code",
   "execution_count": 4,
   "id": "e3b9684b-cc7b-45d6-9616-5917767c449a",
   "metadata": {},
   "outputs": [],
   "source": [
    "image = Image(size=(512,512))"
   ]
  },
  {
   "cell_type": "code",
   "execution_count": 5,
   "id": "edde6684-d987-4327-979d-03733f51bd2c",
   "metadata": {},
   "outputs": [
    {
     "name": "stdout",
     "output_type": "stream",
     "text": [
      "Particles added to the image.\n"
     ]
    }
   ],
   "source": [
    "image.add_particles(particles)"
   ]
  },
  {
   "cell_type": "code",
   "execution_count": null,
   "id": "b6221954-0c64-47b7-89d0-03e81ff0bffa",
   "metadata": {},
   "outputs": [],
   "source": [
    "image.plot(0, \n",
    "           cmap='Greys_r',\n",
    "           figsize=(6,6));"
   ]
  },
  {
   "cell_type": "code",
   "execution_count": null,
   "id": "4190c398-b85c-4525-8b14-b2def4e1ce32",
   "metadata": {},
   "outputs": [],
   "source": [
    "image.add_gaussian_light_distribution(exposures=(0.02,0.8),\n",
    "                                      maximum_intensity=2**16-1,\n",
    "                                      laser_beam_thickness=2,\n",
    "                                      laser_over_exposure=1,\n",
    "                                      laser_beam_shape=0.1)"
   ]
  },
  {
   "cell_type": "code",
   "execution_count": null,
   "id": "90023a6c-6119-44e9-bbaf-9c6a3018483c",
   "metadata": {},
   "outputs": [],
   "source": [
    "image.plot(0, \n",
    "           cmap='Greys_r',\n",
    "           figsize=(6,6), filename='image.png');"
   ]
  },
  {
   "cell_type": "code",
   "execution_count": null,
   "id": "79d28576-1917-4ffd-aac4-63944612a272",
   "metadata": {},
   "outputs": [],
   "source": [
    "image.plot(0, \n",
    "           cmap='Greys_r',\n",
    "           figsize=(6,6), filename='image.png');"
   ]
  },
  {
   "cell_type": "code",
   "execution_count": null,
   "id": "e2c702a4-a0b4-494e-bcca-a1118146e387",
   "metadata": {},
   "outputs": [],
   "source": []
  },
  {
   "cell_type": "code",
   "execution_count": null,
   "id": "be943c7b-3a2a-423d-89cb-75fec9e7207c",
   "metadata": {},
   "outputs": [],
   "source": []
  },
  {
   "cell_type": "code",
   "execution_count": null,
   "id": "1bd46408-d93b-4997-a294-05687372ff04",
   "metadata": {},
   "outputs": [],
   "source": []
  },
  {
   "cell_type": "code",
   "execution_count": null,
   "id": "701a8939-c571-4105-ac47-c5ab9ab6f26b",
   "metadata": {},
   "outputs": [],
   "source": []
  },
  {
   "cell_type": "markdown",
   "id": "5e17063f-c88b-49e4-a3e1-5d90293b68f2",
   "metadata": {},
   "source": [
    "***"
   ]
  }
 ],
 "metadata": {
  "kernelspec": {
   "display_name": "Python 3 (ipykernel)",
   "language": "python",
   "name": "python3"
  },
  "language_info": {
   "codemirror_mode": {
    "name": "ipython",
    "version": 3
   },
   "file_extension": ".py",
   "mimetype": "text/x-python",
   "name": "python",
   "nbconvert_exporter": "python",
   "pygments_lexer": "ipython3",
   "version": "3.10.13"
  }
 },
 "nbformat": 4,
 "nbformat_minor": 5
}
