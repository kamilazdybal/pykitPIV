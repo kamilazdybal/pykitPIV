{
 "cells": [
  {
   "cell_type": "markdown",
   "id": "d34af596-a25d-4bc3-bb4c-8cc5ca79a2bc",
   "metadata": {},
   "source": [
    "# Notebook for debugging\n",
    "\n",
    "***"
   ]
  },
  {
   "cell_type": "code",
   "execution_count": 1,
   "id": "c09c299e-f3c9-4540-be38-ce1c0d34a5a9",
   "metadata": {},
   "outputs": [
    {
     "name": "stdout",
     "output_type": "stream",
     "text": [
      "Python==3.10.13\n",
      "\n",
      "numpy==1.26.3\n",
      "pandas==2.2.0\n"
     ]
    }
   ],
   "source": [
    "%run -i imports.py\n",
    "%matplotlib inline"
   ]
  },
  {
   "cell_type": "markdown",
   "id": "f11826a6-d2db-458f-86c7-b363d336482f",
   "metadata": {},
   "source": [
    "***"
   ]
  },
  {
   "cell_type": "code",
   "execution_count": 14,
   "id": "668c1c86-28d6-4306-86a9-64994f39d562",
   "metadata": {},
   "outputs": [],
   "source": [
    "particles = pypiv.Particle(4, \n",
    "                           size=(512,512), \n",
    "                           densities=(0.05,0.1),\n",
    "                           diameters=(10,10),\n",
    "                           distances=(1,1),\n",
    "                           seeding_mode='random', \n",
    "                           random_seed=101)"
   ]
  },
  {
   "cell_type": "code",
   "execution_count": null,
   "id": "284fa551-f2a7-41a2-8834-35edcff0f8a0",
   "metadata": {},
   "outputs": [],
   "source": [
    "particles.density_per_image"
   ]
  },
  {
   "cell_type": "code",
   "execution_count": null,
   "id": "edde6684-d987-4327-979d-03733f51bd2c",
   "metadata": {},
   "outputs": [],
   "source": [
    "particles.n_of_particles"
   ]
  },
  {
   "cell_type": "code",
   "execution_count": null,
   "id": "bfcebaf0-ce54-4b60-9fe9-3769eca54e83",
   "metadata": {},
   "outputs": [],
   "source": [
    "seeded_images = particles.seed_particles()"
   ]
  },
  {
   "cell_type": "code",
   "execution_count": null,
   "id": "98536b02-e909-490b-be52-2d8a0771edc2",
   "metadata": {},
   "outputs": [],
   "source": [
    "init_image = pypiv.Image(particles)"
   ]
  },
  {
   "cell_type": "code",
   "execution_count": null,
   "id": "d4dca180-7f8e-467d-b118-9921fa016208",
   "metadata": {},
   "outputs": [],
   "source": [
    "init_image.empty_image"
   ]
  },
  {
   "cell_type": "code",
   "execution_count": null,
   "id": "381fd555-2252-49bd-b2e3-bf72d9a080cb",
   "metadata": {},
   "outputs": [],
   "source": [
    "pypiv.plot_image(seeded_images[0], cmap='Greys_r', figsize=(6,6));"
   ]
  },
  {
   "cell_type": "code",
   "execution_count": null,
   "id": "3e40e80c-fa3d-4a39-aad9-fa6d7aba9e82",
   "metadata": {},
   "outputs": [],
   "source": []
  },
  {
   "cell_type": "code",
   "execution_count": null,
   "id": "5390c803-e87e-4b41-951b-84fe2514469b",
   "metadata": {},
   "outputs": [],
   "source": []
  },
  {
   "cell_type": "code",
   "execution_count": null,
   "id": "262e84ec-81ff-4b12-8523-de8a34b1496a",
   "metadata": {},
   "outputs": [],
   "source": []
  },
  {
   "cell_type": "code",
   "execution_count": null,
   "id": "32b2a9b1-51a0-4223-9f5d-4c101b68d77f",
   "metadata": {},
   "outputs": [],
   "source": []
  },
  {
   "cell_type": "code",
   "execution_count": null,
   "id": "2d4b854b-11bf-4a02-bf77-95ae2d549b26",
   "metadata": {},
   "outputs": [],
   "source": []
  },
  {
   "cell_type": "code",
   "execution_count": null,
   "id": "331dc400-b39e-44d5-8a92-5eb6acfb3a6c",
   "metadata": {},
   "outputs": [],
   "source": []
  },
  {
   "cell_type": "code",
   "execution_count": null,
   "id": "701a8939-c571-4105-ac47-c5ab9ab6f26b",
   "metadata": {},
   "outputs": [],
   "source": []
  },
  {
   "cell_type": "markdown",
   "id": "5e17063f-c88b-49e4-a3e1-5d90293b68f2",
   "metadata": {},
   "source": [
    "***"
   ]
  }
 ],
 "metadata": {
  "kernelspec": {
   "display_name": "Python 3 (ipykernel)",
   "language": "python",
   "name": "python3"
  },
  "language_info": {
   "codemirror_mode": {
    "name": "ipython",
    "version": 3
   },
   "file_extension": ".py",
   "mimetype": "text/x-python",
   "name": "python",
   "nbconvert_exporter": "python",
   "pygments_lexer": "ipython3",
   "version": "3.10.13"
  }
 },
 "nbformat": 4,
 "nbformat_minor": 5
}
