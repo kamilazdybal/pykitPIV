{
 "cells": [
  {
   "cell_type": "markdown",
   "id": "d34af596-a25d-4bc3-bb4c-8cc5ca79a2bc",
   "metadata": {},
   "source": [
    "# Notebook for debugging\n",
    "\n",
    "***"
   ]
  },
  {
   "cell_type": "code",
   "execution_count": null,
   "id": "c09c299e-f3c9-4540-be38-ce1c0d34a5a9",
   "metadata": {},
   "outputs": [],
   "source": [
    "%run -i imports.py\n",
    "%matplotlib inline"
   ]
  },
  {
   "cell_type": "code",
   "execution_count": null,
   "id": "9784ce47-1361-41ea-be98-b5f210e933c7",
   "metadata": {},
   "outputs": [],
   "source": [
    "image_size = (128,128)"
   ]
  },
  {
   "cell_type": "markdown",
   "id": "f11826a6-d2db-458f-86c7-b363d336482f",
   "metadata": {},
   "source": [
    "***"
   ]
  },
  {
   "cell_type": "code",
   "execution_count": null,
   "id": "668c1c86-28d6-4306-86a9-64994f39d562",
   "metadata": {},
   "outputs": [],
   "source": [
    "from pypiv import Particle, Image\n",
    "\n",
    "particles = Particle(1, \n",
    "                     size=image_size, \n",
    "                     densities=(0.01,0.05),\n",
    "                     diameters=(3,6),\n",
    "                     distances=(1,1),\n",
    "                     diameter_std=0.1,\n",
    "                     seeding_mode='random', \n",
    "                     random_seed=None)"
   ]
  },
  {
   "cell_type": "code",
   "execution_count": null,
   "id": "f6e73f91-971b-48fb-9010-d9db07eaa178",
   "metadata": {},
   "outputs": [],
   "source": [
    "particles.diameter_per_image"
   ]
  },
  {
   "cell_type": "code",
   "execution_count": null,
   "id": "3995ad9f-932e-4b67-afe3-6c0e410be6e8",
   "metadata": {},
   "outputs": [],
   "source": [
    "particles.particle_diameters"
   ]
  },
  {
   "cell_type": "code",
   "execution_count": null,
   "id": "e3b9684b-cc7b-45d6-9616-5917767c449a",
   "metadata": {},
   "outputs": [],
   "source": [
    "image = Image(size=image_size, \n",
    "              random_seed=100)"
   ]
  },
  {
   "cell_type": "code",
   "execution_count": null,
   "id": "edde6684-d987-4327-979d-03733f51bd2c",
   "metadata": {},
   "outputs": [],
   "source": [
    "image.add_particles(particles)"
   ]
  },
  {
   "cell_type": "code",
   "execution_count": null,
   "id": "b6221954-0c64-47b7-89d0-03e81ff0bffa",
   "metadata": {},
   "outputs": [],
   "source": [
    "image.plot(0, \n",
    "           xlabel='Width [px]',\n",
    "           ylabel='Height [px]',\n",
    "           title='Particle positions',\n",
    "           cmap='Reds',\n",
    "           figsize=(5,4), \n",
    "           filename='particle-positions.png');"
   ]
  },
  {
   "cell_type": "code",
   "execution_count": null,
   "id": "4190c398-b85c-4525-8b14-b2def4e1ce32",
   "metadata": {},
   "outputs": [],
   "source": [
    "image.add_reflected_light(exposures=(0.02,0.8),\n",
    "                          maximum_intensity=2**16-1,\n",
    "                          laser_beam_thickness=2,\n",
    "                          laser_over_exposure=1,\n",
    "                          laser_beam_shape=0.15, \n",
    "                          alpha=1/8)"
   ]
  },
  {
   "cell_type": "code",
   "execution_count": null,
   "id": "79d28576-1917-4ffd-aac4-63944612a272",
   "metadata": {},
   "outputs": [],
   "source": [
    "image.plot(0, \n",
    "           xlabel='Width [px]',\n",
    "           ylabel='Height [px]',\n",
    "           title='Example PIV image',\n",
    "           cmap='Greys_r',\n",
    "           figsize=(5,4), \n",
    "           filename='example-image.png');"
   ]
  },
  {
   "cell_type": "markdown",
   "id": "5e17063f-c88b-49e4-a3e1-5d90293b68f2",
   "metadata": {},
   "source": [
    "***"
   ]
  },
  {
   "cell_type": "code",
   "execution_count": null,
   "id": "e0a162cd-b86a-4c94-976f-739fdb0b8384",
   "metadata": {},
   "outputs": [],
   "source": []
  },
  {
   "cell_type": "code",
   "execution_count": null,
   "id": "8be1bab3-41f6-4078-960b-d6e9d174bde3",
   "metadata": {},
   "outputs": [],
   "source": []
  }
 ],
 "metadata": {
  "kernelspec": {
   "display_name": "Python 3 (ipykernel)",
   "language": "python",
   "name": "python3"
  },
  "language_info": {
   "codemirror_mode": {
    "name": "ipython",
    "version": 3
   },
   "file_extension": ".py",
   "mimetype": "text/x-python",
   "name": "python",
   "nbconvert_exporter": "python",
   "pygments_lexer": "ipython3",
   "version": "3.10.13"
  }
 },
 "nbformat": 4,
 "nbformat_minor": 5
}
