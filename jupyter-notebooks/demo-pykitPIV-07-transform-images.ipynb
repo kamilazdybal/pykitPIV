{
 "cells": [
  {
   "cell_type": "markdown",
   "id": "d34af596-a25d-4bc3-bb4c-8cc5ca79a2bc",
   "metadata": {},
   "source": [
    "<a id=top-page></a>\n",
    "# `pykitPIV` demo: Transform images\n",
    "\n",
    "<div class=\"alert alert-block alert-info\" style=\"margin-top: 20px\">\n",
    "<font size=\"3\"><strong>Table of contents:</strong></font>\n",
    "<br>\n",
    "<ol>\n",
    "    <li><a href=\"#upload\">Upload the saved datasets</a></li>\n",
    "</ol>\n",
    "<p></p>\n",
    "</div>\n",
    "<br>\n",
    "\n",
    "***"
   ]
  },
  {
   "cell_type": "code",
   "execution_count": null,
   "id": "b31c20d3-0b0e-419a-aa20-faf737bad71a",
   "metadata": {},
   "outputs": [],
   "source": [
    "import matplotlib.pyplot as plt"
   ]
  },
  {
   "cell_type": "code",
   "execution_count": null,
   "id": "c09c299e-f3c9-4540-be38-ce1c0d34a5a9",
   "metadata": {},
   "outputs": [],
   "source": [
    "import numpy as np\n",
    "import cmcrameri.cm as cmc\n",
    "from pykitPIV import Image"
   ]
  },
  {
   "cell_type": "markdown",
   "id": "eacd6e50-34ba-4eaa-bbcb-f53cdc8d4d3f",
   "metadata": {},
   "source": [
    "<a id=upload></a>\n",
    "***\n",
    "\n",
    "## Upload the saved dataset\n",
    "\n",
    "[Go to the top](#top-page)"
   ]
  },
  {
   "cell_type": "markdown",
   "id": "9e0a4f8e-3dd3-456e-b3bd-6ca49475104b",
   "metadata": {},
   "source": [
    "The standalone import of previously saved PIV image pairs and the associated targets can be performed following this minimal example:"
   ]
  },
  {
   "cell_type": "code",
   "execution_count": null,
   "id": "dc7432b6-216a-4533-a136-1ffbf17738cb",
   "metadata": {},
   "outputs": [],
   "source": [
    "from pykitPIV import Image"
   ]
  },
  {
   "cell_type": "code",
   "execution_count": null,
   "id": "0b7a29d9-49a2-4dd3-afa6-9310658d07ca",
   "metadata": {},
   "outputs": [],
   "source": [
    "image = Image()"
   ]
  },
  {
   "cell_type": "code",
   "execution_count": null,
   "id": "8c7f8177-87c4-46e6-81e9-d7c4af988e8b",
   "metadata": {},
   "outputs": [],
   "source": [
    "images_tensor_dic = image.upload_from_h5(filename='pykitPIV-tutorial-PIV-pairs.h5')"
   ]
  },
  {
   "cell_type": "code",
   "execution_count": null,
   "id": "e455fb8f-155a-4bb4-8cbc-a881b611a4bc",
   "metadata": {},
   "outputs": [],
   "source": [
    "images_tensor = images_tensor_dic['I']"
   ]
  },
  {
   "cell_type": "code",
   "execution_count": null,
   "id": "eb8e5afb-6f6d-4296-aeaf-5c20a2b9c1c2",
   "metadata": {},
   "outputs": [],
   "source": [
    "images_tensor = images_tensor[:,0,:,:]"
   ]
  },
  {
   "cell_type": "code",
   "execution_count": null,
   "id": "1c2328f8-d8dd-4ad0-b459-2f88a389b1cf",
   "metadata": {},
   "outputs": [],
   "source": [
    "images_tensor.shape"
   ]
  },
  {
   "cell_type": "code",
   "execution_count": null,
   "id": "12b2d89d-700c-45af-8446-1388f082f4b6",
   "metadata": {},
   "outputs": [],
   "source": [
    "log_transformed_images_tensor = image.log_transform_images(images_tensor, \n",
    "                                                           addition=10000)"
   ]
  },
  {
   "cell_type": "code",
   "execution_count": null,
   "id": "65c0ab74-dfd9-441c-ab68-3b716aa6841b",
   "metadata": {},
   "outputs": [],
   "source": [
    "log_transformed_images_tensor.shape"
   ]
  },
  {
   "cell_type": "code",
   "execution_count": null,
   "id": "3abc197c-76ff-46a4-9e18-978ef530c04f",
   "metadata": {},
   "outputs": [],
   "source": [
    "plt.imshow(log_transformed_images_tensor[0,:,:], cmap='Greys_r', origin='lower')"
   ]
  },
  {
   "cell_type": "code",
   "execution_count": null,
   "id": "4a02b60a-1ee3-4acd-95e5-a65198d6facb",
   "metadata": {},
   "outputs": [],
   "source": [
    "plt.imshow(images_tensor[0,:,:], cmap='Greys_r', origin='lower')"
   ]
  },
  {
   "cell_type": "code",
   "execution_count": null,
   "id": "facb8cbc-539c-4fd5-b488-bd18540509a3",
   "metadata": {},
   "outputs": [],
   "source": []
  },
  {
   "cell_type": "code",
   "execution_count": null,
   "id": "d2a21875-07c0-48a8-bbe1-6b4927252b73",
   "metadata": {},
   "outputs": [],
   "source": []
  },
  {
   "cell_type": "code",
   "execution_count": null,
   "id": "23b36615-5c93-4afe-b589-574fe445fdb0",
   "metadata": {},
   "outputs": [],
   "source": []
  },
  {
   "cell_type": "code",
   "execution_count": null,
   "id": "b8b21b33-1782-42ba-b2d5-2fca88fce156",
   "metadata": {},
   "outputs": [],
   "source": []
  },
  {
   "cell_type": "code",
   "execution_count": null,
   "id": "971bf8e6-0832-4ca7-9062-b26b388a5dbb",
   "metadata": {},
   "outputs": [],
   "source": []
  },
  {
   "cell_type": "code",
   "execution_count": null,
   "id": "9032db79-6ad8-4616-8b1c-317fb5c15bd6",
   "metadata": {},
   "outputs": [],
   "source": []
  },
  {
   "cell_type": "code",
   "execution_count": null,
   "id": "83711e95-5a2d-4f99-844f-3de824230cd4",
   "metadata": {},
   "outputs": [],
   "source": []
  },
  {
   "cell_type": "code",
   "execution_count": null,
   "id": "0a1ffc77-f5bd-4b49-b242-03e49d2297f5",
   "metadata": {},
   "outputs": [],
   "source": []
  },
  {
   "cell_type": "code",
   "execution_count": null,
   "id": "e7f820a9-8470-4603-8145-1f7fe4eb35df",
   "metadata": {},
   "outputs": [],
   "source": []
  },
  {
   "cell_type": "markdown",
   "id": "5e17063f-c88b-49e4-a3e1-5d90293b68f2",
   "metadata": {},
   "source": [
    "***"
   ]
  }
 ],
 "metadata": {
  "kernelspec": {
   "display_name": "Python 3 (ipykernel)",
   "language": "python",
   "name": "python3"
  },
  "language_info": {
   "codemirror_mode": {
    "name": "ipython",
    "version": 3
   },
   "file_extension": ".py",
   "mimetype": "text/x-python",
   "name": "python",
   "nbconvert_exporter": "python",
   "pygments_lexer": "ipython3",
   "version": "3.10.12"
  }
 },
 "nbformat": 4,
 "nbformat_minor": 5
}
