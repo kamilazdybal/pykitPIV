{
 "cells": [
  {
   "cell_type": "code",
   "execution_count": 5,
   "id": "eb597daa-b5d1-4733-b0a8-e8eca68a95dd",
   "metadata": {},
   "outputs": [],
   "source": [
    "import numpy as np\n",
    "import matplotlib.pyplot as plt"
   ]
  },
  {
   "cell_type": "code",
   "execution_count": 6,
   "id": "9fcdee27-01ea-43d9-8f9e-5a57ecafcf74",
   "metadata": {},
   "outputs": [],
   "source": [
    "size = (5,5)"
   ]
  },
  {
   "cell_type": "code",
   "execution_count": 8,
   "id": "d389f973-bdb9-4431-8694-6eb3fab52b61",
   "metadata": {},
   "outputs": [],
   "source": [
    "n_particles = 1"
   ]
  },
  {
   "cell_type": "code",
   "execution_count": 9,
   "id": "d2ac6fcb-a3c4-4d3a-92b4-1cb62fd1d2ce",
   "metadata": {},
   "outputs": [],
   "source": [
    "y_coordinates = size[0] * np.random.rand(n_particles)"
   ]
  },
  {
   "cell_type": "code",
   "execution_count": 10,
   "id": "88acdf8e-d0e0-4073-8b71-8bdf28b3d325",
   "metadata": {},
   "outputs": [],
   "source": [
    "x_coordinates = size[1] * np.random.rand(n_particles)"
   ]
  },
  {
   "cell_type": "code",
   "execution_count": 11,
   "id": "a3c6644a-9d3f-409e-9c0c-1da4a54d7505",
   "metadata": {},
   "outputs": [
    {
     "data": {
      "text/plain": [
       "array([1.39184693])"
      ]
     },
     "execution_count": 11,
     "metadata": {},
     "output_type": "execute_result"
    }
   ],
   "source": [
    "x_coordinates"
   ]
  },
  {
   "cell_type": "code",
   "execution_count": 12,
   "id": "e13f77aa-6bf6-42e6-bc89-f4c2f714b25d",
   "metadata": {},
   "outputs": [
    {
     "data": {
      "text/plain": [
       "array([2.71702471])"
      ]
     },
     "execution_count": 12,
     "metadata": {},
     "output_type": "execute_result"
    }
   ],
   "source": [
    "y_coordinates"
   ]
  },
  {
   "cell_type": "code",
   "execution_count": 13,
   "id": "94ea76f5-816a-4251-97ef-7d66e9b26bde",
   "metadata": {},
   "outputs": [
    {
     "data": {
      "image/png": "[encoded data removed]",
      "text/plain": [
       "<Figure size 1000x500 with 1 Axes>"
      ]
     },
     "metadata": {},
     "output_type": "display_data"
    }
   ],
   "source": [
    "fig = plt.figure(figsize=(10,5))\n",
    "plt.scatter(x_coordinates, y_coordinates, c='k', s=2)\n",
    "plt.axis('equal')\n",
    "plt.xlim([0,size[1]])\n",
    "plt.ylim([0,size[0]])\n",
    "# plt.yticks([0,1,2,3])\n",
    "plt.grid(alpha=1)"
   ]
  },
  {
   "cell_type": "code",
   "execution_count": 14,
   "id": "abc02ace-809a-459c-9f8f-e8f99e309599",
   "metadata": {},
   "outputs": [
    {
     "data": {
      "text/plain": [
       "array([1])"
      ]
     },
     "execution_count": 14,
     "metadata": {},
     "output_type": "execute_result"
    }
   ],
   "source": [
    "np.floor(x_coordinates).astype(int)"
   ]
  },
  {
   "cell_type": "code",
   "execution_count": 15,
   "id": "79036032-0b4e-4e5f-91c4-001c10a46efd",
   "metadata": {},
   "outputs": [
    {
     "data": {
      "text/plain": [
       "array([2])"
      ]
     },
     "execution_count": 15,
     "metadata": {},
     "output_type": "execute_result"
    }
   ],
   "source": [
    "np.floor(y_coordinates).astype(int)"
   ]
  },
  {
   "cell_type": "code",
   "execution_count": 16,
   "id": "16e1e656-d080-4be0-9f15-566775195813",
   "metadata": {},
   "outputs": [],
   "source": [
    "empty_image = np.zeros(size)\n",
    "\n",
    "for x, y in zip(np.floor(x_coordinates).astype(int), np.floor(y_coordinates).astype(int)):\n",
    "\n",
    "    empty_image[y , x] += 1"
   ]
  },
  {
   "cell_type": "code",
   "execution_count": 17,
   "id": "ebbbdbbe-3754-4b0b-a3cd-7f4abe727b20",
   "metadata": {},
   "outputs": [
    {
     "data": {
      "text/plain": [
       "array([[0., 0., 0., 0., 0.],\n",
       "       [0., 0., 0., 0., 0.],\n",
       "       [0., 1., 0., 0., 0.],\n",
       "       [0., 0., 0., 0., 0.],\n",
       "       [0., 0., 0., 0., 0.]])"
      ]
     },
     "execution_count": 17,
     "metadata": {},
     "output_type": "execute_result"
    }
   ],
   "source": [
    "empty_image"
   ]
  },
  {
   "cell_type": "code",
   "execution_count": 18,
   "id": "1bca1dc1-148d-4dfa-9272-83aa29159867",
   "metadata": {},
   "outputs": [
    {
     "data": {
      "text/plain": [
       "<matplotlib.image.AxesImage at 0x7fedea6c5ea0>"
      ]
     },
     "execution_count": 18,
     "metadata": {},
     "output_type": "execute_result"
    },
    {
     "data": {
      "image/png": "[encoded data removed]",
      "text/plain": [
       "<Figure size 640x480 with 1 Axes>"
      ]
     },
     "metadata": {},
     "output_type": "display_data"
    }
   ],
   "source": [
    "# fig = plt.figure(figsize=(10,5))\n",
    "plt.imshow(empty_image, cmap='jet', origin='lower')\n",
    "# plt.colorbar()"
   ]
  },
  {
   "cell_type": "code",
   "execution_count": null,
   "id": "c83a2cb7-79f7-4858-9a3d-693b07fc807a",
   "metadata": {},
   "outputs": [],
   "source": []
  },
  {
   "cell_type": "code",
   "execution_count": null,
   "id": "f01de083-5f50-4bf5-9f93-7c5ad0113201",
   "metadata": {},
   "outputs": [],
   "source": []
  },
  {
   "cell_type": "code",
   "execution_count": null,
   "id": "cac8d17c-0655-4346-a724-130e42c69f31",
   "metadata": {},
   "outputs": [],
   "source": []
  },
  {
   "cell_type": "code",
   "execution_count": null,
   "id": "d3a64993-f38c-4d66-9fc1-08681b27eaba",
   "metadata": {},
   "outputs": [],
   "source": []
  },
  {
   "cell_type": "code",
   "execution_count": 1,
   "id": "7342741b-466e-47b3-814a-e567e69fa7d4",
   "metadata": {},
   "outputs": [],
   "source": [
    "from pykitPIV import Image"
   ]
  },
  {
   "cell_type": "code",
   "execution_count": 2,
   "id": "180cb76f-87a0-44f7-8d5c-5f244422836f",
   "metadata": {},
   "outputs": [],
   "source": [
    "image = Image(random_seed=100)"
   ]
  },
  {
   "cell_type": "code",
   "execution_count": 3,
   "id": "ec4df89c-4b80-4807-937a-31b953afcbc3",
   "metadata": {},
   "outputs": [],
   "source": [
    "particle_height_coordinate = 2.9\n",
    "particle_width_coordinate = 2.8\n",
    "image_size = (6,5)\n",
    "diameter=1"
   ]
  },
  {
   "cell_type": "code",
   "execution_count": 4,
   "id": "49620535-351e-4513-9a54-28aaa2a773fb",
   "metadata": {},
   "outputs": [
    {
     "ename": "NameError",
     "evalue": "name 'np' is not defined",
     "output_type": "error",
     "traceback": [
      "\u001b[0;31m---------------------------------------------------------------------------\u001b[0m",
      "\u001b[0;31mNameError\u001b[0m                                 Traceback (most recent call last)",
      "Cell \u001b[0;32mIn[4], line 1\u001b[0m\n\u001b[0;32m----> 1\u001b[0m particles_with_gaussian_light \u001b[38;5;241m=\u001b[39m \u001b[43mnp\u001b[49m\u001b[38;5;241m.\u001b[39mzeros(image_size)\n\u001b[1;32m      3\u001b[0m px_c_height \u001b[38;5;241m=\u001b[39m np\u001b[38;5;241m.\u001b[39mfloor(particle_height_coordinate)\u001b[38;5;241m.\u001b[39mastype(\u001b[38;5;28mint\u001b[39m)\n\u001b[1;32m      4\u001b[0m px_c_width \u001b[38;5;241m=\u001b[39m np\u001b[38;5;241m.\u001b[39mfloor(particle_width_coordinate)\u001b[38;5;241m.\u001b[39mastype(\u001b[38;5;28mint\u001b[39m)\n",
      "\u001b[0;31mNameError\u001b[0m: name 'np' is not defined"
     ]
    }
   ],
   "source": [
    "particles_with_gaussian_light = np.zeros(image_size)\n",
    "\n",
    "px_c_height = np.floor(particle_height_coordinate).astype(int)\n",
    "px_c_width = np.floor(particle_width_coordinate).astype(int)\n",
    "ceil_of_particle_radius = np.ceil(diameter/2).astype(int)\n",
    "\n",
    "for h in range(px_c_height-ceil_of_particle_radius, px_c_height+ceil_of_particle_radius+1):\n",
    "    for w in range(px_c_width-ceil_of_particle_radius, px_c_width+ceil_of_particle_radius+1):\n",
    "\n",
    "        # Only change the value of pixels that are within the image area:\n",
    "        if (h >= 0 and h < image_size[0]) and (w >= 0 and w < image_size[1]):\n",
    "\n",
    "            coordinate_height = h + 0.5 - particle_height_coordinate\n",
    "            coordinate_width = w + 0.5 - particle_width_coordinate\n",
    "\n",
    "            print(\"Pixel: \" + str(h) + ', '+ str(w))\n",
    "\n",
    "            print('Height: ' + str(coordinate_height))\n",
    "            print('Width: ' + str(coordinate_width))\n",
    "            print('- '*20)\n",
    "\n",
    "            particles_with_gaussian_light[h,w] = particles_with_gaussian_light[h,w] + image.compute_light_intensity_at_pixel(1,\n",
    "                                                                                                                            diameter,\n",
    "                                                                                                                            coordinate_height,\n",
    "                                                                                                                            coordinate_width,\n",
    "                                                                                                                            alpha=1)\n"
   ]
  },
  {
   "cell_type": "code",
   "execution_count": 20,
   "id": "39d4d3a1-cbaa-42b9-8e67-9ec4c7820c20",
   "metadata": {},
   "outputs": [
    {
     "data": {
      "text/plain": [
       "(2, 2)"
      ]
     },
     "execution_count": 20,
     "metadata": {},
     "output_type": "execute_result"
    }
   ],
   "source": [
    "px_c_height, px_c_width"
   ]
  },
  {
   "cell_type": "code",
   "execution_count": 21,
   "id": "81294664-65a3-4ab4-badb-73051a6c0031",
   "metadata": {},
   "outputs": [
    {
     "data": {
      "image/png": "[encoded data removed]",
      "text/plain": [
       "<Figure size 640x480 with 1 Axes>"
      ]
     },
     "metadata": {},
     "output_type": "display_data"
    }
   ],
   "source": [
    "plt.scatter(particle_width_coordinate, particle_height_coordinate, c='k')\n",
    "im = plt.imshow(particles_with_gaussian_light, origin='lower')\n",
    "plt.grid()\n",
    "f = lambda pixel: pixel + 0.5\n",
    "im.set_extent([f(x) for x in im.get_extent()])\n"
   ]
  },
  {
   "cell_type": "code",
   "execution_count": null,
   "id": "8786e21a-e7eb-469a-aba8-2fa92d679b48",
   "metadata": {},
   "outputs": [],
   "source": []
  },
  {
   "cell_type": "markdown",
   "id": "3ea7b2c9-aee6-4a21-9ce9-31bb6fc9d946",
   "metadata": {},
   "source": [
    "***"
   ]
  }
 ],
 "metadata": {
  "kernelspec": {
   "display_name": "Python 3 (ipykernel)",
   "language": "python",
   "name": "python3"
  },
  "language_info": {
   "codemirror_mode": {
    "name": "ipython",
    "version": 3
   },
   "file_extension": ".py",
   "mimetype": "text/x-python",
   "name": "python",
   "nbconvert_exporter": "python",
   "pygments_lexer": "ipython3",
   "version": "3.10.13"
  }
 },
 "nbformat": 4,
 "nbformat_minor": 5
}
